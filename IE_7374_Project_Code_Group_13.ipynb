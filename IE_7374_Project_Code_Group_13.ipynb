{
  "cells": [
    {
      "cell_type": "markdown",
      "metadata": {
        "id": "view-in-github",
        "colab_type": "text"
      },
      "source": [
        "<a href=\"https://colab.research.google.com/github/Namratabhartiya97/IE7374-Project-Group-13/blob/main/IE_7374_Project_Code_Group_13.ipynb\" target=\"_parent\"><img src=\"https://colab.research.google.com/assets/colab-badge.svg\" alt=\"Open In Colab\"/></a>"
      ]
    },
    {
      "cell_type": "markdown",
      "metadata": {
        "id": "d2aDFS0LXjzv"
      },
      "source": [
        "**Group 13: Namrata Bhartiya, Richa Talaty**\n",
        "\n",
        "**Goal:**\n",
        "To use the Census Income dataset to classify whether a person has an income of $50K per year or \n",
        "more.\n",
        "\n",
        "\n",
        "**Dataset Description**\n",
        "Link - https://archive.ics.uci.edu/ml/datasets/Census+Income\n",
        "\n",
        "The US Adult Census dataset is a repository of 48,842 entries extracted from the 1994 US \n",
        "Census database. This dataset comprises a total of 14 attributes. There are 5 attributes which \n",
        "are continuous in nature, and 8 attributes which are categorical in nature. The target variable \n",
        "is Income, which is binary-categorical in nature with categories ‘<=50 K’ and ‘>50 K’.\n",
        "\n",
        "\n",
        "**Attributes**\n",
        "\n",
        "Continuous attributes include: \n",
        "1. age: age of the individual\n",
        "2. fnlwgt: represents how many people have the same list of features\n",
        "3. education-num: the highest level of education achieved in numerical form.\n",
        "4. capital-gain: capital gains for an individual\n",
        "5. capital-loss: capital loss for an individual\n",
        "6. hours-per-week: the hours an individual has reported to work per week\n",
        "\n",
        "\n",
        "Categorical variables include:\n",
        "1. workclass: a general term to represent the employment status of an individual. \n",
        "[Domain - Private, Self-emp-not-inc, Self-emp-inc, Federal-gov, Local-gov, \n",
        "State-gov, Without-pay, Never-worked]\n",
        "\n",
        "2. education: the highest level of education achieved by an individual. \n",
        "[Domain - Bachelors, Some-college, 11th, HS-grad, Prof-school, Assoc-acdm, Assoc-voc, \n",
        "9th, 7th-8th, 12th, Masters, 1st-4th, 10th, Doctorate, 5th-6th, Preschool]\n",
        "\n",
        "3. marital-status: marital status of an individual. \n",
        "Married--civ--spouse corresponds to a civilian spouse \n",
        "Married--AF--spouse is a spouse in the Armed Forces. \n",
        "[Domain - Married-civ-spouse, Divorced, Never-married, \n",
        "Separated, Widowed, Married-spouse-absent, Married-AF-spouse]\n",
        "\n",
        "4. occupation: the general type of occupation of an individual. \n",
        "[Domain - Tech\u0002support, Craft-repair, Other-service, Sales, Exec-managerial, Prof-specialty, \n",
        "Handlers-cleaners, Machine-op-inspct, Adm-clerical, Farming-fishing, \n",
        "Transport-moving, Priv-house-serv, Protective-serv, Armed-Forces]\n",
        "\n",
        "5. relationship: represents how this individual is related to others. \n",
        "[Domain -Wife, Own-child, Husband, Not-in-family, Other-relative, Unmarried]\n",
        "\n",
        "6. race: [Domain - White, Asian-Pac-Islander, Amer-Indian-Eskimo, Other, Black]\n",
        "\n",
        "7. sex: [Domain - Female, Male]\n",
        "\n",
        "8. native-country: \n",
        "[Domain - United-States, Cambodia, England, Puerto-Rico, \n",
        "Canada, Germany, Outlying-US(Guam-USVI-etc), India, Japan, Greece, South, \n",
        "China, Cuba, Iran, Honduras, Philippines, Italy, Poland, Jamaica, Vietnam, \n",
        "Mexico, Portugal, Ireland, France, Dominican-Republic, Laos, Ecuador, Taiwan, \n",
        "Haiti, Columbia, Hungary, Guatemala, Nicaragua, Scotland, Thailand, \n",
        "Yugoslavia, El-Salvador, Trinadad &Tobago, Peru, Hong, Holand-Netherlands]"
      ]
    },
    {
      "cell_type": "code",
      "execution_count": null,
      "metadata": {
        "colab": {
          "base_uri": "https://localhost:8080/",
          "height": 145,
          "resources": {
            "http://localhost:8080/nbextensions/google.colab/files.js": {
              "data": "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",
              "headers": [
                [
                  "content-type",
                  "application/javascript"
                ]
              ],
              "ok": true,
              "status": 200,
              "status_text": ""
            }
          }
        },
        "id": "I4JXN27tpaGF",
        "outputId": "8704cc29-ad31-4513-aad7-3b9ccbd022b6"
      },
      "outputs": [
        {
          "data": {
            "text/html": [
              "\n",
              "     <input type=\"file\" id=\"files-87462364-ada2-4db3-b1cd-76730e80eb71\" name=\"files[]\" multiple disabled\n",
              "        style=\"border:none\" />\n",
              "     <output id=\"result-87462364-ada2-4db3-b1cd-76730e80eb71\">\n",
              "      Upload widget is only available when the cell has been executed in the\n",
              "      current browser session. Please rerun this cell to enable.\n",
              "      </output>\n",
              "      <script src=\"/nbextensions/google.colab/files.js\"></script> "
            ],
            "text/plain": [
              "<IPython.core.display.HTML object>"
            ]
          },
          "metadata": {},
          "output_type": "display_data"
        },
        {
          "name": "stdout",
          "output_type": "stream",
          "text": [
            "Saving svm_utils.py to svm_utils (1).py\n",
            "Saving TestData.xlsx to TestData (1).xlsx\n",
            "Saving TrainData.xlsx to TrainData (1).xlsx\n"
          ]
        }
      ],
      "source": [
        "# from google.colab import files\n",
        "# file = files.upload()"
      ]
    },
    {
      "cell_type": "markdown",
      "metadata": {
        "id": "SGecHOHvTguq"
      },
      "source": [
        "# **Importing the relevant Libraries**"
      ]
    },
    {
      "cell_type": "code",
      "source": [
        "!pip install imbalanced-learn"
      ],
      "metadata": {
        "id": "p3ZDVMePSatM",
        "outputId": "e70426d7-a139-4eb2-d39b-649f8e5623b4",
        "colab": {
          "base_uri": "https://localhost:8080/"
        }
      },
      "execution_count": 1,
      "outputs": [
        {
          "output_type": "stream",
          "name": "stdout",
          "text": [
            "Requirement already satisfied: imbalanced-learn in /usr/local/lib/python3.7/dist-packages (0.8.1)\n",
            "Requirement already satisfied: scikit-learn>=0.24 in /usr/local/lib/python3.7/dist-packages (from imbalanced-learn) (1.0.1)\n",
            "Requirement already satisfied: joblib>=0.11 in /usr/local/lib/python3.7/dist-packages (from imbalanced-learn) (1.1.0)\n",
            "Requirement already satisfied: scipy>=0.19.1 in /usr/local/lib/python3.7/dist-packages (from imbalanced-learn) (1.4.1)\n",
            "Requirement already satisfied: numpy>=1.13.3 in /usr/local/lib/python3.7/dist-packages (from imbalanced-learn) (1.19.5)\n",
            "Requirement already satisfied: threadpoolctl>=2.0.0 in /usr/local/lib/python3.7/dist-packages (from scikit-learn>=0.24->imbalanced-learn) (3.0.0)\n"
          ]
        }
      ]
    },
    {
      "cell_type": "code",
      "execution_count": null,
      "metadata": {
        "id": "2M6qph7HqtOV"
      },
      "outputs": [],
      "source": [
        "import pandas as pd\n",
        "from svm_utils import  *\n",
        "from scipy import optimize\n",
        "import numpy as np\n",
        "from sklearn.linear_model import LogisticRegression\n",
        "from sklearn.metrics import *\n",
        "import matplotlib.pyplot as plt\n",
        "from sklearn import svm\n",
        "import seaborn as sns\n",
        "from pandas.api.types import CategoricalDtype\n",
        "from scipy.stats import mode\n",
        "from sklearn import neighbors\n",
        "import seaborn as sns\n",
        "from sklearn.naive_bayes import GaussianNB\n",
        "from tqdm import tqdm\n",
        "from scipy import stats\n",
        "from imblearn.over_sampling import SMOTE\n",
        "from scipy.stats import norm\n",
        "import sys\n",
        "from sklearn.preprocessing import StandardScaler\n",
        "import collections\n",
        "from sklearn.metrics import roc_curve, auc"
      ]
    },
    {
      "cell_type": "markdown",
      "metadata": {
        "id": "Ney4EwPuTsrj"
      },
      "source": [
        "# **Reading and Understanding the Dataset**\n"
      ]
    },
    {
      "cell_type": "code",
      "execution_count": null,
      "metadata": {
        "id": "35z24VibGC74"
      },
      "outputs": [],
      "source": [
        "# Setting the maximum number of columns displayed to all\n",
        "pd.set_option('expand_frame_repr', False)"
      ]
    },
    {
      "cell_type": "markdown",
      "metadata": {
        "id": "K7Nth18AYVrq"
      },
      "source": [
        "`The census income dataset was already segregated into train and test sets, such that the train set had 32561 records(67%) and 15 attributes, and the test set had 16281(33%) records.`"
      ]
    },
    {
      "cell_type": "code",
      "execution_count": null,
      "metadata": {
        "colab": {
          "base_uri": "https://localhost:8080/"
        },
        "id": "B9yGiB0JqMUr",
        "outputId": "8fabac09-bec3-4ba0-870f-e8e054304347"
      },
      "outputs": [
        {
          "name": "stdout",
          "output_type": "stream",
          "text": [
            "Dimensions of the Train dataset : (32561, 15)\n",
            "Dimensions of the Test dataset : (16281, 15) \n",
            "\n"
          ]
        }
      ],
      "source": [
        "# Reading the train and test dataset and storing it in separate dataframes\n",
        "train_data = pd.read_excel('TrainData.xlsx')\n",
        "test_data = pd.read_excel('TestData.xlsx')\n",
        "\n",
        "# Checking the dimensions of the dataset  \n",
        "print(\"Dimensions of the Train dataset :\",train_data.shape)\n",
        "print(\"Dimensions of the Test dataset :\",test_data.shape,\"\\n\")"
      ]
    },
    {
      "cell_type": "markdown",
      "source": [
        "##### Please ensure that the svm.utils.py file is included in the same folder in order for SVM to execute correctly"
      ],
      "metadata": {
        "id": "ES561D-ICumP"
      }
    },
    {
      "cell_type": "code",
      "execution_count": null,
      "metadata": {
        "colab": {
          "base_uri": "https://localhost:8080/"
        },
        "id": "2QpLUQs2rG1G",
        "outputId": "760e0e24-f518-47d7-dbba-850bc14ff49d"
      },
      "outputs": [
        {
          "name": "stdout",
          "output_type": "stream",
          "text": [
            "Train data:\n",
            "    age          workclass  fnlwgt   education  education-num       marital-status          occupation    relationship    race    sex  capital-gain  capital-loss  hours-per-week  native-country income\n",
            "0   39          State-gov   77516   Bachelors             13        Never-married        Adm-clerical   Not-in-family   White   Male          2174             0              40   United-States  <=50K\n",
            "1   50   Self-emp-not-inc   83311   Bachelors             13   Married-civ-spouse     Exec-managerial         Husband   White   Male             0             0              13   United-States  <=50K\n",
            "2   38            Private  215646     HS-grad              9             Divorced   Handlers-cleaners   Not-in-family   White   Male             0             0              40   United-States  <=50K\n",
            "\n",
            "Test data:\n",
            "    age   workclass  fnlwgt    education  education-num       marital-status          occupation relationship    race    sex  capital-gain  capital-loss  hours-per-week  native-country income\n",
            "0   25     Private  226802         11th              7        Never-married   Machine-op-inspct    Own-child   Black   Male             0             0              40   United-States  <=50K\n",
            "1   38     Private   89814      HS-grad              9   Married-civ-spouse     Farming-fishing      Husband   White   Male             0             0              50   United-States  <=50K\n",
            "2   28   Local-gov  336951   Assoc-acdm             12   Married-civ-spouse     Protective-serv      Husband   White   Male             0             0              40   United-States   >50K\n"
          ]
        }
      ],
      "source": [
        "# Reading the first 3 observations of the train and test dataset \n",
        "print(\"Train data:\\n\",train_data.head(3))\n",
        "print(\"\\nTest data:\\n\",test_data.head(3))"
      ]
    },
    {
      "cell_type": "markdown",
      "metadata": {
        "id": "t0-wwFp6YkFQ"
      },
      "source": [
        "`The dataset was comprised of 6 numeric attributes and 9 categorical attributes. The summary statistics of the numeric attributes of both the train and test data has been shown below.`"
      ]
    },
    {
      "cell_type": "code",
      "execution_count": null,
      "metadata": {
        "colab": {
          "base_uri": "https://localhost:8080/"
        },
        "id": "o0uhKgc4rLTX",
        "outputId": "3cd65118-7216-41d9-a488-25224e4589e8"
      },
      "outputs": [
        {
          "name": "stdout",
          "output_type": "stream",
          "text": [
            "Train data:\n",
            "                   count           mean            std      min       25%       50%       75%        max\n",
            "age             32561.0      38.581647      13.640433     17.0      28.0      37.0      48.0       90.0\n",
            "fnlwgt          32561.0  189778.366512  105549.977697  12285.0  117827.0  178356.0  237051.0  1484705.0\n",
            "education-num   32561.0      10.080679       2.572720      1.0       9.0      10.0      12.0       16.0\n",
            "capital-gain    32561.0    1077.648844    7385.292085      0.0       0.0       0.0       0.0    99999.0\n",
            "capital-loss    32561.0      87.303830     402.960219      0.0       0.0       0.0       0.0     4356.0\n",
            "hours-per-week  32561.0      40.437456      12.347429      1.0      40.0      40.0      45.0       99.0 \n",
            "\n",
            "\n",
            "<class 'pandas.core.frame.DataFrame'>\n",
            "RangeIndex: 32561 entries, 0 to 32560\n",
            "Data columns (total 15 columns):\n",
            " #   Column          Non-Null Count  Dtype \n",
            "---  ------          --------------  ----- \n",
            " 0   age             32561 non-null  int64 \n",
            " 1   workclass       32561 non-null  object\n",
            " 2   fnlwgt          32561 non-null  int64 \n",
            " 3   education       32561 non-null  object\n",
            " 4   education-num   32561 non-null  int64 \n",
            " 5   marital-status  32561 non-null  object\n",
            " 6   occupation      32561 non-null  object\n",
            " 7   relationship    32561 non-null  object\n",
            " 8   race            32561 non-null  object\n",
            " 9   sex             32561 non-null  object\n",
            " 10  capital-gain    32561 non-null  int64 \n",
            " 11  capital-loss    32561 non-null  int64 \n",
            " 12  hours-per-week  32561 non-null  int64 \n",
            " 13  native-country  32561 non-null  object\n",
            " 14  income          32561 non-null  object\n",
            "dtypes: int64(6), object(9)\n",
            "memory usage: 3.7+ MB\n",
            "None\n"
          ]
        }
      ],
      "source": [
        "# Checking the statistics of the numeric attributes of the train dataset\n",
        "print(\"Train data:\\n\",train_data.describe().T, \"\\n\\n\") \n",
        "\n",
        "# Analyzing the datatypes of each attribute of the train dataset\n",
        "print(train_data.info())"
      ]
    },
    {
      "cell_type": "code",
      "execution_count": null,
      "metadata": {
        "colab": {
          "base_uri": "https://localhost:8080/"
        },
        "id": "rRFfsFiArW-n",
        "outputId": "449f7f32-d935-489b-dc9f-8ed906e68d1b"
      },
      "outputs": [
        {
          "name": "stdout",
          "output_type": "stream",
          "text": [
            "Test data:\n",
            "                   count           mean            std      min       25%       50%       75%        max\n",
            "age             16281.0      38.767459      13.849187     17.0      28.0      37.0      48.0       90.0\n",
            "fnlwgt          16281.0  189435.677784  105714.907671  13492.0  116736.0  177831.0  238384.0  1490400.0\n",
            "education-num   16281.0      10.072907       2.567545      1.0       9.0      10.0      12.0       16.0\n",
            "capital-gain    16281.0    1081.905104    7583.935968      0.0       0.0       0.0       0.0    99999.0\n",
            "capital-loss    16281.0      87.899269     403.105286      0.0       0.0       0.0       0.0     3770.0\n",
            "hours-per-week  16281.0      40.392236      12.479332      1.0      40.0      40.0      45.0       99.0 \n",
            "\n",
            "\n",
            "<class 'pandas.core.frame.DataFrame'>\n",
            "RangeIndex: 16281 entries, 0 to 16280\n",
            "Data columns (total 15 columns):\n",
            " #   Column          Non-Null Count  Dtype \n",
            "---  ------          --------------  ----- \n",
            " 0   age             16281 non-null  int64 \n",
            " 1   workclass       16281 non-null  object\n",
            " 2   fnlwgt          16281 non-null  int64 \n",
            " 3   education       16281 non-null  object\n",
            " 4   education-num   16281 non-null  int64 \n",
            " 5   marital-status  16281 non-null  object\n",
            " 6   occupation      16281 non-null  object\n",
            " 7   relationship    16281 non-null  object\n",
            " 8   race            16281 non-null  object\n",
            " 9   sex             16281 non-null  object\n",
            " 10  capital-gain    16281 non-null  int64 \n",
            " 11  capital-loss    16281 non-null  int64 \n",
            " 12  hours-per-week  16281 non-null  int64 \n",
            " 13  native-country  16281 non-null  object\n",
            " 14  income          16281 non-null  object\n",
            "dtypes: int64(6), object(9)\n",
            "memory usage: 1.9+ MB\n",
            "None\n"
          ]
        }
      ],
      "source": [
        "# Checking the statistics of the numeric attributes of the test dataset\n",
        "print(\"Test data:\\n\",test_data.describe().T,\"\\n\\n\") \n",
        "\n",
        "# Analyzing the datatypes of each attribute of the test dataset\n",
        "print(test_data.info())"
      ]
    },
    {
      "cell_type": "markdown",
      "metadata": {
        "id": "GVMqn3eEY0fV"
      },
      "source": [
        "`There were 24720 instances in the train data for income <= $50K and 7841 instances for income > $50K. Similarly, the test set had 12435 instances for income  <= $50K and 3846 instances for income > $50K. This clearly depicted that there is a class-imbalance in the census dataset which was required to be handled before the model building phase. `"
      ]
    },
    {
      "cell_type": "code",
      "execution_count": null,
      "metadata": {
        "colab": {
          "base_uri": "https://localhost:8080/"
        },
        "id": "pRPrdWmIESBa",
        "outputId": "a4051328-3aed-4a40-a32e-4a7d76d0c27f"
      },
      "outputs": [
        {
          "name": "stdout",
          "output_type": "stream",
          "text": [
            "Train data:\n",
            "<=50K    24720\n",
            ">50K      7841\n",
            "Name: income, dtype: int64\n",
            "\n",
            "Test data:\n",
            "<=50K    12435\n",
            ">50K      3846\n",
            "Name: income, dtype: int64\n"
          ]
        }
      ],
      "source": [
        "# Checking the count of classes in the target variable 'Income'\n",
        "print(\"Train data:\")\n",
        "print(train_data.income.value_counts())\n",
        "\n",
        "print(\"\\nTest data:\")\n",
        "print(test_data.income.value_counts())"
      ]
    },
    {
      "cell_type": "markdown",
      "metadata": {
        "id": "wyD5HHzTY7qc"
      },
      "source": [
        "`The categorical and numerical attributes were identified and segregated from each other for performing separate Explaratory data analysis and pre-processing steps. `"
      ]
    },
    {
      "cell_type": "code",
      "execution_count": null,
      "metadata": {
        "colab": {
          "base_uri": "https://localhost:8080/"
        },
        "id": "oQ_Rf5AwIdjl",
        "outputId": "0eaafbf5-49e8-44a4-a094-3a1850179994"
      },
      "outputs": [
        {
          "name": "stdout",
          "output_type": "stream",
          "text": [
            "Train data:\n",
            "Categorical columns : ['workclass', 'education', 'marital-status', 'occupation', 'relationship', 'race', 'sex', 'native-country', 'income']\n",
            "Numerical columns   : ['age', 'fnlwgt', 'education-num', 'capital-gain', 'capital-loss', 'hours-per-week']\n",
            "\n",
            "Test data:\n",
            "Categorical columns : ['workclass', 'education', 'marital-status', 'occupation', 'relationship', 'race', 'sex', 'native-country', 'income']\n",
            "Numerical columns   : ['age', 'fnlwgt', 'education-num', 'capital-gain', 'capital-loss', 'hours-per-week']\n"
          ]
        }
      ],
      "source": [
        "# Identifying the numeric variables and categorical variables in the train and test data\n",
        "print(\"Train data:\")\n",
        "df_train_categorical = []\n",
        "df_train_numerical = []\n",
        "for x in train_data.columns:\n",
        "  if (train_data[x].dtypes == np.object):\n",
        "    df_train_categorical.append(x)\n",
        "  else:\n",
        "    df_train_numerical.append(x)\n",
        "\n",
        "print(\"Categorical columns :\",df_train_categorical)\n",
        "print(\"Numerical columns   :\",df_train_numerical)\n",
        "\n",
        "print(\"\\nTest data:\")\n",
        "df_test_categorical = []\n",
        "df_test_numerical = []\n",
        "for x in test_data.columns:\n",
        "  if (test_data[x].dtypes == np.object):\n",
        "    df_test_categorical.append(x)\n",
        "  else:\n",
        "    df_test_numerical.append(x)\n",
        "\n",
        "print(\"Categorical columns :\",df_test_categorical)\n",
        "print(\"Numerical columns   :\",df_test_numerical)"
      ]
    },
    {
      "cell_type": "markdown",
      "metadata": {
        "id": "NigIEHhOqf1A"
      },
      "source": [
        "`From the below results, it was evident that this dataset contains missing values which have been represented using '?'. First, we converted those values to 'NaN' to evaluate the percentage of missing values. As there would have been a considerable amount of data loss if we dropped the features directly. Therefore, we converted the missing values to a separate category 'Not Known' to ensure data retention before proceeding with further analysis.  `"
      ]
    },
    {
      "cell_type": "code",
      "execution_count": null,
      "metadata": {
        "colab": {
          "base_uri": "https://localhost:8080/"
        },
        "id": "layTPYKvJPg3",
        "outputId": "fe2f5ab4-f36e-4c7b-fed0-784dc805cd9e"
      },
      "outputs": [
        {
          "name": "stdout",
          "output_type": "stream",
          "text": [
            "Dimensions of the categorical variables in Train Data:  (32561, 9) \n",
            "\n",
            "workclass : \n",
            " [' State-gov' ' Self-emp-not-inc' ' Private' ' Federal-gov' ' Local-gov'\n",
            " ' ?' ' Self-emp-inc' ' Without-pay' ' Never-worked'] \n",
            "\n",
            "\n",
            "education : \n",
            " [' Bachelors' ' HS-grad' ' 11th' ' Masters' ' 9th' ' Some-college'\n",
            " ' Assoc-acdm' ' Assoc-voc' ' 7th-8th' ' Doctorate' ' Prof-school'\n",
            " ' 5th-6th' ' 10th' ' 1st-4th' ' Preschool' ' 12th'] \n",
            "\n",
            "\n",
            "marital-status : \n",
            " [' Never-married' ' Married-civ-spouse' ' Divorced'\n",
            " ' Married-spouse-absent' ' Separated' ' Married-AF-spouse' ' Widowed'] \n",
            "\n",
            "\n",
            "occupation : \n",
            " [' Adm-clerical' ' Exec-managerial' ' Handlers-cleaners' ' Prof-specialty'\n",
            " ' Other-service' ' Sales' ' Craft-repair' ' Transport-moving'\n",
            " ' Farming-fishing' ' Machine-op-inspct' ' Tech-support' ' ?'\n",
            " ' Protective-serv' ' Armed-Forces' ' Priv-house-serv'] \n",
            "\n",
            "\n",
            "relationship : \n",
            " [' Not-in-family' ' Husband' ' Wife' ' Own-child' ' Unmarried'\n",
            " ' Other-relative'] \n",
            "\n",
            "\n",
            "race : \n",
            " [' White' ' Black' ' Asian-Pac-Islander' ' Amer-Indian-Eskimo' ' Other'] \n",
            "\n",
            "\n",
            "sex : \n",
            " [' Male' ' Female'] \n",
            "\n",
            "\n",
            "native-country : \n",
            " [' United-States' ' Cuba' ' Jamaica' ' India' ' ?' ' Mexico' ' South'\n",
            " ' Puerto-Rico' ' Honduras' ' England' ' Canada' ' Germany' ' Iran'\n",
            " ' Philippines' ' Italy' ' Poland' ' Columbia' ' Cambodia' ' Thailand'\n",
            " ' Ecuador' ' Laos' ' Taiwan' ' Haiti' ' Portugal' ' Dominican-Republic'\n",
            " ' El-Salvador' ' France' ' Guatemala' ' China' ' Japan' ' Yugoslavia'\n",
            " ' Peru' ' Outlying-US(Guam-USVI-etc)' ' Scotland' ' Trinadad&Tobago'\n",
            " ' Greece' ' Nicaragua' ' Vietnam' ' Hong' ' Ireland' ' Hungary'\n",
            " ' Holand-Netherlands'] \n",
            "\n",
            "\n",
            "income : \n",
            " ['<=50K' '>50K'] \n",
            "\n",
            "\n"
          ]
        }
      ],
      "source": [
        "# Identifying the categorical variables present in the dataset\n",
        "df_train_cat = train_data.loc[:,df_train_categorical]\n",
        "\n",
        "# Checking the dimension of the categorical variables\n",
        "print(\"Dimensions of the categorical variables in Train Data: \",df_train_cat.shape,\"\\n\")\n",
        "\n",
        "# Computing the unique values of each of the categorical variables\n",
        "for column in df_train_cat:\n",
        "    print(column,': \\n',train_data[column].unique(), \"\\n\\n\")"
      ]
    },
    {
      "cell_type": "code",
      "execution_count": null,
      "metadata": {
        "id": "FCoZPXSkWB7-"
      },
      "outputs": [],
      "source": [
        "# This dataset has missing values which are represented using '?', therefore, replacing these values with 'NaN' to evaluate percentage of missing values\n",
        "\n",
        "df_train = train_data.replace({' ?': np.NaN})\n",
        "df_test = test_data.replace({' ?': np.NaN})"
      ]
    },
    {
      "cell_type": "code",
      "execution_count": null,
      "metadata": {
        "colab": {
          "base_uri": "https://localhost:8080/"
        },
        "id": "4xPAHRK0ZYB3",
        "outputId": "f55597cd-bb07-4c68-b7db-0802d80c5f5c"
      },
      "outputs": [
        {
          "name": "stdout",
          "output_type": "stream",
          "text": [
            "Percentage of missing values in the Train data:\n",
            " age               0.0\n",
            "workclass         6.0\n",
            "fnlwgt            0.0\n",
            "education         0.0\n",
            "education-num     0.0\n",
            "marital-status    0.0\n",
            "occupation        6.0\n",
            "relationship      0.0\n",
            "race              0.0\n",
            "sex               0.0\n",
            "capital-gain      0.0\n",
            "capital-loss      0.0\n",
            "hours-per-week    0.0\n",
            "native-country    2.0\n",
            "income            0.0\n",
            "dtype: float64 2\n",
            "\n",
            "Percentage of missing values in the Test data:\n",
            " age               0.0\n",
            "workclass         6.0\n",
            "fnlwgt            0.0\n",
            "education         0.0\n",
            "education-num     0.0\n",
            "marital-status    0.0\n",
            "occupation        6.0\n",
            "relationship      0.0\n",
            "race              0.0\n",
            "sex               0.0\n",
            "capital-gain      0.0\n",
            "capital-loss      0.0\n",
            "hours-per-week    0.0\n",
            "native-country    2.0\n",
            "income            0.0\n",
            "dtype: float64 2\n"
          ]
        }
      ],
      "source": [
        "# Computing the percentage of missing values for each attribute of the train and test dataset\n",
        "\n",
        "print(\"Percentage of missing values in the Train data:\\n\",round(100*(df_train.isnull().sum()/len(df_train))),2)\n",
        "print(\"\\nPercentage of missing values in the Test data:\\n\",round(100*(df_test.isnull().sum()/len(df_test))),2)"
      ]
    },
    {
      "cell_type": "code",
      "execution_count": null,
      "metadata": {
        "id": "J4D9ovAnZa16"
      },
      "outputs": [],
      "source": [
        "# This dataset has missing values which are represented using '?', therefore, replacing these values with 'Not Known'\n",
        "train_data = train_data.replace({' ?': \"Not Known\"})\n",
        "test_data = test_data.replace({' ?': \"Not Known\"})"
      ]
    },
    {
      "cell_type": "code",
      "execution_count": null,
      "metadata": {
        "colab": {
          "base_uri": "https://localhost:8080/"
        },
        "id": "wDMDwQHRZcmM",
        "outputId": "69979c3a-0858-4763-b7ac-92e61f32da9e"
      },
      "outputs": [
        {
          "name": "stdout",
          "output_type": "stream",
          "text": [
            "Percentage of missing values in the Train data:\n",
            " age               0.0\n",
            "workclass         0.0\n",
            "fnlwgt            0.0\n",
            "education         0.0\n",
            "education-num     0.0\n",
            "marital-status    0.0\n",
            "occupation        0.0\n",
            "relationship      0.0\n",
            "race              0.0\n",
            "sex               0.0\n",
            "capital-gain      0.0\n",
            "capital-loss      0.0\n",
            "hours-per-week    0.0\n",
            "native-country    0.0\n",
            "income            0.0\n",
            "dtype: float64 2\n",
            "\n",
            "Percentage of missing values in the Test data:\n",
            " age               0.0\n",
            "workclass         0.0\n",
            "fnlwgt            0.0\n",
            "education         0.0\n",
            "education-num     0.0\n",
            "marital-status    0.0\n",
            "occupation        0.0\n",
            "relationship      0.0\n",
            "race              0.0\n",
            "sex               0.0\n",
            "capital-gain      0.0\n",
            "capital-loss      0.0\n",
            "hours-per-week    0.0\n",
            "native-country    0.0\n",
            "income            0.0\n",
            "dtype: float64 2\n"
          ]
        }
      ],
      "source": [
        "# Computing the percentage of missing values for each attribute of the train and test dataset after replacing '?' with 'Not Known' category\n",
        "\n",
        "print(\"Percentage of missing values in the Train data:\\n\",round(100*(train_data.isnull().sum()/len(df_train))),2)\n",
        "print(\"\\nPercentage of missing values in the Test data:\\n\",round(100*(test_data.isnull().sum()/len(df_test))),2)"
      ]
    },
    {
      "cell_type": "markdown",
      "metadata": {
        "id": "Mzov9WOyTyYC"
      },
      "source": [
        "# **Exploratory Data Analysis**"
      ]
    },
    {
      "cell_type": "markdown",
      "metadata": {
        "id": "M4ppbIdpRxQE"
      },
      "source": [
        "### **Univariate Analysis of the Numeric Variables**\n",
        "\n",
        "From the below figures, it is evident that all the numeric variables of this dataset are not normally distributed or are skewed in nature, which is also the case with most real-world data. \n",
        "The Age attributes shows that the highest frequency of people receiving income belong to the Age group of 18 to 45 years and mostly work full-time between 30 to 40 hours per week . "
      ]
    },
    {
      "cell_type": "code",
      "execution_count": null,
      "metadata": {
        "colab": {
          "base_uri": "https://localhost:8080/",
          "height": 518
        },
        "id": "tnvRQquGy7E1",
        "outputId": "8e6ca720-9fe6-4010-dd42-80d005d107f0"
      },
      "outputs": [
        {
          "name": "stdout",
          "output_type": "stream",
          "text": [
            "\u001b[1mTrain data\u001b[0m\n",
            "Datatype is int64\n",
            "Missing values are 0 \n",
            "\n",
            "count    32561.000000\n",
            "mean        38.581647\n",
            "std         13.640433\n",
            "min         17.000000\n",
            "25%         28.000000\n",
            "50%         37.000000\n",
            "75%         48.000000\n",
            "max         90.000000\n",
            "Name: age, dtype: float64\n"
          ]
        },
        {
          "data": {
            "image/png": "[encoded data removed]",
            "text/plain": [
              "<Figure size 432x288 with 1 Axes>"
            ]
          },
          "metadata": {
            "needs_background": "light"
          },
          "output_type": "display_data"
        }
      ],
      "source": [
        "# age column\n",
        "print('\\033[1m' + \"Train data\" + '\\033[0m')\n",
        "print(\"Datatype is\", train_data['age'].dtype)\n",
        "print(\"Missing values are\", train_data['age'].isnull().sum(),\"\\n\")\n",
        "print(train_data['age'].describe())\n",
        "train_data['age'].hist()\n",
        "plt.xlabel('Age')\n",
        "plt.ylabel(\"Frequency\") \n",
        "plt.show()   "
      ]
    },
    {
      "cell_type": "code",
      "execution_count": null,
      "metadata": {
        "colab": {
          "base_uri": "https://localhost:8080/",
          "height": 522
        },
        "id": "DqpNrhZISBYA",
        "outputId": "1c03dc9d-0c6d-472a-bc27-0b2303136d6f"
      },
      "outputs": [
        {
          "name": "stdout",
          "output_type": "stream",
          "text": [
            "\u001b[1mTrain data:\n",
            "\u001b[0m\n",
            "Datatype is int64\n",
            "Missing values are 0\n",
            "count    3.256100e+04\n",
            "mean     1.897784e+05\n",
            "std      1.055500e+05\n",
            "min      1.228500e+04\n",
            "25%      1.178270e+05\n",
            "50%      1.783560e+05\n",
            "75%      2.370510e+05\n",
            "max      1.484705e+06\n",
            "Name: fnlwgt, dtype: float64\n"
          ]
        },
        {
          "data": {
            "image/png": "[encoded data removed]",
            "text/plain": [
              "<Figure size 432x288 with 1 Axes>"
            ]
          },
          "metadata": {
            "needs_background": "light"
          },
          "output_type": "display_data"
        }
      ],
      "source": [
        "# fnlwgt column\n",
        "print('\\033[1m' + \"Train data:\\n\" + '\\033[0m')\n",
        "print(\"Datatype is\", train_data['fnlwgt'].dtype)\n",
        "print(\"Missing values are\", train_data['fnlwgt'].isnull().sum())\n",
        "print(train_data['fnlwgt'].describe())\n",
        "train_data['fnlwgt'].hist()\n",
        "plt.xlabel('fnlwgt')\n",
        "plt.ylabel(\"Frequency\") \n",
        "plt.show()   "
      ]
    },
    {
      "cell_type": "code",
      "execution_count": null,
      "metadata": {
        "colab": {
          "base_uri": "https://localhost:8080/",
          "height": 334
        },
        "id": "beapu69vSE4_",
        "outputId": "491d23d4-38a5-4778-f9ff-291dc1b038f4"
      },
      "outputs": [
        {
          "name": "stdout",
          "output_type": "stream",
          "text": [
            "\u001b[1mTrain data\u001b[0m\n",
            "Datatype is int64\n",
            "Missing values are 0\n"
          ]
        },
        {
          "data": {
            "image/png": "[encoded data removed]",
            "text/plain": [
              "<Figure size 432x288 with 1 Axes>"
            ]
          },
          "metadata": {
            "needs_background": "light"
          },
          "output_type": "display_data"
        }
      ],
      "source": [
        "# education-num column\n",
        "print('\\033[1m' + \"Train data\" + '\\033[0m')\n",
        "print(\"Datatype is\", train_data['education-num'].dtype)\n",
        "print(\"Missing values are\", train_data['education-num'].isnull().sum())\n",
        "train_data['education-num'].hist()\n",
        "plt.xlabel('education-num')\n",
        "plt.ylabel(\"Frequency\") \n",
        "plt.show()   "
      ]
    },
    {
      "cell_type": "code",
      "execution_count": null,
      "metadata": {
        "colab": {
          "base_uri": "https://localhost:8080/",
          "height": 518
        },
        "id": "UPkNjyvvXmTK",
        "outputId": "bfde46e8-4a04-4cf5-c7e0-a8f29133f229"
      },
      "outputs": [
        {
          "name": "stdout",
          "output_type": "stream",
          "text": [
            "\u001b[1mTrain data:\n",
            "\u001b[0m\n",
            "Datatype is int64\n",
            "Missing values are 0\n",
            "count    32561.000000\n",
            "mean      1077.648844\n",
            "std       7385.292085\n",
            "min          0.000000\n",
            "25%          0.000000\n",
            "50%          0.000000\n",
            "75%          0.000000\n",
            "max      99999.000000\n",
            "Name: capital-gain, dtype: float64\n"
          ]
        },
        {
          "data": {
            "image/png": "[encoded data removed]",
            "text/plain": [
              "<Figure size 432x288 with 1 Axes>"
            ]
          },
          "metadata": {
            "needs_background": "light"
          },
          "output_type": "display_data"
        }
      ],
      "source": [
        "# capital-gain column\n",
        "print('\\033[1m' + \"Train data:\\n\" + '\\033[0m')\n",
        "print(\"Datatype is\", train_data['capital-gain'].dtype)\n",
        "print(\"Missing values are\", train_data['capital-gain'].isnull().sum())\n",
        "print(train_data['capital-gain'].describe())\n",
        "train_data['capital-gain'].hist()\n",
        "plt.xlabel('capital-gain')\n",
        "plt.ylabel(\"Frequency\") \n",
        "plt.show()    "
      ]
    },
    {
      "cell_type": "code",
      "execution_count": null,
      "metadata": {
        "colab": {
          "base_uri": "https://localhost:8080/",
          "height": 518
        },
        "id": "x1Z4NAw8XmTL",
        "outputId": "76c57d87-3ab3-4af8-8981-1cd0a2f2ebda"
      },
      "outputs": [
        {
          "name": "stdout",
          "output_type": "stream",
          "text": [
            "\u001b[1mTrain data:\n",
            "\u001b[0m\n",
            "Datatype is int64\n",
            "Missing values are 0\n",
            "count    32561.000000\n",
            "mean        87.303830\n",
            "std        402.960219\n",
            "min          0.000000\n",
            "25%          0.000000\n",
            "50%          0.000000\n",
            "75%          0.000000\n",
            "max       4356.000000\n",
            "Name: capital-loss, dtype: float64\n"
          ]
        },
        {
          "data": {
            "image/png": "[encoded data removed]",
            "text/plain": [
              "<Figure size 432x288 with 1 Axes>"
            ]
          },
          "metadata": {
            "needs_background": "light"
          },
          "output_type": "display_data"
        }
      ],
      "source": [
        "# capital-loss column\n",
        "print('\\033[1m' + \"Train data:\\n\" + '\\033[0m')\n",
        "print(\"Datatype is\", train_data['capital-loss'].dtype)\n",
        "print(\"Missing values are\", train_data['capital-loss'].isnull().sum())\n",
        "print(train_data['capital-loss'].describe())\n",
        "train_data['capital-loss'].hist()\n",
        "plt.xlabel('capital-loss')\n",
        "plt.ylabel(\"Frequency\") \n",
        "plt.show()   "
      ]
    },
    {
      "cell_type": "code",
      "execution_count": null,
      "metadata": {
        "colab": {
          "base_uri": "https://localhost:8080/",
          "height": 537
        },
        "id": "v1NbZIu4Xyjj",
        "outputId": "ef391454-b29b-41d7-aedd-68d610b95fb0"
      },
      "outputs": [
        {
          "name": "stdout",
          "output_type": "stream",
          "text": [
            "\u001b[1mTrain data\u001b[0m\n",
            "Datatype is int64\n",
            "Missing values are 0 \n",
            "\n",
            "count    32561.000000\n",
            "mean        40.437456\n",
            "std         12.347429\n",
            "min          1.000000\n",
            "25%         40.000000\n",
            "50%         40.000000\n",
            "75%         45.000000\n",
            "max         99.000000\n",
            "Name: hours-per-week, dtype: float64\n"
          ]
        },
        {
          "data": {
            "text/plain": [
              "Text(0, 0.5, 'Frequency')"
            ]
          },
          "execution_count": 23,
          "metadata": {},
          "output_type": "execute_result"
        },
        {
          "data": {
            "image/png": "[encoded data removed]",
            "text/plain": [
              "<Figure size 432x288 with 1 Axes>"
            ]
          },
          "metadata": {
            "needs_background": "light"
          },
          "output_type": "display_data"
        }
      ],
      "source": [
        "# hours-per-week column\n",
        "print('\\033[1m' + \"Train data\" + '\\033[0m')\n",
        "print(\"Datatype is\", train_data['hours-per-week'].dtype)\n",
        "print(\"Missing values are\", train_data['hours-per-week'].isnull().sum(),\"\\n\")\n",
        "print(train_data['hours-per-week'].describe())\n",
        "train_data['hours-per-week'].hist()\n",
        "plt.xlabel('hours-per-week')\n",
        "plt.ylabel(\"Frequency\") "
      ]
    },
    {
      "cell_type": "markdown",
      "metadata": {
        "id": "IhBfnyslZGdi"
      },
      "source": [
        "### **Univariate Analysis of the Categorical Variables**\n",
        "\n",
        "Observations:\n",
        "\n",
        "1. The Private workclass represents the highest records where income<=50K and highest records for Income>50K as compared to the other workclass categories. \n",
        "\n",
        "2. HS-grad Education type has highest records for income<=50K, and highest records for Income>50K, followed by those of Some-College. \n",
        "\n",
        "3. Never-Married marital status type has highest records for income<=50K and highest records for Income>50K, followed by Married-civ-spouse and Divorced. \n",
        "\n",
        "4. Admin-clerical staff of occupation type has highest records for income<=50K and highest records for Income>50K, followed by Craft-repair and other-services. \n",
        "\n",
        "5. Most people not in a family tend to have a higher income of <=50K than husbands and wives, and a high number of husbands have an income >50K. \n",
        "\n",
        "6. Based on race types, the White population have the highest income compared to other race types, and most frequently were observed to have an income <=50K, followed by the Black population. \n",
        "\n",
        "7. As compared to other countries, it was observed that the people of United States had the highest income, mostly <=50K, followed by Mexico. \n"
      ]
    },
    {
      "cell_type": "code",
      "execution_count": null,
      "metadata": {
        "colab": {
          "base_uri": "https://localhost:8080/",
          "height": 555
        },
        "id": "G2pBl2tmzeho",
        "outputId": "09ff6e30-69f2-4a57-d817-0a9ff46ba1c6"
      },
      "outputs": [
        {
          "name": "stdout",
          "output_type": "stream",
          "text": [
            "\u001b[1mTrain data:\n",
            "\u001b[0m\n",
            "Datatype is object\n",
            "Missing values are 0 \n",
            "\n",
            " Private             22696\n",
            " Self-emp-not-inc     2541\n",
            " Local-gov            2093\n",
            "Not Known             1836\n",
            " State-gov            1298\n",
            " Self-emp-inc         1116\n",
            " Federal-gov           960\n",
            " Without-pay            14\n",
            " Never-worked            7\n",
            "Name: workclass, dtype: int64\n"
          ]
        },
        {
          "data": {
            "image/png": "[encoded data removed]",
            "text/plain": [
              "<Figure size 1080x288 with 1 Axes>"
            ]
          },
          "metadata": {
            "needs_background": "light"
          },
          "output_type": "display_data"
        }
      ],
      "source": [
        "# workclass column\n",
        "print('\\033[1m'+ \"Train data:\\n\" + '\\033[0m')\n",
        "print(\"Datatype is\", train_data['workclass'].dtype)\n",
        "print(\"Missing values are\", train_data['workclass'].isnull().sum(),\"\\n\")\n",
        "print(train_data['workclass'].value_counts())\n",
        "train_data['workclass'] = train_data['workclass'].str.lstrip()\n",
        "\n",
        "plt.figure(figsize=(15,4))\n",
        "sns.countplot(x='workclass', data=train_data, hue='income')\n",
        "plt.show()"
      ]
    },
    {
      "cell_type": "code",
      "execution_count": null,
      "metadata": {
        "colab": {
          "base_uri": "https://localhost:8080/",
          "height": 648
        },
        "id": "E8jw66unS9eP",
        "outputId": "8715fd4c-c9d0-4cfb-be56-3dd8b7c8a2e2"
      },
      "outputs": [
        {
          "name": "stdout",
          "output_type": "stream",
          "text": [
            "\u001b[1mTrain data\u001b[0m\n",
            "Datatype is object\n",
            "Missing values are 0 \n",
            "\n",
            " HS-grad         10501\n",
            " Some-college     7291\n",
            " Bachelors        5355\n",
            " Masters          1723\n",
            " Assoc-voc        1382\n",
            " 11th             1175\n",
            " Assoc-acdm       1067\n",
            " 10th              933\n",
            " 7th-8th           646\n",
            " Prof-school       576\n",
            " 9th               514\n",
            " 12th              433\n",
            " Doctorate         413\n",
            " 5th-6th           333\n",
            " 1st-4th           168\n",
            " Preschool          51\n",
            "Name: education, dtype: int64\n"
          ]
        },
        {
          "data": {
            "image/png": "[encoded data removed]",
            "text/plain": [
              "<Figure size 1440x288 with 1 Axes>"
            ]
          },
          "metadata": {
            "needs_background": "light"
          },
          "output_type": "display_data"
        }
      ],
      "source": [
        "# education column\n",
        "print('\\033[1m'+ \"Train data\" + '\\033[0m')\n",
        "print(\"Datatype is\", train_data['education'].dtype)\n",
        "print(\"Missing values are\", train_data['education'].isnull().sum(),\"\\n\")\n",
        "print(train_data['education'].value_counts())\n",
        "train_data['education'] = train_data['education'].str.lstrip()\n",
        "\n",
        "plt.figure(figsize=(20,4))\n",
        "sns.countplot(x='education', data=train_data, hue='income')\n",
        "plt.show()"
      ]
    },
    {
      "cell_type": "code",
      "execution_count": null,
      "metadata": {
        "colab": {
          "base_uri": "https://localhost:8080/",
          "height": 500
        },
        "id": "w9-nqXVhUepH",
        "outputId": "de863685-7b95-4e2b-a86f-7eca1054ffb7"
      },
      "outputs": [
        {
          "name": "stdout",
          "output_type": "stream",
          "text": [
            "\u001b[1mTrain data\u001b[0m\n",
            "Datatype is object\n",
            "Missing values are 0 \n",
            "\n",
            " Married-civ-spouse       14976\n",
            " Never-married            10683\n",
            " Divorced                  4443\n",
            " Separated                 1025\n",
            " Widowed                    993\n",
            " Married-spouse-absent      418\n",
            " Married-AF-spouse           23\n",
            "Name: marital-status, dtype: int64\n"
          ]
        },
        {
          "data": {
            "image/png": "[encoded data removed]",
            "text/plain": [
              "<Figure size 1080x288 with 1 Axes>"
            ]
          },
          "metadata": {
            "needs_background": "light"
          },
          "output_type": "display_data"
        }
      ],
      "source": [
        "# marital-status column\n",
        "print('\\033[1m'+ \"Train data\" + '\\033[0m')\n",
        "print(\"Datatype is\", train_data['marital-status'].dtype)\n",
        "print(\"Missing values are\", train_data['marital-status'].isnull().sum(),\"\\n\")\n",
        "print(train_data['marital-status'].value_counts())\n",
        "train_data['marital-status'] = train_data['marital-status'].str.lstrip()\n",
        "\n",
        "plt.figure(figsize=(15,4))\n",
        "sns.countplot(x='marital-status', data=train_data, hue='income')\n",
        "plt.show()"
      ]
    },
    {
      "cell_type": "code",
      "execution_count": null,
      "metadata": {
        "colab": {
          "base_uri": "https://localhost:8080/",
          "height": 624
        },
        "id": "hiVUMHknVFKg",
        "outputId": "ba9bb44d-9a4a-4c3d-af8a-429935c02553"
      },
      "outputs": [
        {
          "name": "stdout",
          "output_type": "stream",
          "text": [
            "\u001b[1mTrain data\u001b[0m\n",
            "Datatype is object\n",
            "Missing values are 0 \n",
            "\n",
            " Prof-specialty       4140\n",
            " Craft-repair         4099\n",
            " Exec-managerial      4066\n",
            " Adm-clerical         3770\n",
            " Sales                3650\n",
            " Other-service        3295\n",
            " Machine-op-inspct    2002\n",
            "Not Known             1843\n",
            " Transport-moving     1597\n",
            " Handlers-cleaners    1370\n",
            " Farming-fishing       994\n",
            " Tech-support          928\n",
            " Protective-serv       649\n",
            " Priv-house-serv       149\n",
            " Armed-Forces            9\n",
            "Name: occupation, dtype: int64\n"
          ]
        },
        {
          "data": {
            "image/png": "[encoded data removed]",
            "text/plain": [
              "<Figure size 1800x360 with 1 Axes>"
            ]
          },
          "metadata": {
            "needs_background": "light"
          },
          "output_type": "display_data"
        }
      ],
      "source": [
        "# occupation column\n",
        "print('\\033[1m'+ \"Train data\" + '\\033[0m')\n",
        "print(\"Datatype is\", train_data['occupation'].dtype)\n",
        "print(\"Missing values are\", train_data['occupation'].isnull().sum(),\"\\n\")\n",
        "print(train_data['occupation'].value_counts())\n",
        "train_data['occupation'] = train_data['occupation'].str.lstrip()\n",
        "\n",
        "plt.figure(figsize=(25,5))\n",
        "sns.countplot(x='occupation', data=train_data, hue='income')\n",
        "plt.show()"
      ]
    },
    {
      "cell_type": "code",
      "execution_count": null,
      "metadata": {
        "colab": {
          "base_uri": "https://localhost:8080/",
          "height": 463
        },
        "id": "bFSzK4kwVaeW",
        "outputId": "8563b5ea-b519-44c1-c293-8c450aec0659"
      },
      "outputs": [
        {
          "name": "stdout",
          "output_type": "stream",
          "text": [
            "\u001b[1mTrain data\u001b[0m\n",
            "Datatype is object\n",
            "Missing values are 0\n",
            " Husband           13193\n",
            " Not-in-family      8305\n",
            " Own-child          5068\n",
            " Unmarried          3446\n",
            " Wife               1568\n",
            " Other-relative      981\n",
            "Name: relationship, dtype: int64\n"
          ]
        },
        {
          "data": {
            "image/png": "[encoded data removed]",
            "text/plain": [
              "<Figure size 1080x288 with 1 Axes>"
            ]
          },
          "metadata": {
            "needs_background": "light"
          },
          "output_type": "display_data"
        }
      ],
      "source": [
        "# relationship column\n",
        "print('\\033[1m'+ \"Train data\" + '\\033[0m')\n",
        "print(\"Datatype is\", train_data['relationship'].dtype)\n",
        "print(\"Missing values are\", train_data['relationship'].isnull().sum())\n",
        "print(train_data['relationship'].value_counts())\n",
        "train_data['relationship'] = train_data['relationship'].str.lstrip()\n",
        "\n",
        "plt.figure(figsize=(15,4))\n",
        "sns.countplot(x='relationship', data=train_data, hue='income')\n",
        "plt.show()"
      ]
    },
    {
      "cell_type": "code",
      "execution_count": null,
      "metadata": {
        "colab": {
          "base_uri": "https://localhost:8080/",
          "height": 445
        },
        "id": "BqbyNjO4Vzn7",
        "outputId": "56eb6f1f-034c-4a56-81bf-75fdd1e2d0cd"
      },
      "outputs": [
        {
          "name": "stdout",
          "output_type": "stream",
          "text": [
            "\u001b[1mTrain data\u001b[0m\n",
            "Datatype is object\n",
            "Missing values are 0\n",
            " White                 27816\n",
            " Black                  3124\n",
            " Asian-Pac-Islander     1039\n",
            " Amer-Indian-Eskimo      311\n",
            " Other                   271\n",
            "Name: race, dtype: int64\n"
          ]
        },
        {
          "data": {
            "image/png": "[encoded data removed]",
            "text/plain": [
              "<Figure size 720x288 with 1 Axes>"
            ]
          },
          "metadata": {
            "needs_background": "light"
          },
          "output_type": "display_data"
        }
      ],
      "source": [
        "# race column\n",
        "print('\\033[1m'+ \"Train data\" + '\\033[0m')\n",
        "print(\"Datatype is\", train_data['race'].dtype)\n",
        "print(\"Missing values are\", train_data['race'].isnull().sum())\n",
        "print(train_data['race'].value_counts())\n",
        "train_data['race'] = train_data['race'].str.lstrip()\n",
        "\n",
        "plt.figure(figsize=(10,4))\n",
        "sns.countplot(x='race', data=train_data, hue='income')\n",
        "plt.show()\n"
      ]
    },
    {
      "cell_type": "code",
      "execution_count": null,
      "metadata": {
        "colab": {
          "base_uri": "https://localhost:8080/",
          "height": 390
        },
        "id": "Pvo-0SZcWbvG",
        "outputId": "dd11f5b5-5226-41ab-b2e1-8ea32ba016f9"
      },
      "outputs": [
        {
          "name": "stdout",
          "output_type": "stream",
          "text": [
            "\u001b[1mTrain data\u001b[0m\n",
            "Datatype is object\n",
            "Missing values are 0\n",
            " Male      21790\n",
            " Female    10771\n",
            "Name: sex, dtype: int64\n"
          ]
        },
        {
          "data": {
            "image/png": "[encoded data removed]",
            "text/plain": [
              "<Figure size 288x288 with 1 Axes>"
            ]
          },
          "metadata": {
            "needs_background": "light"
          },
          "output_type": "display_data"
        }
      ],
      "source": [
        "# sex column\n",
        "print('\\033[1m'+ \"Train data\" + '\\033[0m')\n",
        "print(\"Datatype is\", train_data['sex'].dtype)\n",
        "print(\"Missing values are\", train_data['sex'].isnull().sum())\n",
        "print(train_data['sex'].value_counts())\n",
        "train_data['sex'] = train_data['sex'].str.lstrip()\n",
        "\n",
        "plt.figure(figsize=(4,4))\n",
        "sns.countplot(x='sex', data=train_data, hue='income')\n",
        "plt.show()"
      ]
    },
    {
      "cell_type": "code",
      "execution_count": null,
      "metadata": {
        "colab": {
          "base_uri": "https://localhost:8080/",
          "height": 1000
        },
        "id": "BEYDdn46Wykr",
        "outputId": "f7d45b73-645c-4a22-daf3-b2e32b9b53df"
      },
      "outputs": [
        {
          "name": "stdout",
          "output_type": "stream",
          "text": [
            "\u001b[1mTrain data\u001b[0m\n",
            "Datatype is object\n",
            "Missing values are 0\n",
            " United-States                 29170\n",
            " Mexico                          643\n",
            "Not Known                        583\n",
            " Philippines                     198\n",
            " Germany                         137\n",
            " Canada                          121\n",
            " Puerto-Rico                     114\n",
            " El-Salvador                     106\n",
            " India                           100\n",
            " Cuba                             95\n",
            " England                          90\n",
            " Jamaica                          81\n",
            " South                            80\n",
            " China                            75\n",
            " Italy                            73\n",
            " Dominican-Republic               70\n",
            " Vietnam                          67\n",
            " Guatemala                        64\n",
            " Japan                            62\n",
            " Poland                           60\n",
            " Columbia                         59\n",
            " Taiwan                           51\n",
            " Haiti                            44\n",
            " Iran                             43\n",
            " Portugal                         37\n",
            " Nicaragua                        34\n",
            " Peru                             31\n",
            " France                           29\n",
            " Greece                           29\n",
            " Ecuador                          28\n",
            " Ireland                          24\n",
            " Hong                             20\n",
            " Trinadad&Tobago                  19\n",
            " Cambodia                         19\n",
            " Thailand                         18\n",
            " Laos                             18\n",
            " Yugoslavia                       16\n",
            " Outlying-US(Guam-USVI-etc)       14\n",
            " Hungary                          13\n",
            " Honduras                         13\n",
            " Scotland                         12\n",
            " Holand-Netherlands                1\n",
            "Name: native-country, dtype: int64\n"
          ]
        },
        {
          "data": {
            "image/png": "[encoded data removed]",
            "text/plain": [
              "<Figure size 2880x1080 with 1 Axes>"
            ]
          },
          "metadata": {
            "needs_background": "light"
          },
          "output_type": "display_data"
        }
      ],
      "source": [
        "# native-country column\n",
        "print('\\033[1m'+ \"Train data\" + '\\033[0m')\n",
        "print(\"Datatype is\", train_data['native-country'].dtype)\n",
        "print(\"Missing values are\", train_data['native-country'].isnull().sum())\n",
        "print(train_data['native-country'].value_counts())\n",
        "train_data['native-country'] = train_data['native-country'].str.lstrip()\n",
        "\n",
        "plt.figure(figsize=(40,15))\n",
        "sns.countplot(x='native-country', data=train_data, hue='income')\n",
        "plt.xticks(fontsize=12, rotation=45)\n",
        "plt.yticks(fontsize=12)\n",
        "plt.xlabel(\"native-country\",fontsize=12)\n",
        "plt.ylabel(\"Frequency\",fontsize=12)\n",
        "plt.legend(loc='upper right')\n",
        "plt.show()"
      ]
    },
    {
      "cell_type": "code",
      "execution_count": null,
      "metadata": {
        "colab": {
          "base_uri": "https://localhost:8080/",
          "height": 390
        },
        "id": "4pY5B6b1eiKN",
        "outputId": "4d45c79d-b2ff-4ab7-94b3-fba7e7f7af78"
      },
      "outputs": [
        {
          "name": "stdout",
          "output_type": "stream",
          "text": [
            "\u001b[1mTrain data\u001b[0m\n",
            "Datatype is object\n",
            "Missing values are 0\n",
            "<=50K    24720\n",
            ">50K      7841\n",
            "Name: income, dtype: int64\n"
          ]
        },
        {
          "data": {
            "image/png": "[encoded data removed]",
            "text/plain": [
              "<Figure size 360x288 with 1 Axes>"
            ]
          },
          "metadata": {
            "needs_background": "light"
          },
          "output_type": "display_data"
        }
      ],
      "source": [
        "# income column\n",
        "print('\\033[1m'+ \"Train data\" + '\\033[0m')\n",
        "print(\"Datatype is\", train_data['income'].dtype)\n",
        "print(\"Missing values are\", train_data['income'].isnull().sum())\n",
        "print(train_data['income'].value_counts())\n",
        "train_data['income'] = train_data['income'].str.lstrip()\n",
        "\n",
        "plt.figure(figsize=(5,4))\n",
        "sns.countplot(x='income', data=train_data, hue='income')\n",
        "plt.show()"
      ]
    },
    {
      "cell_type": "markdown",
      "metadata": {
        "id": "7BtlU0tcdl8E"
      },
      "source": [
        "`The class of interest is whether the income exceeds $50K/year`\n",
        "`i.e., Income >50K`. \n",
        "\n",
        "`Therefore, mapping the classes of the target variables: <=50K with 0, and >50K with 1`"
      ]
    },
    {
      "cell_type": "code",
      "execution_count": null,
      "metadata": {
        "colab": {
          "base_uri": "https://localhost:8080/"
        },
        "id": "q7t49uUlKGpz",
        "outputId": "3153f7b8-3d23-4b85-cc29-1bd259d339e6"
      },
      "outputs": [
        {
          "name": "stdout",
          "output_type": "stream",
          "text": [
            "Train data:\n",
            "0    24720\n",
            "1     7841\n",
            "Name: income, dtype: int64\n",
            "\n",
            "Test data:\n",
            "0    12435\n",
            "1     3846\n",
            "Name: income, dtype: int64\n"
          ]
        }
      ],
      "source": [
        "# Encoding the classes of the target variable in train and test data with '0' and '1'\n",
        "train_data['income'] = train_data['income'].replace({'<=50K':0,'>50K':1})\n",
        "test_data['income'] = test_data['income'].replace({'<=50K':0,'>50K':1})\n",
        "\n",
        "# Checking the count of classes in the target variable 'income'\n",
        "print(\"Train data:\")\n",
        "print(train_data.income.value_counts())\n",
        "\n",
        "print(\"\\nTest data:\")\n",
        "print(test_data.income.value_counts())"
      ]
    },
    {
      "cell_type": "markdown",
      "metadata": {
        "id": "XrMBU_edewY5"
      },
      "source": [
        "# **Data Preprocessing**"
      ]
    },
    {
      "cell_type": "markdown",
      "metadata": {
        "id": "rSZ7HLkBzFmN"
      },
      "source": [
        "### Correlation Analysis of Numeric Variables using Pearson’s Correlation \n"
      ]
    },
    {
      "cell_type": "markdown",
      "metadata": {
        "id": "v2lJ52wQqnkS"
      },
      "source": [
        "`  From the below heatmap, it can be inferred that there is no high correlation of any numeric attribute with one or more of the other numeric atrributes. This implies that they do not exhibit Multicollinearity and thus, do not need to be removed from the analysis.  `"
      ]
    },
    {
      "cell_type": "code",
      "execution_count": null,
      "metadata": {
        "colab": {
          "base_uri": "https://localhost:8080/",
          "height": 536
        },
        "id": "BQGURI78p7CD",
        "outputId": "455e0164-103f-4035-92f6-1c6a6ea05f23"
      },
      "outputs": [
        {
          "data": {
            "text/plain": [
              "<matplotlib.axes._subplots.AxesSubplot at 0x7faa088370d0>"
            ]
          },
          "execution_count": 34,
          "metadata": {},
          "output_type": "execute_result"
        },
        {
          "data": {
            "image/png": "[encoded data removed]",
            "text/plain": [
              "<Figure size 1800x720 with 2 Axes>"
            ]
          },
          "metadata": {
            "needs_background": "light"
          },
          "output_type": "display_data"
        }
      ],
      "source": [
        "# Visualizing the correlation amongst Numeric variables using a heatmap\n",
        "plt.figure(figsize=(25,10))\n",
        "sns.heatmap(train_data.loc[:,df_train_numerical].corr(), annot=True, linewidths=.5,fmt='.3f')"
      ]
    },
    {
      "cell_type": "markdown",
      "metadata": {
        "id": "mGawClgClu39"
      },
      "source": [
        "### Analyzing the Correlation between the continuous predictor variables and the binary target variable `income`"
      ]
    },
    {
      "cell_type": "markdown",
      "metadata": {
        "id": "MZzeEzisrS32"
      },
      "source": [
        "For measuring the relationship between the binary target variable and the continuous variables of this dataset, we make use of the the `PointBiserial Correlation Result` by defining a `Null Hypothesis` and an `Alternate Hypothesis` reagarding the correlation amongst the features under consideration.\n",
        "\n",
        "1. Null hypothesis `H0`     : the continuous variable and target variable have no correlation between them.\n",
        "2. Alternate Hypothesis `H1`: the continuous variable and target variable have a correlation between them.\n",
        "\n",
        "If the p-value is greater than 0.05, we `fail to reject the Null hypothesis` and conclude that the continuous variable considered is not correlated to target variable `income`. \n",
        "\n",
        "If the p-value is less than 0.05, we `reject the Null hypothesis` and conclude that the continuous variable considered is correlated to target variable `income`. \n"
      ]
    },
    {
      "cell_type": "markdown",
      "metadata": {
        "id": "mktIDf96sJDv"
      },
      "source": [
        "Observations from the results of the `PointBiserial Correlation Result` below:\n",
        "\n",
        "1. For the numeric variable `fnlwgt`, the p-value is greater than 0.05, we fail to reject the Null Hypothesis and assume that these numeric variables and binary categorical variable `income` are not correlated, as also explained by the correlation values in the result.\n",
        "\n",
        "2. For all the other numeric variables, since the p-value is less than 0.05, we reject the Null Hypothesis and assume that these numeric variables and binary categorical variable `income` are correlated, as also explained by the correlation values in the result.\n"
      ]
    },
    {
      "cell_type": "code",
      "execution_count": null,
      "metadata": {
        "colab": {
          "base_uri": "https://localhost:8080/"
        },
        "id": "1HIBKkfhyZhK",
        "outputId": "d585888d-85da-4083-984d-29e66a372849"
      },
      "outputs": [
        {
          "name": "stdout",
          "output_type": "stream",
          "text": [
            "age ---> PointbiserialrResult(correlation=0.2340371026488576, pvalue=0.0) \n",
            "\n",
            "fnlwgt ---> PointbiserialrResult(correlation=-0.00946255724752922, pvalue=0.08773666108238731) \n",
            "\n",
            "education-num ---> PointbiserialrResult(correlation=0.335153952690941, pvalue=0.0) \n",
            "\n",
            "capital-gain ---> PointbiserialrResult(correlation=0.22332881819538541, pvalue=0.0) \n",
            "\n",
            "capital-loss ---> PointbiserialrResult(correlation=0.1505263117703544, pvalue=2.6865471891044098e-164) \n",
            "\n",
            "hours-per-week ---> PointbiserialrResult(correlation=0.2296890656708105, pvalue=0.0) \n",
            "\n"
          ]
        }
      ],
      "source": [
        "# Checking the correlation of the numeric variables with the target variable 'income' \n",
        "# PointBiserial correlation is used to measure the relationship between a binary variable and a continuous variable.\n",
        "df_train_num = train_data.loc[:,df_train_numerical]\n",
        "for col in df_train_num:\n",
        "  print(col, \"--->\",stats.pointbiserialr(df_train_num[col], train_data['income']), \"\\n\")"
      ]
    },
    {
      "cell_type": "markdown",
      "metadata": {
        "id": "Wbm1WFDlauVF"
      },
      "source": [
        "`Based on the above evaluation, we drop the variable 'Fnlwgt' and 'Education' from our analysis as 'Fnlwgt' is uncorrelated with target variable income, while 'Education' is a redundant variable, and its substitute 'Education-num' already exists in numeric form.`"
      ]
    },
    {
      "cell_type": "code",
      "execution_count": null,
      "metadata": {
        "id": "mRO896DhyZJD"
      },
      "outputs": [],
      "source": [
        "# Dropping the variable 'Fnlwgt' as it is uncorrelated with the target variable 'income' from the train and test data\n",
        "train_data.drop('fnlwgt', axis=1, inplace=True)\n",
        "test_data.drop('fnlwgt', axis=1, inplace=True)\n",
        "\n",
        "# Dropping 'Education' variable as it seems redundant with 'Education-num', which has data as per weightage\n",
        "train_data.drop('education', axis=1, inplace=True)\n",
        "test_data.drop('education', axis=1, inplace=True)"
      ]
    },
    {
      "cell_type": "markdown",
      "metadata": {
        "id": "NP5fmY_3YPIY"
      },
      "source": [
        "# **Feature Engineering**\n"
      ]
    },
    {
      "cell_type": "markdown",
      "metadata": {
        "id": "Fketr5Ppa3vI"
      },
      "source": [
        "`The dummy variables were generated for the categorical variables to ensure data is encoded in a binary format for ease of training the different classification model during the model building phase.`"
      ]
    },
    {
      "cell_type": "code",
      "execution_count": null,
      "metadata": {
        "id": "lLjJdGJayjwF"
      },
      "outputs": [],
      "source": [
        "# Getting the dummy variables for the categorical variables\n",
        "dummy_train = pd.get_dummies(train_data[['workclass','marital-status', 'occupation', 'relationship','sex','race', 'native-country']])\n",
        "dummy_test = pd.get_dummies(test_data[['workclass','marital-status', 'occupation', 'relationship','sex','race', 'native-country']])\n",
        "\n",
        "df_train_num = train_data[['age', 'education-num', 'capital-gain', 'capital-loss', 'hours-per-week']]\n",
        "df_test_num = test_data[['age', 'education-num', 'capital-gain', 'capital-loss', 'hours-per-week']]"
      ]
    },
    {
      "cell_type": "code",
      "execution_count": null,
      "metadata": {
        "id": "1ciygSrt56P0"
      },
      "outputs": [],
      "source": [
        "# Adding the results to the master dataframe\n",
        "df_train = pd.concat([train_data.income,df_train_num, dummy_train], axis=1)\n",
        "df_test = pd.concat([test_data.income,df_test_num, dummy_test], axis=1)"
      ]
    },
    {
      "cell_type": "code",
      "execution_count": null,
      "metadata": {
        "colab": {
          "base_uri": "https://localhost:8080/",
          "height": 326
        },
        "id": "RYwWJws56YmO",
        "outputId": "a5575e95-01dd-473d-e3f5-ea2f4f411b4f"
      },
      "outputs": [
        {
          "name": "stdout",
          "output_type": "stream",
          "text": [
            "Train data:\n",
            "\n"
          ]
        },
        {
          "data": {
            "text/html": [
              "<div>\n",
              "<style scoped>\n",
              "    .dataframe tbody tr th:only-of-type {\n",
              "        vertical-align: middle;\n",
              "    }\n",
              "\n",
              "    .dataframe tbody tr th {\n",
              "        vertical-align: top;\n",
              "    }\n",
              "\n",
              "    .dataframe thead th {\n",
              "        text-align: right;\n",
              "    }\n",
              "</style>\n",
              "<table border=\"1\" class=\"dataframe\">\n",
              "  <thead>\n",
              "    <tr style=\"text-align: right;\">\n",
              "      <th></th>\n",
              "      <th>income</th>\n",
              "      <th>age</th>\n",
              "      <th>education-num</th>\n",
              "      <th>capital-gain</th>\n",
              "      <th>capital-loss</th>\n",
              "      <th>hours-per-week</th>\n",
              "      <th>workclass_Federal-gov</th>\n",
              "      <th>workclass_Local-gov</th>\n",
              "      <th>workclass_Never-worked</th>\n",
              "      <th>workclass_Not Known</th>\n",
              "      <th>workclass_Private</th>\n",
              "      <th>workclass_Self-emp-inc</th>\n",
              "      <th>workclass_Self-emp-not-inc</th>\n",
              "      <th>workclass_State-gov</th>\n",
              "      <th>workclass_Without-pay</th>\n",
              "      <th>marital-status_Divorced</th>\n",
              "      <th>marital-status_Married-AF-spouse</th>\n",
              "      <th>marital-status_Married-civ-spouse</th>\n",
              "      <th>marital-status_Married-spouse-absent</th>\n",
              "      <th>marital-status_Never-married</th>\n",
              "      <th>marital-status_Separated</th>\n",
              "      <th>marital-status_Widowed</th>\n",
              "      <th>occupation_Adm-clerical</th>\n",
              "      <th>occupation_Armed-Forces</th>\n",
              "      <th>occupation_Craft-repair</th>\n",
              "      <th>occupation_Exec-managerial</th>\n",
              "      <th>occupation_Farming-fishing</th>\n",
              "      <th>occupation_Handlers-cleaners</th>\n",
              "      <th>occupation_Machine-op-inspct</th>\n",
              "      <th>occupation_Not Known</th>\n",
              "      <th>occupation_Other-service</th>\n",
              "      <th>occupation_Priv-house-serv</th>\n",
              "      <th>occupation_Prof-specialty</th>\n",
              "      <th>occupation_Protective-serv</th>\n",
              "      <th>occupation_Sales</th>\n",
              "      <th>occupation_Tech-support</th>\n",
              "      <th>occupation_Transport-moving</th>\n",
              "      <th>relationship_Husband</th>\n",
              "      <th>relationship_Not-in-family</th>\n",
              "      <th>relationship_Other-relative</th>\n",
              "      <th>...</th>\n",
              "      <th>native-country_China</th>\n",
              "      <th>native-country_Columbia</th>\n",
              "      <th>native-country_Cuba</th>\n",
              "      <th>native-country_Dominican-Republic</th>\n",
              "      <th>native-country_Ecuador</th>\n",
              "      <th>native-country_El-Salvador</th>\n",
              "      <th>native-country_England</th>\n",
              "      <th>native-country_France</th>\n",
              "      <th>native-country_Germany</th>\n",
              "      <th>native-country_Greece</th>\n",
              "      <th>native-country_Guatemala</th>\n",
              "      <th>native-country_Haiti</th>\n",
              "      <th>native-country_Holand-Netherlands</th>\n",
              "      <th>native-country_Honduras</th>\n",
              "      <th>native-country_Hong</th>\n",
              "      <th>native-country_Hungary</th>\n",
              "      <th>native-country_India</th>\n",
              "      <th>native-country_Iran</th>\n",
              "      <th>native-country_Ireland</th>\n",
              "      <th>native-country_Italy</th>\n",
              "      <th>native-country_Jamaica</th>\n",
              "      <th>native-country_Japan</th>\n",
              "      <th>native-country_Laos</th>\n",
              "      <th>native-country_Mexico</th>\n",
              "      <th>native-country_Nicaragua</th>\n",
              "      <th>native-country_Not Known</th>\n",
              "      <th>native-country_Outlying-US(Guam-USVI-etc)</th>\n",
              "      <th>native-country_Peru</th>\n",
              "      <th>native-country_Philippines</th>\n",
              "      <th>native-country_Poland</th>\n",
              "      <th>native-country_Portugal</th>\n",
              "      <th>native-country_Puerto-Rico</th>\n",
              "      <th>native-country_Scotland</th>\n",
              "      <th>native-country_South</th>\n",
              "      <th>native-country_Taiwan</th>\n",
              "      <th>native-country_Thailand</th>\n",
              "      <th>native-country_Trinadad&amp;Tobago</th>\n",
              "      <th>native-country_United-States</th>\n",
              "      <th>native-country_Vietnam</th>\n",
              "      <th>native-country_Yugoslavia</th>\n",
              "    </tr>\n",
              "  </thead>\n",
              "  <tbody>\n",
              "    <tr>\n",
              "      <th>0</th>\n",
              "      <td>0</td>\n",
              "      <td>39</td>\n",
              "      <td>13</td>\n",
              "      <td>2174</td>\n",
              "      <td>0</td>\n",
              "      <td>40</td>\n",
              "      <td>0</td>\n",
              "      <td>0</td>\n",
              "      <td>0</td>\n",
              "      <td>0</td>\n",
              "      <td>0</td>\n",
              "      <td>0</td>\n",
              "      <td>0</td>\n",
              "      <td>1</td>\n",
              "      <td>0</td>\n",
              "      <td>0</td>\n",
              "      <td>0</td>\n",
              "      <td>0</td>\n",
              "      <td>0</td>\n",
              "      <td>1</td>\n",
              "      <td>0</td>\n",
              "      <td>0</td>\n",
              "      <td>1</td>\n",
              "      <td>0</td>\n",
              "      <td>0</td>\n",
              "      <td>0</td>\n",
              "      <td>0</td>\n",
              "      <td>0</td>\n",
              "      <td>0</td>\n",
              "      <td>0</td>\n",
              "      <td>0</td>\n",
              "      <td>0</td>\n",
              "      <td>0</td>\n",
              "      <td>0</td>\n",
              "      <td>0</td>\n",
              "      <td>0</td>\n",
              "      <td>0</td>\n",
              "      <td>0</td>\n",
              "      <td>1</td>\n",
              "      <td>0</td>\n",
              "      <td>...</td>\n",
              "      <td>0</td>\n",
              "      <td>0</td>\n",
              "      <td>0</td>\n",
              "      <td>0</td>\n",
              "      <td>0</td>\n",
              "      <td>0</td>\n",
              "      <td>0</td>\n",
              "      <td>0</td>\n",
              "      <td>0</td>\n",
              "      <td>0</td>\n",
              "      <td>0</td>\n",
              "      <td>0</td>\n",
              "      <td>0</td>\n",
              "      <td>0</td>\n",
              "      <td>0</td>\n",
              "      <td>0</td>\n",
              "      <td>0</td>\n",
              "      <td>0</td>\n",
              "      <td>0</td>\n",
              "      <td>0</td>\n",
              "      <td>0</td>\n",
              "      <td>0</td>\n",
              "      <td>0</td>\n",
              "      <td>0</td>\n",
              "      <td>0</td>\n",
              "      <td>0</td>\n",
              "      <td>0</td>\n",
              "      <td>0</td>\n",
              "      <td>0</td>\n",
              "      <td>0</td>\n",
              "      <td>0</td>\n",
              "      <td>0</td>\n",
              "      <td>0</td>\n",
              "      <td>0</td>\n",
              "      <td>0</td>\n",
              "      <td>0</td>\n",
              "      <td>0</td>\n",
              "      <td>1</td>\n",
              "      <td>0</td>\n",
              "      <td>0</td>\n",
              "    </tr>\n",
              "    <tr>\n",
              "      <th>1</th>\n",
              "      <td>0</td>\n",
              "      <td>50</td>\n",
              "      <td>13</td>\n",
              "      <td>0</td>\n",
              "      <td>0</td>\n",
              "      <td>13</td>\n",
              "      <td>0</td>\n",
              "      <td>0</td>\n",
              "      <td>0</td>\n",
              "      <td>0</td>\n",
              "      <td>0</td>\n",
              "      <td>0</td>\n",
              "      <td>1</td>\n",
              "      <td>0</td>\n",
              "      <td>0</td>\n",
              "      <td>0</td>\n",
              "      <td>0</td>\n",
              "      <td>1</td>\n",
              "      <td>0</td>\n",
              "      <td>0</td>\n",
              "      <td>0</td>\n",
              "      <td>0</td>\n",
              "      <td>0</td>\n",
              "      <td>0</td>\n",
              "      <td>0</td>\n",
              "      <td>1</td>\n",
              "      <td>0</td>\n",
              "      <td>0</td>\n",
              "      <td>0</td>\n",
              "      <td>0</td>\n",
              "      <td>0</td>\n",
              "      <td>0</td>\n",
              "      <td>0</td>\n",
              "      <td>0</td>\n",
              "      <td>0</td>\n",
              "      <td>0</td>\n",
              "      <td>0</td>\n",
              "      <td>1</td>\n",
              "      <td>0</td>\n",
              "      <td>0</td>\n",
              "      <td>...</td>\n",
              "      <td>0</td>\n",
              "      <td>0</td>\n",
              "      <td>0</td>\n",
              "      <td>0</td>\n",
              "      <td>0</td>\n",
              "      <td>0</td>\n",
              "      <td>0</td>\n",
              "      <td>0</td>\n",
              "      <td>0</td>\n",
              "      <td>0</td>\n",
              "      <td>0</td>\n",
              "      <td>0</td>\n",
              "      <td>0</td>\n",
              "      <td>0</td>\n",
              "      <td>0</td>\n",
              "      <td>0</td>\n",
              "      <td>0</td>\n",
              "      <td>0</td>\n",
              "      <td>0</td>\n",
              "      <td>0</td>\n",
              "      <td>0</td>\n",
              "      <td>0</td>\n",
              "      <td>0</td>\n",
              "      <td>0</td>\n",
              "      <td>0</td>\n",
              "      <td>0</td>\n",
              "      <td>0</td>\n",
              "      <td>0</td>\n",
              "      <td>0</td>\n",
              "      <td>0</td>\n",
              "      <td>0</td>\n",
              "      <td>0</td>\n",
              "      <td>0</td>\n",
              "      <td>0</td>\n",
              "      <td>0</td>\n",
              "      <td>0</td>\n",
              "      <td>0</td>\n",
              "      <td>1</td>\n",
              "      <td>0</td>\n",
              "      <td>0</td>\n",
              "    </tr>\n",
              "    <tr>\n",
              "      <th>2</th>\n",
              "      <td>0</td>\n",
              "      <td>38</td>\n",
              "      <td>9</td>\n",
              "      <td>0</td>\n",
              "      <td>0</td>\n",
              "      <td>40</td>\n",
              "      <td>0</td>\n",
              "      <td>0</td>\n",
              "      <td>0</td>\n",
              "      <td>0</td>\n",
              "      <td>1</td>\n",
              "      <td>0</td>\n",
              "      <td>0</td>\n",
              "      <td>0</td>\n",
              "      <td>0</td>\n",
              "      <td>1</td>\n",
              "      <td>0</td>\n",
              "      <td>0</td>\n",
              "      <td>0</td>\n",
              "      <td>0</td>\n",
              "      <td>0</td>\n",
              "      <td>0</td>\n",
              "      <td>0</td>\n",
              "      <td>0</td>\n",
              "      <td>0</td>\n",
              "      <td>0</td>\n",
              "      <td>0</td>\n",
              "      <td>1</td>\n",
              "      <td>0</td>\n",
              "      <td>0</td>\n",
              "      <td>0</td>\n",
              "      <td>0</td>\n",
              "      <td>0</td>\n",
              "      <td>0</td>\n",
              "      <td>0</td>\n",
              "      <td>0</td>\n",
              "      <td>0</td>\n",
              "      <td>0</td>\n",
              "      <td>1</td>\n",
              "      <td>0</td>\n",
              "      <td>...</td>\n",
              "      <td>0</td>\n",
              "      <td>0</td>\n",
              "      <td>0</td>\n",
              "      <td>0</td>\n",
              "      <td>0</td>\n",
              "      <td>0</td>\n",
              "      <td>0</td>\n",
              "      <td>0</td>\n",
              "      <td>0</td>\n",
              "      <td>0</td>\n",
              "      <td>0</td>\n",
              "      <td>0</td>\n",
              "      <td>0</td>\n",
              "      <td>0</td>\n",
              "      <td>0</td>\n",
              "      <td>0</td>\n",
              "      <td>0</td>\n",
              "      <td>0</td>\n",
              "      <td>0</td>\n",
              "      <td>0</td>\n",
              "      <td>0</td>\n",
              "      <td>0</td>\n",
              "      <td>0</td>\n",
              "      <td>0</td>\n",
              "      <td>0</td>\n",
              "      <td>0</td>\n",
              "      <td>0</td>\n",
              "      <td>0</td>\n",
              "      <td>0</td>\n",
              "      <td>0</td>\n",
              "      <td>0</td>\n",
              "      <td>0</td>\n",
              "      <td>0</td>\n",
              "      <td>0</td>\n",
              "      <td>0</td>\n",
              "      <td>0</td>\n",
              "      <td>0</td>\n",
              "      <td>1</td>\n",
              "      <td>0</td>\n",
              "      <td>0</td>\n",
              "    </tr>\n",
              "    <tr>\n",
              "      <th>3</th>\n",
              "      <td>0</td>\n",
              "      <td>53</td>\n",
              "      <td>7</td>\n",
              "      <td>0</td>\n",
              "      <td>0</td>\n",
              "      <td>40</td>\n",
              "      <td>0</td>\n",
              "      <td>0</td>\n",
              "      <td>0</td>\n",
              "      <td>0</td>\n",
              "      <td>1</td>\n",
              "      <td>0</td>\n",
              "      <td>0</td>\n",
              "      <td>0</td>\n",
              "      <td>0</td>\n",
              "      <td>0</td>\n",
              "      <td>0</td>\n",
              "      <td>1</td>\n",
              "      <td>0</td>\n",
              "      <td>0</td>\n",
              "      <td>0</td>\n",
              "      <td>0</td>\n",
              "      <td>0</td>\n",
              "      <td>0</td>\n",
              "      <td>0</td>\n",
              "      <td>0</td>\n",
              "      <td>0</td>\n",
              "      <td>1</td>\n",
              "      <td>0</td>\n",
              "      <td>0</td>\n",
              "      <td>0</td>\n",
              "      <td>0</td>\n",
              "      <td>0</td>\n",
              "      <td>0</td>\n",
              "      <td>0</td>\n",
              "      <td>0</td>\n",
              "      <td>0</td>\n",
              "      <td>1</td>\n",
              "      <td>0</td>\n",
              "      <td>0</td>\n",
              "      <td>...</td>\n",
              "      <td>0</td>\n",
              "      <td>0</td>\n",
              "      <td>0</td>\n",
              "      <td>0</td>\n",
              "      <td>0</td>\n",
              "      <td>0</td>\n",
              "      <td>0</td>\n",
              "      <td>0</td>\n",
              "      <td>0</td>\n",
              "      <td>0</td>\n",
              "      <td>0</td>\n",
              "      <td>0</td>\n",
              "      <td>0</td>\n",
              "      <td>0</td>\n",
              "      <td>0</td>\n",
              "      <td>0</td>\n",
              "      <td>0</td>\n",
              "      <td>0</td>\n",
              "      <td>0</td>\n",
              "      <td>0</td>\n",
              "      <td>0</td>\n",
              "      <td>0</td>\n",
              "      <td>0</td>\n",
              "      <td>0</td>\n",
              "      <td>0</td>\n",
              "      <td>0</td>\n",
              "      <td>0</td>\n",
              "      <td>0</td>\n",
              "      <td>0</td>\n",
              "      <td>0</td>\n",
              "      <td>0</td>\n",
              "      <td>0</td>\n",
              "      <td>0</td>\n",
              "      <td>0</td>\n",
              "      <td>0</td>\n",
              "      <td>0</td>\n",
              "      <td>0</td>\n",
              "      <td>1</td>\n",
              "      <td>0</td>\n",
              "      <td>0</td>\n",
              "    </tr>\n",
              "    <tr>\n",
              "      <th>4</th>\n",
              "      <td>0</td>\n",
              "      <td>28</td>\n",
              "      <td>13</td>\n",
              "      <td>0</td>\n",
              "      <td>0</td>\n",
              "      <td>40</td>\n",
              "      <td>0</td>\n",
              "      <td>0</td>\n",
              "      <td>0</td>\n",
              "      <td>0</td>\n",
              "      <td>1</td>\n",
              "      <td>0</td>\n",
              "      <td>0</td>\n",
              "      <td>0</td>\n",
              "      <td>0</td>\n",
              "      <td>0</td>\n",
              "      <td>0</td>\n",
              "      <td>1</td>\n",
              "      <td>0</td>\n",
              "      <td>0</td>\n",
              "      <td>0</td>\n",
              "      <td>0</td>\n",
              "      <td>0</td>\n",
              "      <td>0</td>\n",
              "      <td>0</td>\n",
              "      <td>0</td>\n",
              "      <td>0</td>\n",
              "      <td>0</td>\n",
              "      <td>0</td>\n",
              "      <td>0</td>\n",
              "      <td>0</td>\n",
              "      <td>0</td>\n",
              "      <td>1</td>\n",
              "      <td>0</td>\n",
              "      <td>0</td>\n",
              "      <td>0</td>\n",
              "      <td>0</td>\n",
              "      <td>0</td>\n",
              "      <td>0</td>\n",
              "      <td>0</td>\n",
              "      <td>...</td>\n",
              "      <td>0</td>\n",
              "      <td>0</td>\n",
              "      <td>1</td>\n",
              "      <td>0</td>\n",
              "      <td>0</td>\n",
              "      <td>0</td>\n",
              "      <td>0</td>\n",
              "      <td>0</td>\n",
              "      <td>0</td>\n",
              "      <td>0</td>\n",
              "      <td>0</td>\n",
              "      <td>0</td>\n",
              "      <td>0</td>\n",
              "      <td>0</td>\n",
              "      <td>0</td>\n",
              "      <td>0</td>\n",
              "      <td>0</td>\n",
              "      <td>0</td>\n",
              "      <td>0</td>\n",
              "      <td>0</td>\n",
              "      <td>0</td>\n",
              "      <td>0</td>\n",
              "      <td>0</td>\n",
              "      <td>0</td>\n",
              "      <td>0</td>\n",
              "      <td>0</td>\n",
              "      <td>0</td>\n",
              "      <td>0</td>\n",
              "      <td>0</td>\n",
              "      <td>0</td>\n",
              "      <td>0</td>\n",
              "      <td>0</td>\n",
              "      <td>0</td>\n",
              "      <td>0</td>\n",
              "      <td>0</td>\n",
              "      <td>0</td>\n",
              "      <td>0</td>\n",
              "      <td>0</td>\n",
              "      <td>0</td>\n",
              "      <td>0</td>\n",
              "    </tr>\n",
              "  </tbody>\n",
              "</table>\n",
              "<p>5 rows × 92 columns</p>\n",
              "</div>"
            ],
            "text/plain": [
              "   income  age  education-num  capital-gain  capital-loss  hours-per-week  workclass_Federal-gov  workclass_Local-gov  workclass_Never-worked  workclass_Not Known  workclass_Private  workclass_Self-emp-inc  workclass_Self-emp-not-inc  workclass_State-gov  workclass_Without-pay  marital-status_Divorced  marital-status_Married-AF-spouse  marital-status_Married-civ-spouse  marital-status_Married-spouse-absent  marital-status_Never-married  marital-status_Separated  marital-status_Widowed  occupation_Adm-clerical  occupation_Armed-Forces  occupation_Craft-repair  occupation_Exec-managerial  occupation_Farming-fishing  occupation_Handlers-cleaners  occupation_Machine-op-inspct  occupation_Not Known  occupation_Other-service  occupation_Priv-house-serv  occupation_Prof-specialty  occupation_Protective-serv  occupation_Sales  occupation_Tech-support  occupation_Transport-moving  relationship_Husband  relationship_Not-in-family  relationship_Other-relative  ...  native-country_China  native-country_Columbia  native-country_Cuba  native-country_Dominican-Republic  native-country_Ecuador  native-country_El-Salvador  native-country_England  native-country_France  native-country_Germany  native-country_Greece  native-country_Guatemala  native-country_Haiti  native-country_Holand-Netherlands  native-country_Honduras  native-country_Hong  native-country_Hungary  native-country_India  native-country_Iran  native-country_Ireland  native-country_Italy  native-country_Jamaica  native-country_Japan  native-country_Laos  native-country_Mexico  native-country_Nicaragua  native-country_Not Known  native-country_Outlying-US(Guam-USVI-etc)  native-country_Peru  native-country_Philippines  native-country_Poland  native-country_Portugal  native-country_Puerto-Rico  native-country_Scotland  native-country_South  native-country_Taiwan  native-country_Thailand  native-country_Trinadad&Tobago  native-country_United-States  native-country_Vietnam  native-country_Yugoslavia\n",
              "0       0   39             13          2174             0              40                      0                    0                       0                    0                  0                       0                           0                    1                      0                        0                                 0                                  0                                     0                             1                         0                       0                        1                        0                        0                           0                           0                             0                             0                     0                         0                           0                          0                           0                 0                        0                            0                     0                           1                            0  ...                     0                        0                    0                                  0                       0                           0                       0                      0                       0                      0                         0                     0                                  0                        0                    0                       0                     0                    0                       0                     0                       0                     0                    0                      0                         0                         0                                          0                    0                           0                      0                        0                           0                        0                     0                      0                        0                               0                             1                       0                          0\n",
              "1       0   50             13             0             0              13                      0                    0                       0                    0                  0                       0                           1                    0                      0                        0                                 0                                  1                                     0                             0                         0                       0                        0                        0                        0                           1                           0                             0                             0                     0                         0                           0                          0                           0                 0                        0                            0                     1                           0                            0  ...                     0                        0                    0                                  0                       0                           0                       0                      0                       0                      0                         0                     0                                  0                        0                    0                       0                     0                    0                       0                     0                       0                     0                    0                      0                         0                         0                                          0                    0                           0                      0                        0                           0                        0                     0                      0                        0                               0                             1                       0                          0\n",
              "2       0   38              9             0             0              40                      0                    0                       0                    0                  1                       0                           0                    0                      0                        1                                 0                                  0                                     0                             0                         0                       0                        0                        0                        0                           0                           0                             1                             0                     0                         0                           0                          0                           0                 0                        0                            0                     0                           1                            0  ...                     0                        0                    0                                  0                       0                           0                       0                      0                       0                      0                         0                     0                                  0                        0                    0                       0                     0                    0                       0                     0                       0                     0                    0                      0                         0                         0                                          0                    0                           0                      0                        0                           0                        0                     0                      0                        0                               0                             1                       0                          0\n",
              "3       0   53              7             0             0              40                      0                    0                       0                    0                  1                       0                           0                    0                      0                        0                                 0                                  1                                     0                             0                         0                       0                        0                        0                        0                           0                           0                             1                             0                     0                         0                           0                          0                           0                 0                        0                            0                     1                           0                            0  ...                     0                        0                    0                                  0                       0                           0                       0                      0                       0                      0                         0                     0                                  0                        0                    0                       0                     0                    0                       0                     0                       0                     0                    0                      0                         0                         0                                          0                    0                           0                      0                        0                           0                        0                     0                      0                        0                               0                             1                       0                          0\n",
              "4       0   28             13             0             0              40                      0                    0                       0                    0                  1                       0                           0                    0                      0                        0                                 0                                  1                                     0                             0                         0                       0                        0                        0                        0                           0                           0                             0                             0                     0                         0                           0                          1                           0                 0                        0                            0                     0                           0                            0  ...                     0                        0                    1                                  0                       0                           0                       0                      0                       0                      0                         0                     0                                  0                        0                    0                       0                     0                    0                       0                     0                       0                     0                    0                      0                         0                         0                                          0                    0                           0                      0                        0                           0                        0                     0                      0                        0                               0                             0                       0                          0\n",
              "\n",
              "[5 rows x 92 columns]"
            ]
          },
          "execution_count": 39,
          "metadata": {},
          "output_type": "execute_result"
        }
      ],
      "source": [
        "# Checking the first 5 observation of the Train data after Label Encoding and creating dummy variables\n",
        "print(\"Train data:\\n\")\n",
        "df_train.head()"
      ]
    },
    {
      "cell_type": "markdown",
      "metadata": {
        "id": "YMdvsSCDbAV1"
      },
      "source": [
        "`As the data was missing for the native country Netherlands in the test set, a separate column consisting of all 0’s was added as a substitute in the test set.`"
      ]
    },
    {
      "cell_type": "code",
      "execution_count": null,
      "metadata": {
        "id": "5NIP3sy6aZqR"
      },
      "outputs": [],
      "source": [
        "# Adding the column in test data with all 0 values for Native country Netherlands \n",
        "Netherlands = np.zeros([df_test.shape[0]])\n",
        "df_test.insert(64, 'native-country_Holand-Netherlands', Netherlands)"
      ]
    },
    {
      "cell_type": "code",
      "execution_count": null,
      "metadata": {
        "colab": {
          "base_uri": "https://localhost:8080/",
          "height": 362
        },
        "id": "ybIWcX8LBKBA",
        "outputId": "79752bd3-42c7-4996-a957-ce24d871c3f7"
      },
      "outputs": [
        {
          "name": "stdout",
          "output_type": "stream",
          "text": [
            "Test data:\n",
            "\n"
          ]
        },
        {
          "data": {
            "text/html": [
              "<div>\n",
              "<style scoped>\n",
              "    .dataframe tbody tr th:only-of-type {\n",
              "        vertical-align: middle;\n",
              "    }\n",
              "\n",
              "    .dataframe tbody tr th {\n",
              "        vertical-align: top;\n",
              "    }\n",
              "\n",
              "    .dataframe thead th {\n",
              "        text-align: right;\n",
              "    }\n",
              "</style>\n",
              "<table border=\"1\" class=\"dataframe\">\n",
              "  <thead>\n",
              "    <tr style=\"text-align: right;\">\n",
              "      <th></th>\n",
              "      <th>income</th>\n",
              "      <th>age</th>\n",
              "      <th>education-num</th>\n",
              "      <th>capital-gain</th>\n",
              "      <th>capital-loss</th>\n",
              "      <th>hours-per-week</th>\n",
              "      <th>workclass_ Federal-gov</th>\n",
              "      <th>workclass_ Local-gov</th>\n",
              "      <th>workclass_ Never-worked</th>\n",
              "      <th>workclass_ Private</th>\n",
              "      <th>workclass_ Self-emp-inc</th>\n",
              "      <th>workclass_ Self-emp-not-inc</th>\n",
              "      <th>workclass_ State-gov</th>\n",
              "      <th>workclass_ Without-pay</th>\n",
              "      <th>workclass_Not Known</th>\n",
              "      <th>marital-status_ Divorced</th>\n",
              "      <th>marital-status_ Married-AF-spouse</th>\n",
              "      <th>marital-status_ Married-civ-spouse</th>\n",
              "      <th>marital-status_ Married-spouse-absent</th>\n",
              "      <th>marital-status_ Never-married</th>\n",
              "      <th>marital-status_ Separated</th>\n",
              "      <th>marital-status_ Widowed</th>\n",
              "      <th>occupation_ Adm-clerical</th>\n",
              "      <th>occupation_ Armed-Forces</th>\n",
              "      <th>occupation_ Craft-repair</th>\n",
              "      <th>occupation_ Exec-managerial</th>\n",
              "      <th>occupation_ Farming-fishing</th>\n",
              "      <th>occupation_ Handlers-cleaners</th>\n",
              "      <th>occupation_ Machine-op-inspct</th>\n",
              "      <th>occupation_ Other-service</th>\n",
              "      <th>occupation_ Priv-house-serv</th>\n",
              "      <th>occupation_ Prof-specialty</th>\n",
              "      <th>occupation_ Protective-serv</th>\n",
              "      <th>occupation_ Sales</th>\n",
              "      <th>occupation_ Tech-support</th>\n",
              "      <th>occupation_ Transport-moving</th>\n",
              "      <th>occupation_Not Known</th>\n",
              "      <th>relationship_ Husband</th>\n",
              "      <th>relationship_ Not-in-family</th>\n",
              "      <th>relationship_ Other-relative</th>\n",
              "      <th>...</th>\n",
              "      <th>native-country_ China</th>\n",
              "      <th>native-country_ Columbia</th>\n",
              "      <th>native-country_ Cuba</th>\n",
              "      <th>native-country_ Dominican-Republic</th>\n",
              "      <th>native-country_ Ecuador</th>\n",
              "      <th>native-country_ El-Salvador</th>\n",
              "      <th>native-country_ England</th>\n",
              "      <th>native-country_ France</th>\n",
              "      <th>native-country_ Germany</th>\n",
              "      <th>native-country_ Greece</th>\n",
              "      <th>native-country_ Guatemala</th>\n",
              "      <th>native-country_ Haiti</th>\n",
              "      <th>native-country_Holand-Netherlands</th>\n",
              "      <th>native-country_ Honduras</th>\n",
              "      <th>native-country_ Hong</th>\n",
              "      <th>native-country_ Hungary</th>\n",
              "      <th>native-country_ India</th>\n",
              "      <th>native-country_ Iran</th>\n",
              "      <th>native-country_ Ireland</th>\n",
              "      <th>native-country_ Italy</th>\n",
              "      <th>native-country_ Jamaica</th>\n",
              "      <th>native-country_ Japan</th>\n",
              "      <th>native-country_ Laos</th>\n",
              "      <th>native-country_ Mexico</th>\n",
              "      <th>native-country_ Nicaragua</th>\n",
              "      <th>native-country_ Outlying-US(Guam-USVI-etc)</th>\n",
              "      <th>native-country_ Peru</th>\n",
              "      <th>native-country_ Philippines</th>\n",
              "      <th>native-country_ Poland</th>\n",
              "      <th>native-country_ Portugal</th>\n",
              "      <th>native-country_ Puerto-Rico</th>\n",
              "      <th>native-country_ Scotland</th>\n",
              "      <th>native-country_ South</th>\n",
              "      <th>native-country_ Taiwan</th>\n",
              "      <th>native-country_ Thailand</th>\n",
              "      <th>native-country_ Trinadad&amp;Tobago</th>\n",
              "      <th>native-country_ United-States</th>\n",
              "      <th>native-country_ Vietnam</th>\n",
              "      <th>native-country_ Yugoslavia</th>\n",
              "      <th>native-country_Not Known</th>\n",
              "    </tr>\n",
              "  </thead>\n",
              "  <tbody>\n",
              "    <tr>\n",
              "      <th>0</th>\n",
              "      <td>0</td>\n",
              "      <td>25</td>\n",
              "      <td>7</td>\n",
              "      <td>0</td>\n",
              "      <td>0</td>\n",
              "      <td>40</td>\n",
              "      <td>0</td>\n",
              "      <td>0</td>\n",
              "      <td>0</td>\n",
              "      <td>1</td>\n",
              "      <td>0</td>\n",
              "      <td>0</td>\n",
              "      <td>0</td>\n",
              "      <td>0</td>\n",
              "      <td>0</td>\n",
              "      <td>0</td>\n",
              "      <td>0</td>\n",
              "      <td>0</td>\n",
              "      <td>0</td>\n",
              "      <td>1</td>\n",
              "      <td>0</td>\n",
              "      <td>0</td>\n",
              "      <td>0</td>\n",
              "      <td>0</td>\n",
              "      <td>0</td>\n",
              "      <td>0</td>\n",
              "      <td>0</td>\n",
              "      <td>0</td>\n",
              "      <td>1</td>\n",
              "      <td>0</td>\n",
              "      <td>0</td>\n",
              "      <td>0</td>\n",
              "      <td>0</td>\n",
              "      <td>0</td>\n",
              "      <td>0</td>\n",
              "      <td>0</td>\n",
              "      <td>0</td>\n",
              "      <td>0</td>\n",
              "      <td>0</td>\n",
              "      <td>0</td>\n",
              "      <td>...</td>\n",
              "      <td>0</td>\n",
              "      <td>0</td>\n",
              "      <td>0</td>\n",
              "      <td>0</td>\n",
              "      <td>0</td>\n",
              "      <td>0</td>\n",
              "      <td>0</td>\n",
              "      <td>0</td>\n",
              "      <td>0</td>\n",
              "      <td>0</td>\n",
              "      <td>0</td>\n",
              "      <td>0</td>\n",
              "      <td>0.0</td>\n",
              "      <td>0</td>\n",
              "      <td>0</td>\n",
              "      <td>0</td>\n",
              "      <td>0</td>\n",
              "      <td>0</td>\n",
              "      <td>0</td>\n",
              "      <td>0</td>\n",
              "      <td>0</td>\n",
              "      <td>0</td>\n",
              "      <td>0</td>\n",
              "      <td>0</td>\n",
              "      <td>0</td>\n",
              "      <td>0</td>\n",
              "      <td>0</td>\n",
              "      <td>0</td>\n",
              "      <td>0</td>\n",
              "      <td>0</td>\n",
              "      <td>0</td>\n",
              "      <td>0</td>\n",
              "      <td>0</td>\n",
              "      <td>0</td>\n",
              "      <td>0</td>\n",
              "      <td>0</td>\n",
              "      <td>1</td>\n",
              "      <td>0</td>\n",
              "      <td>0</td>\n",
              "      <td>0</td>\n",
              "    </tr>\n",
              "    <tr>\n",
              "      <th>1</th>\n",
              "      <td>0</td>\n",
              "      <td>38</td>\n",
              "      <td>9</td>\n",
              "      <td>0</td>\n",
              "      <td>0</td>\n",
              "      <td>50</td>\n",
              "      <td>0</td>\n",
              "      <td>0</td>\n",
              "      <td>0</td>\n",
              "      <td>1</td>\n",
              "      <td>0</td>\n",
              "      <td>0</td>\n",
              "      <td>0</td>\n",
              "      <td>0</td>\n",
              "      <td>0</td>\n",
              "      <td>0</td>\n",
              "      <td>0</td>\n",
              "      <td>1</td>\n",
              "      <td>0</td>\n",
              "      <td>0</td>\n",
              "      <td>0</td>\n",
              "      <td>0</td>\n",
              "      <td>0</td>\n",
              "      <td>0</td>\n",
              "      <td>0</td>\n",
              "      <td>0</td>\n",
              "      <td>1</td>\n",
              "      <td>0</td>\n",
              "      <td>0</td>\n",
              "      <td>0</td>\n",
              "      <td>0</td>\n",
              "      <td>0</td>\n",
              "      <td>0</td>\n",
              "      <td>0</td>\n",
              "      <td>0</td>\n",
              "      <td>0</td>\n",
              "      <td>0</td>\n",
              "      <td>1</td>\n",
              "      <td>0</td>\n",
              "      <td>0</td>\n",
              "      <td>...</td>\n",
              "      <td>0</td>\n",
              "      <td>0</td>\n",
              "      <td>0</td>\n",
              "      <td>0</td>\n",
              "      <td>0</td>\n",
              "      <td>0</td>\n",
              "      <td>0</td>\n",
              "      <td>0</td>\n",
              "      <td>0</td>\n",
              "      <td>0</td>\n",
              "      <td>0</td>\n",
              "      <td>0</td>\n",
              "      <td>0.0</td>\n",
              "      <td>0</td>\n",
              "      <td>0</td>\n",
              "      <td>0</td>\n",
              "      <td>0</td>\n",
              "      <td>0</td>\n",
              "      <td>0</td>\n",
              "      <td>0</td>\n",
              "      <td>0</td>\n",
              "      <td>0</td>\n",
              "      <td>0</td>\n",
              "      <td>0</td>\n",
              "      <td>0</td>\n",
              "      <td>0</td>\n",
              "      <td>0</td>\n",
              "      <td>0</td>\n",
              "      <td>0</td>\n",
              "      <td>0</td>\n",
              "      <td>0</td>\n",
              "      <td>0</td>\n",
              "      <td>0</td>\n",
              "      <td>0</td>\n",
              "      <td>0</td>\n",
              "      <td>0</td>\n",
              "      <td>1</td>\n",
              "      <td>0</td>\n",
              "      <td>0</td>\n",
              "      <td>0</td>\n",
              "    </tr>\n",
              "    <tr>\n",
              "      <th>2</th>\n",
              "      <td>1</td>\n",
              "      <td>28</td>\n",
              "      <td>12</td>\n",
              "      <td>0</td>\n",
              "      <td>0</td>\n",
              "      <td>40</td>\n",
              "      <td>0</td>\n",
              "      <td>1</td>\n",
              "      <td>0</td>\n",
              "      <td>0</td>\n",
              "      <td>0</td>\n",
              "      <td>0</td>\n",
              "      <td>0</td>\n",
              "      <td>0</td>\n",
              "      <td>0</td>\n",
              "      <td>0</td>\n",
              "      <td>0</td>\n",
              "      <td>1</td>\n",
              "      <td>0</td>\n",
              "      <td>0</td>\n",
              "      <td>0</td>\n",
              "      <td>0</td>\n",
              "      <td>0</td>\n",
              "      <td>0</td>\n",
              "      <td>0</td>\n",
              "      <td>0</td>\n",
              "      <td>0</td>\n",
              "      <td>0</td>\n",
              "      <td>0</td>\n",
              "      <td>0</td>\n",
              "      <td>0</td>\n",
              "      <td>0</td>\n",
              "      <td>1</td>\n",
              "      <td>0</td>\n",
              "      <td>0</td>\n",
              "      <td>0</td>\n",
              "      <td>0</td>\n",
              "      <td>1</td>\n",
              "      <td>0</td>\n",
              "      <td>0</td>\n",
              "      <td>...</td>\n",
              "      <td>0</td>\n",
              "      <td>0</td>\n",
              "      <td>0</td>\n",
              "      <td>0</td>\n",
              "      <td>0</td>\n",
              "      <td>0</td>\n",
              "      <td>0</td>\n",
              "      <td>0</td>\n",
              "      <td>0</td>\n",
              "      <td>0</td>\n",
              "      <td>0</td>\n",
              "      <td>0</td>\n",
              "      <td>0.0</td>\n",
              "      <td>0</td>\n",
              "      <td>0</td>\n",
              "      <td>0</td>\n",
              "      <td>0</td>\n",
              "      <td>0</td>\n",
              "      <td>0</td>\n",
              "      <td>0</td>\n",
              "      <td>0</td>\n",
              "      <td>0</td>\n",
              "      <td>0</td>\n",
              "      <td>0</td>\n",
              "      <td>0</td>\n",
              "      <td>0</td>\n",
              "      <td>0</td>\n",
              "      <td>0</td>\n",
              "      <td>0</td>\n",
              "      <td>0</td>\n",
              "      <td>0</td>\n",
              "      <td>0</td>\n",
              "      <td>0</td>\n",
              "      <td>0</td>\n",
              "      <td>0</td>\n",
              "      <td>0</td>\n",
              "      <td>1</td>\n",
              "      <td>0</td>\n",
              "      <td>0</td>\n",
              "      <td>0</td>\n",
              "    </tr>\n",
              "    <tr>\n",
              "      <th>3</th>\n",
              "      <td>1</td>\n",
              "      <td>44</td>\n",
              "      <td>10</td>\n",
              "      <td>7688</td>\n",
              "      <td>0</td>\n",
              "      <td>40</td>\n",
              "      <td>0</td>\n",
              "      <td>0</td>\n",
              "      <td>0</td>\n",
              "      <td>1</td>\n",
              "      <td>0</td>\n",
              "      <td>0</td>\n",
              "      <td>0</td>\n",
              "      <td>0</td>\n",
              "      <td>0</td>\n",
              "      <td>0</td>\n",
              "      <td>0</td>\n",
              "      <td>1</td>\n",
              "      <td>0</td>\n",
              "      <td>0</td>\n",
              "      <td>0</td>\n",
              "      <td>0</td>\n",
              "      <td>0</td>\n",
              "      <td>0</td>\n",
              "      <td>0</td>\n",
              "      <td>0</td>\n",
              "      <td>0</td>\n",
              "      <td>0</td>\n",
              "      <td>1</td>\n",
              "      <td>0</td>\n",
              "      <td>0</td>\n",
              "      <td>0</td>\n",
              "      <td>0</td>\n",
              "      <td>0</td>\n",
              "      <td>0</td>\n",
              "      <td>0</td>\n",
              "      <td>0</td>\n",
              "      <td>1</td>\n",
              "      <td>0</td>\n",
              "      <td>0</td>\n",
              "      <td>...</td>\n",
              "      <td>0</td>\n",
              "      <td>0</td>\n",
              "      <td>0</td>\n",
              "      <td>0</td>\n",
              "      <td>0</td>\n",
              "      <td>0</td>\n",
              "      <td>0</td>\n",
              "      <td>0</td>\n",
              "      <td>0</td>\n",
              "      <td>0</td>\n",
              "      <td>0</td>\n",
              "      <td>0</td>\n",
              "      <td>0.0</td>\n",
              "      <td>0</td>\n",
              "      <td>0</td>\n",
              "      <td>0</td>\n",
              "      <td>0</td>\n",
              "      <td>0</td>\n",
              "      <td>0</td>\n",
              "      <td>0</td>\n",
              "      <td>0</td>\n",
              "      <td>0</td>\n",
              "      <td>0</td>\n",
              "      <td>0</td>\n",
              "      <td>0</td>\n",
              "      <td>0</td>\n",
              "      <td>0</td>\n",
              "      <td>0</td>\n",
              "      <td>0</td>\n",
              "      <td>0</td>\n",
              "      <td>0</td>\n",
              "      <td>0</td>\n",
              "      <td>0</td>\n",
              "      <td>0</td>\n",
              "      <td>0</td>\n",
              "      <td>0</td>\n",
              "      <td>1</td>\n",
              "      <td>0</td>\n",
              "      <td>0</td>\n",
              "      <td>0</td>\n",
              "    </tr>\n",
              "    <tr>\n",
              "      <th>4</th>\n",
              "      <td>0</td>\n",
              "      <td>18</td>\n",
              "      <td>10</td>\n",
              "      <td>0</td>\n",
              "      <td>0</td>\n",
              "      <td>30</td>\n",
              "      <td>0</td>\n",
              "      <td>0</td>\n",
              "      <td>0</td>\n",
              "      <td>0</td>\n",
              "      <td>0</td>\n",
              "      <td>0</td>\n",
              "      <td>0</td>\n",
              "      <td>0</td>\n",
              "      <td>1</td>\n",
              "      <td>0</td>\n",
              "      <td>0</td>\n",
              "      <td>0</td>\n",
              "      <td>0</td>\n",
              "      <td>1</td>\n",
              "      <td>0</td>\n",
              "      <td>0</td>\n",
              "      <td>0</td>\n",
              "      <td>0</td>\n",
              "      <td>0</td>\n",
              "      <td>0</td>\n",
              "      <td>0</td>\n",
              "      <td>0</td>\n",
              "      <td>0</td>\n",
              "      <td>0</td>\n",
              "      <td>0</td>\n",
              "      <td>0</td>\n",
              "      <td>0</td>\n",
              "      <td>0</td>\n",
              "      <td>0</td>\n",
              "      <td>0</td>\n",
              "      <td>1</td>\n",
              "      <td>0</td>\n",
              "      <td>0</td>\n",
              "      <td>0</td>\n",
              "      <td>...</td>\n",
              "      <td>0</td>\n",
              "      <td>0</td>\n",
              "      <td>0</td>\n",
              "      <td>0</td>\n",
              "      <td>0</td>\n",
              "      <td>0</td>\n",
              "      <td>0</td>\n",
              "      <td>0</td>\n",
              "      <td>0</td>\n",
              "      <td>0</td>\n",
              "      <td>0</td>\n",
              "      <td>0</td>\n",
              "      <td>0.0</td>\n",
              "      <td>0</td>\n",
              "      <td>0</td>\n",
              "      <td>0</td>\n",
              "      <td>0</td>\n",
              "      <td>0</td>\n",
              "      <td>0</td>\n",
              "      <td>0</td>\n",
              "      <td>0</td>\n",
              "      <td>0</td>\n",
              "      <td>0</td>\n",
              "      <td>0</td>\n",
              "      <td>0</td>\n",
              "      <td>0</td>\n",
              "      <td>0</td>\n",
              "      <td>0</td>\n",
              "      <td>0</td>\n",
              "      <td>0</td>\n",
              "      <td>0</td>\n",
              "      <td>0</td>\n",
              "      <td>0</td>\n",
              "      <td>0</td>\n",
              "      <td>0</td>\n",
              "      <td>0</td>\n",
              "      <td>1</td>\n",
              "      <td>0</td>\n",
              "      <td>0</td>\n",
              "      <td>0</td>\n",
              "    </tr>\n",
              "  </tbody>\n",
              "</table>\n",
              "<p>5 rows × 92 columns</p>\n",
              "</div>"
            ],
            "text/plain": [
              "   income  age  education-num  capital-gain  capital-loss  hours-per-week  workclass_ Federal-gov  workclass_ Local-gov  workclass_ Never-worked  workclass_ Private  workclass_ Self-emp-inc  workclass_ Self-emp-not-inc  workclass_ State-gov  workclass_ Without-pay  workclass_Not Known  marital-status_ Divorced  marital-status_ Married-AF-spouse  marital-status_ Married-civ-spouse  marital-status_ Married-spouse-absent  marital-status_ Never-married  marital-status_ Separated  marital-status_ Widowed  occupation_ Adm-clerical  occupation_ Armed-Forces  occupation_ Craft-repair  occupation_ Exec-managerial  occupation_ Farming-fishing  occupation_ Handlers-cleaners  occupation_ Machine-op-inspct  occupation_ Other-service  occupation_ Priv-house-serv  occupation_ Prof-specialty  occupation_ Protective-serv  occupation_ Sales  occupation_ Tech-support  occupation_ Transport-moving  occupation_Not Known  relationship_ Husband  relationship_ Not-in-family  relationship_ Other-relative  ...  native-country_ China  native-country_ Columbia  native-country_ Cuba  native-country_ Dominican-Republic  native-country_ Ecuador  native-country_ El-Salvador  native-country_ England  native-country_ France  native-country_ Germany  native-country_ Greece  native-country_ Guatemala  native-country_ Haiti  native-country_Holand-Netherlands  native-country_ Honduras  native-country_ Hong  native-country_ Hungary  native-country_ India  native-country_ Iran  native-country_ Ireland  native-country_ Italy  native-country_ Jamaica  native-country_ Japan  native-country_ Laos  native-country_ Mexico  native-country_ Nicaragua  native-country_ Outlying-US(Guam-USVI-etc)  native-country_ Peru  native-country_ Philippines  native-country_ Poland  native-country_ Portugal  native-country_ Puerto-Rico  native-country_ Scotland  native-country_ South  native-country_ Taiwan  native-country_ Thailand  native-country_ Trinadad&Tobago  native-country_ United-States  native-country_ Vietnam  native-country_ Yugoslavia  native-country_Not Known\n",
              "0       0   25              7             0             0              40                       0                     0                        0                   1                        0                            0                     0                       0                    0                         0                                  0                                   0                                      0                              1                          0                        0                         0                         0                         0                            0                            0                              0                              1                          0                            0                           0                            0                  0                         0                             0                     0                      0                            0                             0  ...                      0                         0                     0                                   0                        0                            0                        0                       0                        0                       0                          0                      0                                0.0                         0                     0                        0                      0                     0                        0                      0                        0                      0                     0                       0                          0                                           0                     0                            0                       0                         0                            0                         0                      0                       0                         0                                0                              1                        0                           0                         0\n",
              "1       0   38              9             0             0              50                       0                     0                        0                   1                        0                            0                     0                       0                    0                         0                                  0                                   1                                      0                              0                          0                        0                         0                         0                         0                            0                            1                              0                              0                          0                            0                           0                            0                  0                         0                             0                     0                      1                            0                             0  ...                      0                         0                     0                                   0                        0                            0                        0                       0                        0                       0                          0                      0                                0.0                         0                     0                        0                      0                     0                        0                      0                        0                      0                     0                       0                          0                                           0                     0                            0                       0                         0                            0                         0                      0                       0                         0                                0                              1                        0                           0                         0\n",
              "2       1   28             12             0             0              40                       0                     1                        0                   0                        0                            0                     0                       0                    0                         0                                  0                                   1                                      0                              0                          0                        0                         0                         0                         0                            0                            0                              0                              0                          0                            0                           0                            1                  0                         0                             0                     0                      1                            0                             0  ...                      0                         0                     0                                   0                        0                            0                        0                       0                        0                       0                          0                      0                                0.0                         0                     0                        0                      0                     0                        0                      0                        0                      0                     0                       0                          0                                           0                     0                            0                       0                         0                            0                         0                      0                       0                         0                                0                              1                        0                           0                         0\n",
              "3       1   44             10          7688             0              40                       0                     0                        0                   1                        0                            0                     0                       0                    0                         0                                  0                                   1                                      0                              0                          0                        0                         0                         0                         0                            0                            0                              0                              1                          0                            0                           0                            0                  0                         0                             0                     0                      1                            0                             0  ...                      0                         0                     0                                   0                        0                            0                        0                       0                        0                       0                          0                      0                                0.0                         0                     0                        0                      0                     0                        0                      0                        0                      0                     0                       0                          0                                           0                     0                            0                       0                         0                            0                         0                      0                       0                         0                                0                              1                        0                           0                         0\n",
              "4       0   18             10             0             0              30                       0                     0                        0                   0                        0                            0                     0                       0                    1                         0                                  0                                   0                                      0                              1                          0                        0                         0                         0                         0                            0                            0                              0                              0                          0                            0                           0                            0                  0                         0                             0                     1                      0                            0                             0  ...                      0                         0                     0                                   0                        0                            0                        0                       0                        0                       0                          0                      0                                0.0                         0                     0                        0                      0                     0                        0                      0                        0                      0                     0                       0                          0                                           0                     0                            0                       0                         0                            0                         0                      0                       0                         0                                0                              1                        0                           0                         0\n",
              "\n",
              "[5 rows x 92 columns]"
            ]
          },
          "execution_count": 41,
          "metadata": {},
          "output_type": "execute_result"
        }
      ],
      "source": [
        "# Checking the first 5 observation of the Test data after creating dummy variables\n",
        "print(\"Test data:\\n\")\n",
        "df_test.head()"
      ]
    },
    {
      "cell_type": "markdown",
      "metadata": {
        "id": "4252rd1Tq6tI"
      },
      "source": [
        "# **Rescaling**"
      ]
    },
    {
      "cell_type": "markdown",
      "metadata": {
        "id": "wiHtCyd8bJWM"
      },
      "source": [
        "`The data was rescaled using Standardization to ensure equal importance was given to all predictors in terms of variability. `\n",
        "\n",
        "`We used the function fit_transform() on the train data so that the model learns the parameters for scaling on the train data \n",
        "and at the same time we scale the train data. We only used transform() on the test data because we made use of the scaling parameters learned on the train data to scale the test data.`"
      ]
    },
    {
      "cell_type": "code",
      "execution_count": null,
      "metadata": {
        "id": "bRpHGebGU8Wm"
      },
      "outputs": [],
      "source": [
        "scaling = StandardScaler()\n",
        "df_train_rescaled = scaling.fit_transform(df_train.iloc[:,1:])\n",
        "df_test_rescaled = scaling.transform(df_test.iloc[:,1:])\n",
        "\n",
        "df_train_res = pd.DataFrame(df_train_rescaled, index=df_train.iloc[:,1:].index, columns=df_train.iloc[:,1:].columns)\n",
        "df_test_res = pd.DataFrame(df_test_rescaled, index=df_test.iloc[:,1:].index, columns=df_test.iloc[:,1:].columns)\n",
        "\n",
        "df_train_res.insert(0,\"income\",df_train[\"income\"])\n",
        "df_test_res.insert(0,\"income\",df_test[\"income\"])"
      ]
    },
    {
      "cell_type": "markdown",
      "metadata": {
        "id": "8vRiy46jaFHt"
      },
      "source": [
        "# **SMOTE**"
      ]
    },
    {
      "cell_type": "markdown",
      "metadata": {
        "id": "Z8Ivw4a3bVwq"
      },
      "source": [
        "`To deal with the class imbalance problem, the Synthetic Minority Oversampling Technique (SMOTE) was used by oversampling the minority class of the training dataset, which was class 1. `"
      ]
    },
    {
      "cell_type": "code",
      "execution_count": null,
      "metadata": {
        "id": "Er0uKd38zkga"
      },
      "outputs": [],
      "source": [
        "x_train = df_train_res.iloc[:,1:df_train_res.shape[1]]\n",
        "Y_train = df_train_res.iloc[:,0]\n",
        "x_test = df_test_res.iloc[:,1:df_test_res.shape[1]]\n",
        "Y_test = df_test_res.iloc[:,0]"
      ]
    },
    {
      "cell_type": "code",
      "execution_count": null,
      "metadata": {
        "colab": {
          "base_uri": "https://localhost:8080/"
        },
        "id": "rO8ejH9f3iuC",
        "outputId": "df27e8f4-4b38-47b4-e532-034fcea076a8"
      },
      "outputs": [
        {
          "name": "stdout",
          "output_type": "stream",
          "text": [
            "Counter({0: 24720, 1: 7841})\n"
          ]
        }
      ],
      "source": [
        "Counter = collections.Counter(Y_train)\n",
        "print(Counter)"
      ]
    },
    {
      "cell_type": "code",
      "execution_count": null,
      "metadata": {
        "id": "7y6L9-644BWx"
      },
      "outputs": [],
      "source": [
        "sm = SMOTE(random_state=42)\n",
        "x_train_sm, y_train_sm = sm.fit_resample(x_train, Y_train)"
      ]
    },
    {
      "cell_type": "code",
      "execution_count": null,
      "metadata": {
        "colab": {
          "base_uri": "https://localhost:8080/"
        },
        "id": "L_dVDURn4T82",
        "outputId": "367fd26e-f0d0-4ec9-bec6-fc2e023c7bfc"
      },
      "outputs": [
        {
          "name": "stdout",
          "output_type": "stream",
          "text": [
            "Counter({0: 24720, 1: 24720})\n"
          ]
        }
      ],
      "source": [
        "Counter = collections.Counter(y_train_sm)\n",
        "print(Counter)"
      ]
    },
    {
      "cell_type": "code",
      "execution_count": null,
      "metadata": {
        "colab": {
          "base_uri": "https://localhost:8080/"
        },
        "id": "PPetidGEwRZh",
        "outputId": "caa6d116-6e6f-47f8-9311-1d7f55eab204"
      },
      "outputs": [
        {
          "name": "stdout",
          "output_type": "stream",
          "text": [
            "Counter({0: 12435, 1: 3846})\n"
          ]
        }
      ],
      "source": [
        "Counter = collections.Counter(Y_test)\n",
        "print(Counter)"
      ]
    },
    {
      "cell_type": "code",
      "execution_count": null,
      "metadata": {
        "id": "UO0bJGW47jKH"
      },
      "outputs": [],
      "source": [
        "train = pd.concat([y_train_sm,x_train_sm], axis=1)\n",
        "test = pd.concat([Y_test,x_test], axis=1)"
      ]
    },
    {
      "cell_type": "code",
      "execution_count": null,
      "metadata": {
        "colab": {
          "base_uri": "https://localhost:8080/"
        },
        "id": "lP_PUyy8bY0S",
        "outputId": "a0b48bf6-c7d0-4680-bbc0-51062cf1cc36"
      },
      "outputs": [
        {
          "name": "stdout",
          "output_type": "stream",
          "text": [
            "(49440, 92) \n",
            "\n",
            "(16281, 92) \n",
            "\n"
          ]
        }
      ],
      "source": [
        "print(train.shape,\"\\n\")\n",
        "print(test.shape,\"\\n\")"
      ]
    },
    {
      "cell_type": "code",
      "execution_count": null,
      "metadata": {
        "colab": {
          "base_uri": "https://localhost:8080/",
          "height": 290
        },
        "id": "y7zUxbWHtmFE",
        "outputId": "fe65e0f8-d574-441f-d415-34b0ec9aab6c"
      },
      "outputs": [
        {
          "data": {
            "text/html": [
              "<div>\n",
              "<style scoped>\n",
              "    .dataframe tbody tr th:only-of-type {\n",
              "        vertical-align: middle;\n",
              "    }\n",
              "\n",
              "    .dataframe tbody tr th {\n",
              "        vertical-align: top;\n",
              "    }\n",
              "\n",
              "    .dataframe thead th {\n",
              "        text-align: right;\n",
              "    }\n",
              "</style>\n",
              "<table border=\"1\" class=\"dataframe\">\n",
              "  <thead>\n",
              "    <tr style=\"text-align: right;\">\n",
              "      <th></th>\n",
              "      <th>income</th>\n",
              "      <th>age</th>\n",
              "      <th>education-num</th>\n",
              "      <th>capital-gain</th>\n",
              "      <th>capital-loss</th>\n",
              "      <th>hours-per-week</th>\n",
              "      <th>workclass_Federal-gov</th>\n",
              "      <th>workclass_Local-gov</th>\n",
              "      <th>workclass_Never-worked</th>\n",
              "      <th>workclass_Not Known</th>\n",
              "      <th>workclass_Private</th>\n",
              "      <th>workclass_Self-emp-inc</th>\n",
              "      <th>workclass_Self-emp-not-inc</th>\n",
              "      <th>workclass_State-gov</th>\n",
              "      <th>workclass_Without-pay</th>\n",
              "      <th>marital-status_Divorced</th>\n",
              "      <th>marital-status_Married-AF-spouse</th>\n",
              "      <th>marital-status_Married-civ-spouse</th>\n",
              "      <th>marital-status_Married-spouse-absent</th>\n",
              "      <th>marital-status_Never-married</th>\n",
              "      <th>marital-status_Separated</th>\n",
              "      <th>marital-status_Widowed</th>\n",
              "      <th>occupation_Adm-clerical</th>\n",
              "      <th>occupation_Armed-Forces</th>\n",
              "      <th>occupation_Craft-repair</th>\n",
              "      <th>occupation_Exec-managerial</th>\n",
              "      <th>occupation_Farming-fishing</th>\n",
              "      <th>occupation_Handlers-cleaners</th>\n",
              "      <th>occupation_Machine-op-inspct</th>\n",
              "      <th>occupation_Not Known</th>\n",
              "      <th>occupation_Other-service</th>\n",
              "      <th>occupation_Priv-house-serv</th>\n",
              "      <th>occupation_Prof-specialty</th>\n",
              "      <th>occupation_Protective-serv</th>\n",
              "      <th>occupation_Sales</th>\n",
              "      <th>occupation_Tech-support</th>\n",
              "      <th>occupation_Transport-moving</th>\n",
              "      <th>relationship_Husband</th>\n",
              "      <th>relationship_Not-in-family</th>\n",
              "      <th>relationship_Other-relative</th>\n",
              "      <th>...</th>\n",
              "      <th>native-country_China</th>\n",
              "      <th>native-country_Columbia</th>\n",
              "      <th>native-country_Cuba</th>\n",
              "      <th>native-country_Dominican-Republic</th>\n",
              "      <th>native-country_Ecuador</th>\n",
              "      <th>native-country_El-Salvador</th>\n",
              "      <th>native-country_England</th>\n",
              "      <th>native-country_France</th>\n",
              "      <th>native-country_Germany</th>\n",
              "      <th>native-country_Greece</th>\n",
              "      <th>native-country_Guatemala</th>\n",
              "      <th>native-country_Haiti</th>\n",
              "      <th>native-country_Holand-Netherlands</th>\n",
              "      <th>native-country_Honduras</th>\n",
              "      <th>native-country_Hong</th>\n",
              "      <th>native-country_Hungary</th>\n",
              "      <th>native-country_India</th>\n",
              "      <th>native-country_Iran</th>\n",
              "      <th>native-country_Ireland</th>\n",
              "      <th>native-country_Italy</th>\n",
              "      <th>native-country_Jamaica</th>\n",
              "      <th>native-country_Japan</th>\n",
              "      <th>native-country_Laos</th>\n",
              "      <th>native-country_Mexico</th>\n",
              "      <th>native-country_Nicaragua</th>\n",
              "      <th>native-country_Not Known</th>\n",
              "      <th>native-country_Outlying-US(Guam-USVI-etc)</th>\n",
              "      <th>native-country_Peru</th>\n",
              "      <th>native-country_Philippines</th>\n",
              "      <th>native-country_Poland</th>\n",
              "      <th>native-country_Portugal</th>\n",
              "      <th>native-country_Puerto-Rico</th>\n",
              "      <th>native-country_Scotland</th>\n",
              "      <th>native-country_South</th>\n",
              "      <th>native-country_Taiwan</th>\n",
              "      <th>native-country_Thailand</th>\n",
              "      <th>native-country_Trinadad&amp;Tobago</th>\n",
              "      <th>native-country_United-States</th>\n",
              "      <th>native-country_Vietnam</th>\n",
              "      <th>native-country_Yugoslavia</th>\n",
              "    </tr>\n",
              "  </thead>\n",
              "  <tbody>\n",
              "    <tr>\n",
              "      <th>0</th>\n",
              "      <td>0</td>\n",
              "      <td>0.030671</td>\n",
              "      <td>1.134739</td>\n",
              "      <td>0.148453</td>\n",
              "      <td>-0.21666</td>\n",
              "      <td>-0.035429</td>\n",
              "      <td>-0.174295</td>\n",
              "      <td>-0.262097</td>\n",
              "      <td>-0.014664</td>\n",
              "      <td>-0.24445</td>\n",
              "      <td>-1.516792</td>\n",
              "      <td>-0.188389</td>\n",
              "      <td>-0.290936</td>\n",
              "      <td>4.907700</td>\n",
              "      <td>-0.02074</td>\n",
              "      <td>-0.397508</td>\n",
              "      <td>-0.026587</td>\n",
              "      <td>-0.922841</td>\n",
              "      <td>-0.114037</td>\n",
              "      <td>1.431058</td>\n",
              "      <td>-0.180285</td>\n",
              "      <td>-0.177358</td>\n",
              "      <td>2.763489</td>\n",
              "      <td>-0.016628</td>\n",
              "      <td>-0.379495</td>\n",
              "      <td>-0.377746</td>\n",
              "      <td>-0.17745</td>\n",
              "      <td>-0.209578</td>\n",
              "      <td>-0.255954</td>\n",
              "      <td>-0.244944</td>\n",
              "      <td>-0.335541</td>\n",
              "      <td>-0.067802</td>\n",
              "      <td>-0.381663</td>\n",
              "      <td>-0.142608</td>\n",
              "      <td>-0.355316</td>\n",
              "      <td>-0.171279</td>\n",
              "      <td>-0.227104</td>\n",
              "      <td>-0.825333</td>\n",
              "      <td>1.708991</td>\n",
              "      <td>-0.17625</td>\n",
              "      <td>...</td>\n",
              "      <td>-0.048049</td>\n",
              "      <td>-0.042606</td>\n",
              "      <td>-0.054094</td>\n",
              "      <td>-0.046416</td>\n",
              "      <td>-0.029337</td>\n",
              "      <td>-0.057149</td>\n",
              "      <td>-0.052647</td>\n",
              "      <td>-0.029857</td>\n",
              "      <td>-0.065002</td>\n",
              "      <td>-0.029857</td>\n",
              "      <td>-0.044378</td>\n",
              "      <td>-0.036785</td>\n",
              "      <td>-0.005542</td>\n",
              "      <td>-0.019985</td>\n",
              "      <td>-0.024791</td>\n",
              "      <td>-0.019985</td>\n",
              "      <td>-0.055503</td>\n",
              "      <td>-0.036364</td>\n",
              "      <td>-0.027159</td>\n",
              "      <td>-0.047402</td>\n",
              "      <td>-0.049938</td>\n",
              "      <td>-0.043678</td>\n",
              "      <td>-0.023518</td>\n",
              "      <td>-0.141934</td>\n",
              "      <td>-0.032331</td>\n",
              "      <td>-0.135023</td>\n",
              "      <td>-0.02074</td>\n",
              "      <td>-0.03087</td>\n",
              "      <td>-0.078218</td>\n",
              "      <td>-0.042966</td>\n",
              "      <td>-0.033729</td>\n",
              "      <td>-0.059274</td>\n",
              "      <td>-0.019201</td>\n",
              "      <td>-0.049628</td>\n",
              "      <td>-0.039607</td>\n",
              "      <td>-0.023518</td>\n",
              "      <td>-0.024163</td>\n",
              "      <td>0.340954</td>\n",
              "      <td>-0.045408</td>\n",
              "      <td>-0.022173</td>\n",
              "    </tr>\n",
              "    <tr>\n",
              "      <th>1</th>\n",
              "      <td>0</td>\n",
              "      <td>0.837109</td>\n",
              "      <td>1.134739</td>\n",
              "      <td>-0.145920</td>\n",
              "      <td>-0.21666</td>\n",
              "      <td>-2.222153</td>\n",
              "      <td>-0.174295</td>\n",
              "      <td>-0.262097</td>\n",
              "      <td>-0.014664</td>\n",
              "      <td>-0.24445</td>\n",
              "      <td>-1.516792</td>\n",
              "      <td>-0.188389</td>\n",
              "      <td>3.437186</td>\n",
              "      <td>-0.203761</td>\n",
              "      <td>-0.02074</td>\n",
              "      <td>-0.397508</td>\n",
              "      <td>-0.026587</td>\n",
              "      <td>1.083611</td>\n",
              "      <td>-0.114037</td>\n",
              "      <td>-0.698784</td>\n",
              "      <td>-0.180285</td>\n",
              "      <td>-0.177358</td>\n",
              "      <td>-0.361861</td>\n",
              "      <td>-0.016628</td>\n",
              "      <td>-0.379495</td>\n",
              "      <td>2.647285</td>\n",
              "      <td>-0.17745</td>\n",
              "      <td>-0.209578</td>\n",
              "      <td>-0.255954</td>\n",
              "      <td>-0.244944</td>\n",
              "      <td>-0.335541</td>\n",
              "      <td>-0.067802</td>\n",
              "      <td>-0.381663</td>\n",
              "      <td>-0.142608</td>\n",
              "      <td>-0.355316</td>\n",
              "      <td>-0.171279</td>\n",
              "      <td>-0.227104</td>\n",
              "      <td>1.211632</td>\n",
              "      <td>-0.585141</td>\n",
              "      <td>-0.17625</td>\n",
              "      <td>...</td>\n",
              "      <td>-0.048049</td>\n",
              "      <td>-0.042606</td>\n",
              "      <td>-0.054094</td>\n",
              "      <td>-0.046416</td>\n",
              "      <td>-0.029337</td>\n",
              "      <td>-0.057149</td>\n",
              "      <td>-0.052647</td>\n",
              "      <td>-0.029857</td>\n",
              "      <td>-0.065002</td>\n",
              "      <td>-0.029857</td>\n",
              "      <td>-0.044378</td>\n",
              "      <td>-0.036785</td>\n",
              "      <td>-0.005542</td>\n",
              "      <td>-0.019985</td>\n",
              "      <td>-0.024791</td>\n",
              "      <td>-0.019985</td>\n",
              "      <td>-0.055503</td>\n",
              "      <td>-0.036364</td>\n",
              "      <td>-0.027159</td>\n",
              "      <td>-0.047402</td>\n",
              "      <td>-0.049938</td>\n",
              "      <td>-0.043678</td>\n",
              "      <td>-0.023518</td>\n",
              "      <td>-0.141934</td>\n",
              "      <td>-0.032331</td>\n",
              "      <td>-0.135023</td>\n",
              "      <td>-0.02074</td>\n",
              "      <td>-0.03087</td>\n",
              "      <td>-0.078218</td>\n",
              "      <td>-0.042966</td>\n",
              "      <td>-0.033729</td>\n",
              "      <td>-0.059274</td>\n",
              "      <td>-0.019201</td>\n",
              "      <td>-0.049628</td>\n",
              "      <td>-0.039607</td>\n",
              "      <td>-0.023518</td>\n",
              "      <td>-0.024163</td>\n",
              "      <td>0.340954</td>\n",
              "      <td>-0.045408</td>\n",
              "      <td>-0.022173</td>\n",
              "    </tr>\n",
              "    <tr>\n",
              "      <th>2</th>\n",
              "      <td>0</td>\n",
              "      <td>-0.042642</td>\n",
              "      <td>-0.420060</td>\n",
              "      <td>-0.145920</td>\n",
              "      <td>-0.21666</td>\n",
              "      <td>-0.035429</td>\n",
              "      <td>-0.174295</td>\n",
              "      <td>-0.262097</td>\n",
              "      <td>-0.014664</td>\n",
              "      <td>-0.24445</td>\n",
              "      <td>0.659286</td>\n",
              "      <td>-0.188389</td>\n",
              "      <td>-0.290936</td>\n",
              "      <td>-0.203761</td>\n",
              "      <td>-0.02074</td>\n",
              "      <td>2.515672</td>\n",
              "      <td>-0.026587</td>\n",
              "      <td>-0.922841</td>\n",
              "      <td>-0.114037</td>\n",
              "      <td>-0.698784</td>\n",
              "      <td>-0.180285</td>\n",
              "      <td>-0.177358</td>\n",
              "      <td>-0.361861</td>\n",
              "      <td>-0.016628</td>\n",
              "      <td>-0.379495</td>\n",
              "      <td>-0.377746</td>\n",
              "      <td>-0.17745</td>\n",
              "      <td>4.771494</td>\n",
              "      <td>-0.255954</td>\n",
              "      <td>-0.244944</td>\n",
              "      <td>-0.335541</td>\n",
              "      <td>-0.067802</td>\n",
              "      <td>-0.381663</td>\n",
              "      <td>-0.142608</td>\n",
              "      <td>-0.355316</td>\n",
              "      <td>-0.171279</td>\n",
              "      <td>-0.227104</td>\n",
              "      <td>-0.825333</td>\n",
              "      <td>1.708991</td>\n",
              "      <td>-0.17625</td>\n",
              "      <td>...</td>\n",
              "      <td>-0.048049</td>\n",
              "      <td>-0.042606</td>\n",
              "      <td>-0.054094</td>\n",
              "      <td>-0.046416</td>\n",
              "      <td>-0.029337</td>\n",
              "      <td>-0.057149</td>\n",
              "      <td>-0.052647</td>\n",
              "      <td>-0.029857</td>\n",
              "      <td>-0.065002</td>\n",
              "      <td>-0.029857</td>\n",
              "      <td>-0.044378</td>\n",
              "      <td>-0.036785</td>\n",
              "      <td>-0.005542</td>\n",
              "      <td>-0.019985</td>\n",
              "      <td>-0.024791</td>\n",
              "      <td>-0.019985</td>\n",
              "      <td>-0.055503</td>\n",
              "      <td>-0.036364</td>\n",
              "      <td>-0.027159</td>\n",
              "      <td>-0.047402</td>\n",
              "      <td>-0.049938</td>\n",
              "      <td>-0.043678</td>\n",
              "      <td>-0.023518</td>\n",
              "      <td>-0.141934</td>\n",
              "      <td>-0.032331</td>\n",
              "      <td>-0.135023</td>\n",
              "      <td>-0.02074</td>\n",
              "      <td>-0.03087</td>\n",
              "      <td>-0.078218</td>\n",
              "      <td>-0.042966</td>\n",
              "      <td>-0.033729</td>\n",
              "      <td>-0.059274</td>\n",
              "      <td>-0.019201</td>\n",
              "      <td>-0.049628</td>\n",
              "      <td>-0.039607</td>\n",
              "      <td>-0.023518</td>\n",
              "      <td>-0.024163</td>\n",
              "      <td>0.340954</td>\n",
              "      <td>-0.045408</td>\n",
              "      <td>-0.022173</td>\n",
              "    </tr>\n",
              "    <tr>\n",
              "      <th>3</th>\n",
              "      <td>0</td>\n",
              "      <td>1.057047</td>\n",
              "      <td>-1.197459</td>\n",
              "      <td>-0.145920</td>\n",
              "      <td>-0.21666</td>\n",
              "      <td>-0.035429</td>\n",
              "      <td>-0.174295</td>\n",
              "      <td>-0.262097</td>\n",
              "      <td>-0.014664</td>\n",
              "      <td>-0.24445</td>\n",
              "      <td>0.659286</td>\n",
              "      <td>-0.188389</td>\n",
              "      <td>-0.290936</td>\n",
              "      <td>-0.203761</td>\n",
              "      <td>-0.02074</td>\n",
              "      <td>-0.397508</td>\n",
              "      <td>-0.026587</td>\n",
              "      <td>1.083611</td>\n",
              "      <td>-0.114037</td>\n",
              "      <td>-0.698784</td>\n",
              "      <td>-0.180285</td>\n",
              "      <td>-0.177358</td>\n",
              "      <td>-0.361861</td>\n",
              "      <td>-0.016628</td>\n",
              "      <td>-0.379495</td>\n",
              "      <td>-0.377746</td>\n",
              "      <td>-0.17745</td>\n",
              "      <td>4.771494</td>\n",
              "      <td>-0.255954</td>\n",
              "      <td>-0.244944</td>\n",
              "      <td>-0.335541</td>\n",
              "      <td>-0.067802</td>\n",
              "      <td>-0.381663</td>\n",
              "      <td>-0.142608</td>\n",
              "      <td>-0.355316</td>\n",
              "      <td>-0.171279</td>\n",
              "      <td>-0.227104</td>\n",
              "      <td>1.211632</td>\n",
              "      <td>-0.585141</td>\n",
              "      <td>-0.17625</td>\n",
              "      <td>...</td>\n",
              "      <td>-0.048049</td>\n",
              "      <td>-0.042606</td>\n",
              "      <td>-0.054094</td>\n",
              "      <td>-0.046416</td>\n",
              "      <td>-0.029337</td>\n",
              "      <td>-0.057149</td>\n",
              "      <td>-0.052647</td>\n",
              "      <td>-0.029857</td>\n",
              "      <td>-0.065002</td>\n",
              "      <td>-0.029857</td>\n",
              "      <td>-0.044378</td>\n",
              "      <td>-0.036785</td>\n",
              "      <td>-0.005542</td>\n",
              "      <td>-0.019985</td>\n",
              "      <td>-0.024791</td>\n",
              "      <td>-0.019985</td>\n",
              "      <td>-0.055503</td>\n",
              "      <td>-0.036364</td>\n",
              "      <td>-0.027159</td>\n",
              "      <td>-0.047402</td>\n",
              "      <td>-0.049938</td>\n",
              "      <td>-0.043678</td>\n",
              "      <td>-0.023518</td>\n",
              "      <td>-0.141934</td>\n",
              "      <td>-0.032331</td>\n",
              "      <td>-0.135023</td>\n",
              "      <td>-0.02074</td>\n",
              "      <td>-0.03087</td>\n",
              "      <td>-0.078218</td>\n",
              "      <td>-0.042966</td>\n",
              "      <td>-0.033729</td>\n",
              "      <td>-0.059274</td>\n",
              "      <td>-0.019201</td>\n",
              "      <td>-0.049628</td>\n",
              "      <td>-0.039607</td>\n",
              "      <td>-0.023518</td>\n",
              "      <td>-0.024163</td>\n",
              "      <td>0.340954</td>\n",
              "      <td>-0.045408</td>\n",
              "      <td>-0.022173</td>\n",
              "    </tr>\n",
              "    <tr>\n",
              "      <th>4</th>\n",
              "      <td>0</td>\n",
              "      <td>-0.775768</td>\n",
              "      <td>1.134739</td>\n",
              "      <td>-0.145920</td>\n",
              "      <td>-0.21666</td>\n",
              "      <td>-0.035429</td>\n",
              "      <td>-0.174295</td>\n",
              "      <td>-0.262097</td>\n",
              "      <td>-0.014664</td>\n",
              "      <td>-0.24445</td>\n",
              "      <td>0.659286</td>\n",
              "      <td>-0.188389</td>\n",
              "      <td>-0.290936</td>\n",
              "      <td>-0.203761</td>\n",
              "      <td>-0.02074</td>\n",
              "      <td>-0.397508</td>\n",
              "      <td>-0.026587</td>\n",
              "      <td>1.083611</td>\n",
              "      <td>-0.114037</td>\n",
              "      <td>-0.698784</td>\n",
              "      <td>-0.180285</td>\n",
              "      <td>-0.177358</td>\n",
              "      <td>-0.361861</td>\n",
              "      <td>-0.016628</td>\n",
              "      <td>-0.379495</td>\n",
              "      <td>-0.377746</td>\n",
              "      <td>-0.17745</td>\n",
              "      <td>-0.209578</td>\n",
              "      <td>-0.255954</td>\n",
              "      <td>-0.244944</td>\n",
              "      <td>-0.335541</td>\n",
              "      <td>-0.067802</td>\n",
              "      <td>2.620110</td>\n",
              "      <td>-0.142608</td>\n",
              "      <td>-0.355316</td>\n",
              "      <td>-0.171279</td>\n",
              "      <td>-0.227104</td>\n",
              "      <td>-0.825333</td>\n",
              "      <td>-0.585141</td>\n",
              "      <td>-0.17625</td>\n",
              "      <td>...</td>\n",
              "      <td>-0.048049</td>\n",
              "      <td>-0.042606</td>\n",
              "      <td>18.486410</td>\n",
              "      <td>-0.046416</td>\n",
              "      <td>-0.029337</td>\n",
              "      <td>-0.057149</td>\n",
              "      <td>-0.052647</td>\n",
              "      <td>-0.029857</td>\n",
              "      <td>-0.065002</td>\n",
              "      <td>-0.029857</td>\n",
              "      <td>-0.044378</td>\n",
              "      <td>-0.036785</td>\n",
              "      <td>-0.005542</td>\n",
              "      <td>-0.019985</td>\n",
              "      <td>-0.024791</td>\n",
              "      <td>-0.019985</td>\n",
              "      <td>-0.055503</td>\n",
              "      <td>-0.036364</td>\n",
              "      <td>-0.027159</td>\n",
              "      <td>-0.047402</td>\n",
              "      <td>-0.049938</td>\n",
              "      <td>-0.043678</td>\n",
              "      <td>-0.023518</td>\n",
              "      <td>-0.141934</td>\n",
              "      <td>-0.032331</td>\n",
              "      <td>-0.135023</td>\n",
              "      <td>-0.02074</td>\n",
              "      <td>-0.03087</td>\n",
              "      <td>-0.078218</td>\n",
              "      <td>-0.042966</td>\n",
              "      <td>-0.033729</td>\n",
              "      <td>-0.059274</td>\n",
              "      <td>-0.019201</td>\n",
              "      <td>-0.049628</td>\n",
              "      <td>-0.039607</td>\n",
              "      <td>-0.023518</td>\n",
              "      <td>-0.024163</td>\n",
              "      <td>-2.932948</td>\n",
              "      <td>-0.045408</td>\n",
              "      <td>-0.022173</td>\n",
              "    </tr>\n",
              "  </tbody>\n",
              "</table>\n",
              "<p>5 rows × 92 columns</p>\n",
              "</div>"
            ],
            "text/plain": [
              "   income       age  education-num  capital-gain  capital-loss  hours-per-week  workclass_Federal-gov  workclass_Local-gov  workclass_Never-worked  workclass_Not Known  workclass_Private  workclass_Self-emp-inc  workclass_Self-emp-not-inc  workclass_State-gov  workclass_Without-pay  marital-status_Divorced  marital-status_Married-AF-spouse  marital-status_Married-civ-spouse  marital-status_Married-spouse-absent  marital-status_Never-married  marital-status_Separated  marital-status_Widowed  occupation_Adm-clerical  occupation_Armed-Forces  occupation_Craft-repair  occupation_Exec-managerial  occupation_Farming-fishing  occupation_Handlers-cleaners  occupation_Machine-op-inspct  occupation_Not Known  occupation_Other-service  occupation_Priv-house-serv  occupation_Prof-specialty  occupation_Protective-serv  occupation_Sales  occupation_Tech-support  occupation_Transport-moving  relationship_Husband  relationship_Not-in-family  relationship_Other-relative  ...  native-country_China  native-country_Columbia  native-country_Cuba  native-country_Dominican-Republic  native-country_Ecuador  native-country_El-Salvador  native-country_England  native-country_France  native-country_Germany  native-country_Greece  native-country_Guatemala  native-country_Haiti  native-country_Holand-Netherlands  native-country_Honduras  native-country_Hong  native-country_Hungary  native-country_India  native-country_Iran  native-country_Ireland  native-country_Italy  native-country_Jamaica  native-country_Japan  native-country_Laos  native-country_Mexico  native-country_Nicaragua  native-country_Not Known  native-country_Outlying-US(Guam-USVI-etc)  native-country_Peru  native-country_Philippines  native-country_Poland  native-country_Portugal  native-country_Puerto-Rico  native-country_Scotland  native-country_South  native-country_Taiwan  native-country_Thailand  native-country_Trinadad&Tobago  native-country_United-States  native-country_Vietnam  native-country_Yugoslavia\n",
              "0       0  0.030671       1.134739      0.148453      -0.21666       -0.035429              -0.174295            -0.262097               -0.014664             -0.24445          -1.516792               -0.188389                   -0.290936             4.907700               -0.02074                -0.397508                         -0.026587                          -0.922841                             -0.114037                      1.431058                 -0.180285               -0.177358                 2.763489                -0.016628                -0.379495                   -0.377746                    -0.17745                     -0.209578                     -0.255954             -0.244944                 -0.335541                   -0.067802                  -0.381663                   -0.142608         -0.355316                -0.171279                    -0.227104             -0.825333                    1.708991                     -0.17625  ...             -0.048049                -0.042606            -0.054094                          -0.046416               -0.029337                   -0.057149               -0.052647              -0.029857               -0.065002              -0.029857                 -0.044378             -0.036785                          -0.005542                -0.019985            -0.024791               -0.019985             -0.055503            -0.036364               -0.027159             -0.047402               -0.049938             -0.043678            -0.023518              -0.141934                 -0.032331                 -0.135023                                   -0.02074             -0.03087                   -0.078218              -0.042966                -0.033729                   -0.059274                -0.019201             -0.049628              -0.039607                -0.023518                       -0.024163                      0.340954               -0.045408                  -0.022173\n",
              "1       0  0.837109       1.134739     -0.145920      -0.21666       -2.222153              -0.174295            -0.262097               -0.014664             -0.24445          -1.516792               -0.188389                    3.437186            -0.203761               -0.02074                -0.397508                         -0.026587                           1.083611                             -0.114037                     -0.698784                 -0.180285               -0.177358                -0.361861                -0.016628                -0.379495                    2.647285                    -0.17745                     -0.209578                     -0.255954             -0.244944                 -0.335541                   -0.067802                  -0.381663                   -0.142608         -0.355316                -0.171279                    -0.227104              1.211632                   -0.585141                     -0.17625  ...             -0.048049                -0.042606            -0.054094                          -0.046416               -0.029337                   -0.057149               -0.052647              -0.029857               -0.065002              -0.029857                 -0.044378             -0.036785                          -0.005542                -0.019985            -0.024791               -0.019985             -0.055503            -0.036364               -0.027159             -0.047402               -0.049938             -0.043678            -0.023518              -0.141934                 -0.032331                 -0.135023                                   -0.02074             -0.03087                   -0.078218              -0.042966                -0.033729                   -0.059274                -0.019201             -0.049628              -0.039607                -0.023518                       -0.024163                      0.340954               -0.045408                  -0.022173\n",
              "2       0 -0.042642      -0.420060     -0.145920      -0.21666       -0.035429              -0.174295            -0.262097               -0.014664             -0.24445           0.659286               -0.188389                   -0.290936            -0.203761               -0.02074                 2.515672                         -0.026587                          -0.922841                             -0.114037                     -0.698784                 -0.180285               -0.177358                -0.361861                -0.016628                -0.379495                   -0.377746                    -0.17745                      4.771494                     -0.255954             -0.244944                 -0.335541                   -0.067802                  -0.381663                   -0.142608         -0.355316                -0.171279                    -0.227104             -0.825333                    1.708991                     -0.17625  ...             -0.048049                -0.042606            -0.054094                          -0.046416               -0.029337                   -0.057149               -0.052647              -0.029857               -0.065002              -0.029857                 -0.044378             -0.036785                          -0.005542                -0.019985            -0.024791               -0.019985             -0.055503            -0.036364               -0.027159             -0.047402               -0.049938             -0.043678            -0.023518              -0.141934                 -0.032331                 -0.135023                                   -0.02074             -0.03087                   -0.078218              -0.042966                -0.033729                   -0.059274                -0.019201             -0.049628              -0.039607                -0.023518                       -0.024163                      0.340954               -0.045408                  -0.022173\n",
              "3       0  1.057047      -1.197459     -0.145920      -0.21666       -0.035429              -0.174295            -0.262097               -0.014664             -0.24445           0.659286               -0.188389                   -0.290936            -0.203761               -0.02074                -0.397508                         -0.026587                           1.083611                             -0.114037                     -0.698784                 -0.180285               -0.177358                -0.361861                -0.016628                -0.379495                   -0.377746                    -0.17745                      4.771494                     -0.255954             -0.244944                 -0.335541                   -0.067802                  -0.381663                   -0.142608         -0.355316                -0.171279                    -0.227104              1.211632                   -0.585141                     -0.17625  ...             -0.048049                -0.042606            -0.054094                          -0.046416               -0.029337                   -0.057149               -0.052647              -0.029857               -0.065002              -0.029857                 -0.044378             -0.036785                          -0.005542                -0.019985            -0.024791               -0.019985             -0.055503            -0.036364               -0.027159             -0.047402               -0.049938             -0.043678            -0.023518              -0.141934                 -0.032331                 -0.135023                                   -0.02074             -0.03087                   -0.078218              -0.042966                -0.033729                   -0.059274                -0.019201             -0.049628              -0.039607                -0.023518                       -0.024163                      0.340954               -0.045408                  -0.022173\n",
              "4       0 -0.775768       1.134739     -0.145920      -0.21666       -0.035429              -0.174295            -0.262097               -0.014664             -0.24445           0.659286               -0.188389                   -0.290936            -0.203761               -0.02074                -0.397508                         -0.026587                           1.083611                             -0.114037                     -0.698784                 -0.180285               -0.177358                -0.361861                -0.016628                -0.379495                   -0.377746                    -0.17745                     -0.209578                     -0.255954             -0.244944                 -0.335541                   -0.067802                   2.620110                   -0.142608         -0.355316                -0.171279                    -0.227104             -0.825333                   -0.585141                     -0.17625  ...             -0.048049                -0.042606            18.486410                          -0.046416               -0.029337                   -0.057149               -0.052647              -0.029857               -0.065002              -0.029857                 -0.044378             -0.036785                          -0.005542                -0.019985            -0.024791               -0.019985             -0.055503            -0.036364               -0.027159             -0.047402               -0.049938             -0.043678            -0.023518              -0.141934                 -0.032331                 -0.135023                                   -0.02074             -0.03087                   -0.078218              -0.042966                -0.033729                   -0.059274                -0.019201             -0.049628              -0.039607                -0.023518                       -0.024163                     -2.932948               -0.045408                  -0.022173\n",
              "\n",
              "[5 rows x 92 columns]"
            ]
          },
          "execution_count": 50,
          "metadata": {},
          "output_type": "execute_result"
        }
      ],
      "source": [
        "train.head()"
      ]
    },
    {
      "cell_type": "code",
      "execution_count": null,
      "metadata": {
        "colab": {
          "base_uri": "https://localhost:8080/",
          "height": 324
        },
        "id": "p3TmIXTQtrqI",
        "outputId": "8a38505c-dd15-47c6-c8bb-bc87211f77be"
      },
      "outputs": [
        {
          "data": {
            "text/html": [
              "<div>\n",
              "<style scoped>\n",
              "    .dataframe tbody tr th:only-of-type {\n",
              "        vertical-align: middle;\n",
              "    }\n",
              "\n",
              "    .dataframe tbody tr th {\n",
              "        vertical-align: top;\n",
              "    }\n",
              "\n",
              "    .dataframe thead th {\n",
              "        text-align: right;\n",
              "    }\n",
              "</style>\n",
              "<table border=\"1\" class=\"dataframe\">\n",
              "  <thead>\n",
              "    <tr style=\"text-align: right;\">\n",
              "      <th></th>\n",
              "      <th>income</th>\n",
              "      <th>age</th>\n",
              "      <th>education-num</th>\n",
              "      <th>capital-gain</th>\n",
              "      <th>capital-loss</th>\n",
              "      <th>hours-per-week</th>\n",
              "      <th>workclass_ Federal-gov</th>\n",
              "      <th>workclass_ Local-gov</th>\n",
              "      <th>workclass_ Never-worked</th>\n",
              "      <th>workclass_ Private</th>\n",
              "      <th>workclass_ Self-emp-inc</th>\n",
              "      <th>workclass_ Self-emp-not-inc</th>\n",
              "      <th>workclass_ State-gov</th>\n",
              "      <th>workclass_ Without-pay</th>\n",
              "      <th>workclass_Not Known</th>\n",
              "      <th>marital-status_ Divorced</th>\n",
              "      <th>marital-status_ Married-AF-spouse</th>\n",
              "      <th>marital-status_ Married-civ-spouse</th>\n",
              "      <th>marital-status_ Married-spouse-absent</th>\n",
              "      <th>marital-status_ Never-married</th>\n",
              "      <th>marital-status_ Separated</th>\n",
              "      <th>marital-status_ Widowed</th>\n",
              "      <th>occupation_ Adm-clerical</th>\n",
              "      <th>occupation_ Armed-Forces</th>\n",
              "      <th>occupation_ Craft-repair</th>\n",
              "      <th>occupation_ Exec-managerial</th>\n",
              "      <th>occupation_ Farming-fishing</th>\n",
              "      <th>occupation_ Handlers-cleaners</th>\n",
              "      <th>occupation_ Machine-op-inspct</th>\n",
              "      <th>occupation_ Other-service</th>\n",
              "      <th>occupation_ Priv-house-serv</th>\n",
              "      <th>occupation_ Prof-specialty</th>\n",
              "      <th>occupation_ Protective-serv</th>\n",
              "      <th>occupation_ Sales</th>\n",
              "      <th>occupation_ Tech-support</th>\n",
              "      <th>occupation_ Transport-moving</th>\n",
              "      <th>occupation_Not Known</th>\n",
              "      <th>relationship_ Husband</th>\n",
              "      <th>relationship_ Not-in-family</th>\n",
              "      <th>relationship_ Other-relative</th>\n",
              "      <th>...</th>\n",
              "      <th>native-country_ China</th>\n",
              "      <th>native-country_ Columbia</th>\n",
              "      <th>native-country_ Cuba</th>\n",
              "      <th>native-country_ Dominican-Republic</th>\n",
              "      <th>native-country_ Ecuador</th>\n",
              "      <th>native-country_ El-Salvador</th>\n",
              "      <th>native-country_ England</th>\n",
              "      <th>native-country_ France</th>\n",
              "      <th>native-country_ Germany</th>\n",
              "      <th>native-country_ Greece</th>\n",
              "      <th>native-country_ Guatemala</th>\n",
              "      <th>native-country_ Haiti</th>\n",
              "      <th>native-country_Holand-Netherlands</th>\n",
              "      <th>native-country_ Honduras</th>\n",
              "      <th>native-country_ Hong</th>\n",
              "      <th>native-country_ Hungary</th>\n",
              "      <th>native-country_ India</th>\n",
              "      <th>native-country_ Iran</th>\n",
              "      <th>native-country_ Ireland</th>\n",
              "      <th>native-country_ Italy</th>\n",
              "      <th>native-country_ Jamaica</th>\n",
              "      <th>native-country_ Japan</th>\n",
              "      <th>native-country_ Laos</th>\n",
              "      <th>native-country_ Mexico</th>\n",
              "      <th>native-country_ Nicaragua</th>\n",
              "      <th>native-country_ Outlying-US(Guam-USVI-etc)</th>\n",
              "      <th>native-country_ Peru</th>\n",
              "      <th>native-country_ Philippines</th>\n",
              "      <th>native-country_ Poland</th>\n",
              "      <th>native-country_ Portugal</th>\n",
              "      <th>native-country_ Puerto-Rico</th>\n",
              "      <th>native-country_ Scotland</th>\n",
              "      <th>native-country_ South</th>\n",
              "      <th>native-country_ Taiwan</th>\n",
              "      <th>native-country_ Thailand</th>\n",
              "      <th>native-country_ Trinadad&amp;Tobago</th>\n",
              "      <th>native-country_ United-States</th>\n",
              "      <th>native-country_ Vietnam</th>\n",
              "      <th>native-country_ Yugoslavia</th>\n",
              "      <th>native-country_Not Known</th>\n",
              "    </tr>\n",
              "  </thead>\n",
              "  <tbody>\n",
              "    <tr>\n",
              "      <th>0</th>\n",
              "      <td>0</td>\n",
              "      <td>-0.995706</td>\n",
              "      <td>-1.197459</td>\n",
              "      <td>-0.145920</td>\n",
              "      <td>-0.21666</td>\n",
              "      <td>-0.035429</td>\n",
              "      <td>-0.174295</td>\n",
              "      <td>-0.262097</td>\n",
              "      <td>-0.014664</td>\n",
              "      <td>4.090813</td>\n",
              "      <td>-1.516792</td>\n",
              "      <td>-0.188389</td>\n",
              "      <td>-0.290936</td>\n",
              "      <td>-0.203761</td>\n",
              "      <td>-0.020740</td>\n",
              "      <td>-0.397508</td>\n",
              "      <td>-0.026587</td>\n",
              "      <td>-0.922841</td>\n",
              "      <td>-0.114037</td>\n",
              "      <td>1.431058</td>\n",
              "      <td>-0.180285</td>\n",
              "      <td>-0.177358</td>\n",
              "      <td>-0.361861</td>\n",
              "      <td>-0.016628</td>\n",
              "      <td>-0.379495</td>\n",
              "      <td>-0.377746</td>\n",
              "      <td>-0.177450</td>\n",
              "      <td>-0.209578</td>\n",
              "      <td>3.906947</td>\n",
              "      <td>-0.244944</td>\n",
              "      <td>-0.335541</td>\n",
              "      <td>-0.067802</td>\n",
              "      <td>-0.381663</td>\n",
              "      <td>-0.142608</td>\n",
              "      <td>-0.355316</td>\n",
              "      <td>-0.171279</td>\n",
              "      <td>-0.227104</td>\n",
              "      <td>-0.825333</td>\n",
              "      <td>-0.585141</td>\n",
              "      <td>-0.17625</td>\n",
              "      <td>...</td>\n",
              "      <td>-0.048049</td>\n",
              "      <td>-0.042606</td>\n",
              "      <td>-0.054094</td>\n",
              "      <td>-0.046416</td>\n",
              "      <td>-0.029337</td>\n",
              "      <td>-0.057149</td>\n",
              "      <td>-0.052647</td>\n",
              "      <td>-0.029857</td>\n",
              "      <td>-0.065002</td>\n",
              "      <td>-0.029857</td>\n",
              "      <td>-0.044378</td>\n",
              "      <td>-0.036785</td>\n",
              "      <td>-0.005542</td>\n",
              "      <td>-0.019985</td>\n",
              "      <td>-0.024791</td>\n",
              "      <td>-0.019985</td>\n",
              "      <td>-0.055503</td>\n",
              "      <td>-0.036364</td>\n",
              "      <td>-0.027159</td>\n",
              "      <td>-0.047402</td>\n",
              "      <td>-0.049938</td>\n",
              "      <td>-0.043678</td>\n",
              "      <td>-0.023518</td>\n",
              "      <td>-0.141934</td>\n",
              "      <td>-0.032331</td>\n",
              "      <td>-0.135023</td>\n",
              "      <td>-0.02074</td>\n",
              "      <td>-0.03087</td>\n",
              "      <td>-0.078218</td>\n",
              "      <td>-0.042966</td>\n",
              "      <td>-0.033729</td>\n",
              "      <td>-0.059274</td>\n",
              "      <td>-0.019201</td>\n",
              "      <td>-0.049628</td>\n",
              "      <td>-0.039607</td>\n",
              "      <td>-0.023518</td>\n",
              "      <td>41.385225</td>\n",
              "      <td>-2.932948</td>\n",
              "      <td>-0.045408</td>\n",
              "      <td>-0.022173</td>\n",
              "    </tr>\n",
              "    <tr>\n",
              "      <th>1</th>\n",
              "      <td>0</td>\n",
              "      <td>-0.042642</td>\n",
              "      <td>-0.420060</td>\n",
              "      <td>-0.145920</td>\n",
              "      <td>-0.21666</td>\n",
              "      <td>0.774468</td>\n",
              "      <td>-0.174295</td>\n",
              "      <td>-0.262097</td>\n",
              "      <td>-0.014664</td>\n",
              "      <td>4.090813</td>\n",
              "      <td>-1.516792</td>\n",
              "      <td>-0.188389</td>\n",
              "      <td>-0.290936</td>\n",
              "      <td>-0.203761</td>\n",
              "      <td>-0.020740</td>\n",
              "      <td>-0.397508</td>\n",
              "      <td>-0.026587</td>\n",
              "      <td>1.083611</td>\n",
              "      <td>-0.114037</td>\n",
              "      <td>-0.698784</td>\n",
              "      <td>-0.180285</td>\n",
              "      <td>-0.177358</td>\n",
              "      <td>-0.361861</td>\n",
              "      <td>-0.016628</td>\n",
              "      <td>-0.379495</td>\n",
              "      <td>-0.377746</td>\n",
              "      <td>5.635383</td>\n",
              "      <td>-0.209578</td>\n",
              "      <td>-0.255954</td>\n",
              "      <td>-0.244944</td>\n",
              "      <td>-0.335541</td>\n",
              "      <td>-0.067802</td>\n",
              "      <td>-0.381663</td>\n",
              "      <td>-0.142608</td>\n",
              "      <td>-0.355316</td>\n",
              "      <td>-0.171279</td>\n",
              "      <td>-0.227104</td>\n",
              "      <td>1.211632</td>\n",
              "      <td>-0.585141</td>\n",
              "      <td>-0.17625</td>\n",
              "      <td>...</td>\n",
              "      <td>-0.048049</td>\n",
              "      <td>-0.042606</td>\n",
              "      <td>-0.054094</td>\n",
              "      <td>-0.046416</td>\n",
              "      <td>-0.029337</td>\n",
              "      <td>-0.057149</td>\n",
              "      <td>-0.052647</td>\n",
              "      <td>-0.029857</td>\n",
              "      <td>-0.065002</td>\n",
              "      <td>-0.029857</td>\n",
              "      <td>-0.044378</td>\n",
              "      <td>-0.036785</td>\n",
              "      <td>-0.005542</td>\n",
              "      <td>-0.019985</td>\n",
              "      <td>-0.024791</td>\n",
              "      <td>-0.019985</td>\n",
              "      <td>-0.055503</td>\n",
              "      <td>-0.036364</td>\n",
              "      <td>-0.027159</td>\n",
              "      <td>-0.047402</td>\n",
              "      <td>-0.049938</td>\n",
              "      <td>-0.043678</td>\n",
              "      <td>-0.023518</td>\n",
              "      <td>-0.141934</td>\n",
              "      <td>-0.032331</td>\n",
              "      <td>-0.135023</td>\n",
              "      <td>-0.02074</td>\n",
              "      <td>-0.03087</td>\n",
              "      <td>-0.078218</td>\n",
              "      <td>-0.042966</td>\n",
              "      <td>-0.033729</td>\n",
              "      <td>-0.059274</td>\n",
              "      <td>-0.019201</td>\n",
              "      <td>-0.049628</td>\n",
              "      <td>-0.039607</td>\n",
              "      <td>-0.023518</td>\n",
              "      <td>41.385225</td>\n",
              "      <td>-2.932948</td>\n",
              "      <td>-0.045408</td>\n",
              "      <td>-0.022173</td>\n",
              "    </tr>\n",
              "    <tr>\n",
              "      <th>2</th>\n",
              "      <td>1</td>\n",
              "      <td>-0.775768</td>\n",
              "      <td>0.746039</td>\n",
              "      <td>-0.145920</td>\n",
              "      <td>-0.21666</td>\n",
              "      <td>-0.035429</td>\n",
              "      <td>-0.174295</td>\n",
              "      <td>3.815376</td>\n",
              "      <td>-0.014664</td>\n",
              "      <td>-0.244450</td>\n",
              "      <td>-1.516792</td>\n",
              "      <td>-0.188389</td>\n",
              "      <td>-0.290936</td>\n",
              "      <td>-0.203761</td>\n",
              "      <td>-0.020740</td>\n",
              "      <td>-0.397508</td>\n",
              "      <td>-0.026587</td>\n",
              "      <td>1.083611</td>\n",
              "      <td>-0.114037</td>\n",
              "      <td>-0.698784</td>\n",
              "      <td>-0.180285</td>\n",
              "      <td>-0.177358</td>\n",
              "      <td>-0.361861</td>\n",
              "      <td>-0.016628</td>\n",
              "      <td>-0.379495</td>\n",
              "      <td>-0.377746</td>\n",
              "      <td>-0.177450</td>\n",
              "      <td>-0.209578</td>\n",
              "      <td>-0.255954</td>\n",
              "      <td>-0.244944</td>\n",
              "      <td>-0.335541</td>\n",
              "      <td>-0.067802</td>\n",
              "      <td>2.620110</td>\n",
              "      <td>-0.142608</td>\n",
              "      <td>-0.355316</td>\n",
              "      <td>-0.171279</td>\n",
              "      <td>-0.227104</td>\n",
              "      <td>1.211632</td>\n",
              "      <td>-0.585141</td>\n",
              "      <td>-0.17625</td>\n",
              "      <td>...</td>\n",
              "      <td>-0.048049</td>\n",
              "      <td>-0.042606</td>\n",
              "      <td>-0.054094</td>\n",
              "      <td>-0.046416</td>\n",
              "      <td>-0.029337</td>\n",
              "      <td>-0.057149</td>\n",
              "      <td>-0.052647</td>\n",
              "      <td>-0.029857</td>\n",
              "      <td>-0.065002</td>\n",
              "      <td>-0.029857</td>\n",
              "      <td>-0.044378</td>\n",
              "      <td>-0.036785</td>\n",
              "      <td>-0.005542</td>\n",
              "      <td>-0.019985</td>\n",
              "      <td>-0.024791</td>\n",
              "      <td>-0.019985</td>\n",
              "      <td>-0.055503</td>\n",
              "      <td>-0.036364</td>\n",
              "      <td>-0.027159</td>\n",
              "      <td>-0.047402</td>\n",
              "      <td>-0.049938</td>\n",
              "      <td>-0.043678</td>\n",
              "      <td>-0.023518</td>\n",
              "      <td>-0.141934</td>\n",
              "      <td>-0.032331</td>\n",
              "      <td>-0.135023</td>\n",
              "      <td>-0.02074</td>\n",
              "      <td>-0.03087</td>\n",
              "      <td>-0.078218</td>\n",
              "      <td>-0.042966</td>\n",
              "      <td>-0.033729</td>\n",
              "      <td>-0.059274</td>\n",
              "      <td>-0.019201</td>\n",
              "      <td>-0.049628</td>\n",
              "      <td>-0.039607</td>\n",
              "      <td>-0.023518</td>\n",
              "      <td>41.385225</td>\n",
              "      <td>-2.932948</td>\n",
              "      <td>-0.045408</td>\n",
              "      <td>-0.022173</td>\n",
              "    </tr>\n",
              "    <tr>\n",
              "      <th>3</th>\n",
              "      <td>1</td>\n",
              "      <td>0.397233</td>\n",
              "      <td>-0.031360</td>\n",
              "      <td>0.895083</td>\n",
              "      <td>-0.21666</td>\n",
              "      <td>-0.035429</td>\n",
              "      <td>-0.174295</td>\n",
              "      <td>-0.262097</td>\n",
              "      <td>-0.014664</td>\n",
              "      <td>4.090813</td>\n",
              "      <td>-1.516792</td>\n",
              "      <td>-0.188389</td>\n",
              "      <td>-0.290936</td>\n",
              "      <td>-0.203761</td>\n",
              "      <td>-0.020740</td>\n",
              "      <td>-0.397508</td>\n",
              "      <td>-0.026587</td>\n",
              "      <td>1.083611</td>\n",
              "      <td>-0.114037</td>\n",
              "      <td>-0.698784</td>\n",
              "      <td>-0.180285</td>\n",
              "      <td>-0.177358</td>\n",
              "      <td>-0.361861</td>\n",
              "      <td>-0.016628</td>\n",
              "      <td>-0.379495</td>\n",
              "      <td>-0.377746</td>\n",
              "      <td>-0.177450</td>\n",
              "      <td>-0.209578</td>\n",
              "      <td>3.906947</td>\n",
              "      <td>-0.244944</td>\n",
              "      <td>-0.335541</td>\n",
              "      <td>-0.067802</td>\n",
              "      <td>-0.381663</td>\n",
              "      <td>-0.142608</td>\n",
              "      <td>-0.355316</td>\n",
              "      <td>-0.171279</td>\n",
              "      <td>-0.227104</td>\n",
              "      <td>1.211632</td>\n",
              "      <td>-0.585141</td>\n",
              "      <td>-0.17625</td>\n",
              "      <td>...</td>\n",
              "      <td>-0.048049</td>\n",
              "      <td>-0.042606</td>\n",
              "      <td>-0.054094</td>\n",
              "      <td>-0.046416</td>\n",
              "      <td>-0.029337</td>\n",
              "      <td>-0.057149</td>\n",
              "      <td>-0.052647</td>\n",
              "      <td>-0.029857</td>\n",
              "      <td>-0.065002</td>\n",
              "      <td>-0.029857</td>\n",
              "      <td>-0.044378</td>\n",
              "      <td>-0.036785</td>\n",
              "      <td>-0.005542</td>\n",
              "      <td>-0.019985</td>\n",
              "      <td>-0.024791</td>\n",
              "      <td>-0.019985</td>\n",
              "      <td>-0.055503</td>\n",
              "      <td>-0.036364</td>\n",
              "      <td>-0.027159</td>\n",
              "      <td>-0.047402</td>\n",
              "      <td>-0.049938</td>\n",
              "      <td>-0.043678</td>\n",
              "      <td>-0.023518</td>\n",
              "      <td>-0.141934</td>\n",
              "      <td>-0.032331</td>\n",
              "      <td>-0.135023</td>\n",
              "      <td>-0.02074</td>\n",
              "      <td>-0.03087</td>\n",
              "      <td>-0.078218</td>\n",
              "      <td>-0.042966</td>\n",
              "      <td>-0.033729</td>\n",
              "      <td>-0.059274</td>\n",
              "      <td>-0.019201</td>\n",
              "      <td>-0.049628</td>\n",
              "      <td>-0.039607</td>\n",
              "      <td>-0.023518</td>\n",
              "      <td>41.385225</td>\n",
              "      <td>-2.932948</td>\n",
              "      <td>-0.045408</td>\n",
              "      <td>-0.022173</td>\n",
              "    </tr>\n",
              "    <tr>\n",
              "      <th>4</th>\n",
              "      <td>0</td>\n",
              "      <td>-1.508894</td>\n",
              "      <td>-0.031360</td>\n",
              "      <td>-0.145920</td>\n",
              "      <td>-0.21666</td>\n",
              "      <td>-0.845327</td>\n",
              "      <td>-0.174295</td>\n",
              "      <td>-0.262097</td>\n",
              "      <td>-0.014664</td>\n",
              "      <td>-0.244450</td>\n",
              "      <td>-1.516792</td>\n",
              "      <td>-0.188389</td>\n",
              "      <td>-0.290936</td>\n",
              "      <td>-0.203761</td>\n",
              "      <td>48.216032</td>\n",
              "      <td>-0.397508</td>\n",
              "      <td>-0.026587</td>\n",
              "      <td>-0.922841</td>\n",
              "      <td>-0.114037</td>\n",
              "      <td>1.431058</td>\n",
              "      <td>-0.180285</td>\n",
              "      <td>-0.177358</td>\n",
              "      <td>-0.361861</td>\n",
              "      <td>-0.016628</td>\n",
              "      <td>-0.379495</td>\n",
              "      <td>-0.377746</td>\n",
              "      <td>-0.177450</td>\n",
              "      <td>-0.209578</td>\n",
              "      <td>-0.255954</td>\n",
              "      <td>-0.244944</td>\n",
              "      <td>-0.335541</td>\n",
              "      <td>-0.067802</td>\n",
              "      <td>-0.381663</td>\n",
              "      <td>-0.142608</td>\n",
              "      <td>-0.355316</td>\n",
              "      <td>-0.171279</td>\n",
              "      <td>4.403278</td>\n",
              "      <td>-0.825333</td>\n",
              "      <td>-0.585141</td>\n",
              "      <td>-0.17625</td>\n",
              "      <td>...</td>\n",
              "      <td>-0.048049</td>\n",
              "      <td>-0.042606</td>\n",
              "      <td>-0.054094</td>\n",
              "      <td>-0.046416</td>\n",
              "      <td>-0.029337</td>\n",
              "      <td>-0.057149</td>\n",
              "      <td>-0.052647</td>\n",
              "      <td>-0.029857</td>\n",
              "      <td>-0.065002</td>\n",
              "      <td>-0.029857</td>\n",
              "      <td>-0.044378</td>\n",
              "      <td>-0.036785</td>\n",
              "      <td>-0.005542</td>\n",
              "      <td>-0.019985</td>\n",
              "      <td>-0.024791</td>\n",
              "      <td>-0.019985</td>\n",
              "      <td>-0.055503</td>\n",
              "      <td>-0.036364</td>\n",
              "      <td>-0.027159</td>\n",
              "      <td>-0.047402</td>\n",
              "      <td>-0.049938</td>\n",
              "      <td>-0.043678</td>\n",
              "      <td>-0.023518</td>\n",
              "      <td>-0.141934</td>\n",
              "      <td>-0.032331</td>\n",
              "      <td>-0.135023</td>\n",
              "      <td>-0.02074</td>\n",
              "      <td>-0.03087</td>\n",
              "      <td>-0.078218</td>\n",
              "      <td>-0.042966</td>\n",
              "      <td>-0.033729</td>\n",
              "      <td>-0.059274</td>\n",
              "      <td>-0.019201</td>\n",
              "      <td>-0.049628</td>\n",
              "      <td>-0.039607</td>\n",
              "      <td>-0.023518</td>\n",
              "      <td>41.385225</td>\n",
              "      <td>-2.932948</td>\n",
              "      <td>-0.045408</td>\n",
              "      <td>-0.022173</td>\n",
              "    </tr>\n",
              "  </tbody>\n",
              "</table>\n",
              "<p>5 rows × 92 columns</p>\n",
              "</div>"
            ],
            "text/plain": [
              "   income       age  education-num  capital-gain  capital-loss  hours-per-week  workclass_ Federal-gov  workclass_ Local-gov  workclass_ Never-worked  workclass_ Private  workclass_ Self-emp-inc  workclass_ Self-emp-not-inc  workclass_ State-gov  workclass_ Without-pay  workclass_Not Known  marital-status_ Divorced  marital-status_ Married-AF-spouse  marital-status_ Married-civ-spouse  marital-status_ Married-spouse-absent  marital-status_ Never-married  marital-status_ Separated  marital-status_ Widowed  occupation_ Adm-clerical  occupation_ Armed-Forces  occupation_ Craft-repair  occupation_ Exec-managerial  occupation_ Farming-fishing  occupation_ Handlers-cleaners  occupation_ Machine-op-inspct  occupation_ Other-service  occupation_ Priv-house-serv  occupation_ Prof-specialty  occupation_ Protective-serv  occupation_ Sales  occupation_ Tech-support  occupation_ Transport-moving  occupation_Not Known  relationship_ Husband  relationship_ Not-in-family  relationship_ Other-relative  ...  native-country_ China  native-country_ Columbia  native-country_ Cuba  native-country_ Dominican-Republic  native-country_ Ecuador  native-country_ El-Salvador  native-country_ England  native-country_ France  native-country_ Germany  native-country_ Greece  native-country_ Guatemala  native-country_ Haiti  native-country_Holand-Netherlands  native-country_ Honduras  native-country_ Hong  native-country_ Hungary  native-country_ India  native-country_ Iran  native-country_ Ireland  native-country_ Italy  native-country_ Jamaica  native-country_ Japan  native-country_ Laos  native-country_ Mexico  native-country_ Nicaragua  native-country_ Outlying-US(Guam-USVI-etc)  native-country_ Peru  native-country_ Philippines  native-country_ Poland  native-country_ Portugal  native-country_ Puerto-Rico  native-country_ Scotland  native-country_ South  native-country_ Taiwan  native-country_ Thailand  native-country_ Trinadad&Tobago  native-country_ United-States  native-country_ Vietnam  native-country_ Yugoslavia  native-country_Not Known\n",
              "0       0 -0.995706      -1.197459     -0.145920      -0.21666       -0.035429               -0.174295             -0.262097                -0.014664            4.090813                -1.516792                    -0.188389             -0.290936               -0.203761            -0.020740                 -0.397508                          -0.026587                           -0.922841                              -0.114037                       1.431058                  -0.180285                -0.177358                 -0.361861                 -0.016628                 -0.379495                    -0.377746                    -0.177450                      -0.209578                       3.906947                  -0.244944                    -0.335541                   -0.067802                    -0.381663          -0.142608                 -0.355316                     -0.171279             -0.227104              -0.825333                    -0.585141                      -0.17625  ...              -0.048049                 -0.042606             -0.054094                           -0.046416                -0.029337                    -0.057149                -0.052647               -0.029857                -0.065002               -0.029857                  -0.044378              -0.036785                          -0.005542                 -0.019985             -0.024791                -0.019985              -0.055503             -0.036364                -0.027159              -0.047402                -0.049938              -0.043678             -0.023518               -0.141934                  -0.032331                                   -0.135023              -0.02074                     -0.03087               -0.078218                 -0.042966                    -0.033729                 -0.059274              -0.019201               -0.049628                 -0.039607                        -0.023518                      41.385225                -2.932948                   -0.045408                 -0.022173\n",
              "1       0 -0.042642      -0.420060     -0.145920      -0.21666        0.774468               -0.174295             -0.262097                -0.014664            4.090813                -1.516792                    -0.188389             -0.290936               -0.203761            -0.020740                 -0.397508                          -0.026587                            1.083611                              -0.114037                      -0.698784                  -0.180285                -0.177358                 -0.361861                 -0.016628                 -0.379495                    -0.377746                     5.635383                      -0.209578                      -0.255954                  -0.244944                    -0.335541                   -0.067802                    -0.381663          -0.142608                 -0.355316                     -0.171279             -0.227104               1.211632                    -0.585141                      -0.17625  ...              -0.048049                 -0.042606             -0.054094                           -0.046416                -0.029337                    -0.057149                -0.052647               -0.029857                -0.065002               -0.029857                  -0.044378              -0.036785                          -0.005542                 -0.019985             -0.024791                -0.019985              -0.055503             -0.036364                -0.027159              -0.047402                -0.049938              -0.043678             -0.023518               -0.141934                  -0.032331                                   -0.135023              -0.02074                     -0.03087               -0.078218                 -0.042966                    -0.033729                 -0.059274              -0.019201               -0.049628                 -0.039607                        -0.023518                      41.385225                -2.932948                   -0.045408                 -0.022173\n",
              "2       1 -0.775768       0.746039     -0.145920      -0.21666       -0.035429               -0.174295              3.815376                -0.014664           -0.244450                -1.516792                    -0.188389             -0.290936               -0.203761            -0.020740                 -0.397508                          -0.026587                            1.083611                              -0.114037                      -0.698784                  -0.180285                -0.177358                 -0.361861                 -0.016628                 -0.379495                    -0.377746                    -0.177450                      -0.209578                      -0.255954                  -0.244944                    -0.335541                   -0.067802                     2.620110          -0.142608                 -0.355316                     -0.171279             -0.227104               1.211632                    -0.585141                      -0.17625  ...              -0.048049                 -0.042606             -0.054094                           -0.046416                -0.029337                    -0.057149                -0.052647               -0.029857                -0.065002               -0.029857                  -0.044378              -0.036785                          -0.005542                 -0.019985             -0.024791                -0.019985              -0.055503             -0.036364                -0.027159              -0.047402                -0.049938              -0.043678             -0.023518               -0.141934                  -0.032331                                   -0.135023              -0.02074                     -0.03087               -0.078218                 -0.042966                    -0.033729                 -0.059274              -0.019201               -0.049628                 -0.039607                        -0.023518                      41.385225                -2.932948                   -0.045408                 -0.022173\n",
              "3       1  0.397233      -0.031360      0.895083      -0.21666       -0.035429               -0.174295             -0.262097                -0.014664            4.090813                -1.516792                    -0.188389             -0.290936               -0.203761            -0.020740                 -0.397508                          -0.026587                            1.083611                              -0.114037                      -0.698784                  -0.180285                -0.177358                 -0.361861                 -0.016628                 -0.379495                    -0.377746                    -0.177450                      -0.209578                       3.906947                  -0.244944                    -0.335541                   -0.067802                    -0.381663          -0.142608                 -0.355316                     -0.171279             -0.227104               1.211632                    -0.585141                      -0.17625  ...              -0.048049                 -0.042606             -0.054094                           -0.046416                -0.029337                    -0.057149                -0.052647               -0.029857                -0.065002               -0.029857                  -0.044378              -0.036785                          -0.005542                 -0.019985             -0.024791                -0.019985              -0.055503             -0.036364                -0.027159              -0.047402                -0.049938              -0.043678             -0.023518               -0.141934                  -0.032331                                   -0.135023              -0.02074                     -0.03087               -0.078218                 -0.042966                    -0.033729                 -0.059274              -0.019201               -0.049628                 -0.039607                        -0.023518                      41.385225                -2.932948                   -0.045408                 -0.022173\n",
              "4       0 -1.508894      -0.031360     -0.145920      -0.21666       -0.845327               -0.174295             -0.262097                -0.014664           -0.244450                -1.516792                    -0.188389             -0.290936               -0.203761            48.216032                 -0.397508                          -0.026587                           -0.922841                              -0.114037                       1.431058                  -0.180285                -0.177358                 -0.361861                 -0.016628                 -0.379495                    -0.377746                    -0.177450                      -0.209578                      -0.255954                  -0.244944                    -0.335541                   -0.067802                    -0.381663          -0.142608                 -0.355316                     -0.171279              4.403278              -0.825333                    -0.585141                      -0.17625  ...              -0.048049                 -0.042606             -0.054094                           -0.046416                -0.029337                    -0.057149                -0.052647               -0.029857                -0.065002               -0.029857                  -0.044378              -0.036785                          -0.005542                 -0.019985             -0.024791                -0.019985              -0.055503             -0.036364                -0.027159              -0.047402                -0.049938              -0.043678             -0.023518               -0.141934                  -0.032331                                   -0.135023              -0.02074                     -0.03087               -0.078218                 -0.042966                    -0.033729                 -0.059274              -0.019201               -0.049628                 -0.039607                        -0.023518                      41.385225                -2.932948                   -0.045408                 -0.022173\n",
              "\n",
              "[5 rows x 92 columns]"
            ]
          },
          "execution_count": 51,
          "metadata": {},
          "output_type": "execute_result"
        }
      ],
      "source": [
        "test.head()"
      ]
    },
    {
      "cell_type": "markdown",
      "metadata": {
        "id": "c4uEPtOcbhDz"
      },
      "source": [
        "`Before the model building phase, the dimensions of the training dataset were 49440 instances and 92 attributes. `"
      ]
    },
    {
      "cell_type": "markdown",
      "metadata": {
        "id": "akNjrbhCaIL6"
      },
      "source": [
        "# **Model building with evaluation (Accuracy, Precision, Recall)**\n"
      ]
    },
    {
      "cell_type": "markdown",
      "metadata": {
        "id": "JWfR8a-vbkSH"
      },
      "source": [
        "` The below functions were used for generating the Confusion Matrix and for evaluating the performance of the models on the train and test data`"
      ]
    },
    {
      "cell_type": "code",
      "execution_count": null,
      "metadata": {
        "id": "yLXLcBGbqD_B"
      },
      "outputs": [],
      "source": [
        "# Function for confusion matrix\n",
        "def confusion_mat(true, pred):\n",
        "\n",
        "    classes = np.unique(true)  # extract the different classes\n",
        "    matrix = np.zeros((len(classes), len(classes)))  # initialize the confusion matrix with zeros\n",
        "\n",
        "    for i in range(len(classes)):\n",
        "        for j in range(len(classes)):\n",
        "            matrix[i, j] = np.sum((true == classes[i]) & (pred == classes[j]))\n",
        "\n",
        "    conf_df = pd.DataFrame(data=matrix,\n",
        "                          index=[\"Actual \"+str(classes[0]), \"Actual \"+str(classes[1])],\n",
        "                          columns=[\"Predicted \"+str(classes[0]), \"Predicted \"+str(classes[1])])\n",
        "    return conf_df\n",
        "\n",
        "\n",
        "\n",
        "# Function to compute performance evaluation metrics for a binary classification mode\n",
        "def performanceEval_binary(true, pred):\n",
        "\n",
        "    _NUMERIC_KINDS = set('buifc')\n",
        "    true = np.array(true)\n",
        "    pred = np.array(pred)\n",
        "\n",
        "    # Checking for the length of both the arrays to be equal\n",
        "    if(len(true) == len(pred)):\n",
        "\n",
        "        # Checking if any of the input array is non-numeric\n",
        "        if (not(true.dtype.kind in _NUMERIC_KINDS) or not(pred.dtype.kind in _NUMERIC_KINDS)):\n",
        "            print(\"Non numeric array detected in place of numeric\")\n",
        "\n",
        "        else:\n",
        "            true_unique = np.sort(np.unique(true))\n",
        "            pred_unique = np.sort(np.unique(pred))\n",
        "\n",
        "\n",
        "            # Checking if both the arrays have same classes\n",
        "            if (np.array_equal(true_unique, pred_unique)):\n",
        "\n",
        "                # Checking if it is a binary classification\n",
        "                if(len(true_unique) == 2):\n",
        "\n",
        "\n",
        "                    confusionMatrix = confusion_mat(true, pred)\n",
        "                    tp = confusionMatrix.iloc[1, 1]\n",
        "                    tn = confusionMatrix.iloc[0, 0]\n",
        "                    fp = confusionMatrix.iloc[0, 1]\n",
        "                    fn = confusionMatrix.iloc[1, 0]\n",
        "\n",
        "                    print(\"\\nConfusion Matrix is as follows (class 1 is target class)\\n\", confusionMatrix)\n",
        "                    print(\"\\nAccuracy is \", round(((tp+tn)/(tn+fp+fn+tp))*100,2),\"%\")\n",
        "                    print(\"Error is \", round((1-((tp+tn)/(tn+fp+fn+tp)))*100,2),\"%\")\n",
        "                    print(\"Recall is \", round(((tp)/(fn+tp))*100,2),\"%\")\n",
        "                    print(\"Precision is \", round(((tp)/(fp+tp))*100,2),\"%\")\n",
        "                else:\n",
        "                    print(\"“Non-binary classification result detected\")\n",
        "            else:\n",
        "                print(\"Classification present within arrays is different\")\n",
        "    else:\n",
        "        print(\"Length of arrays are not same to calculate performance\")"
      ]
    },
    {
      "cell_type": "code",
      "execution_count": null,
      "metadata": {
        "id": "4OcJD3OsHx99"
      },
      "outputs": [],
      "source": [
        "train_df, test_df = np.array(train, dtype=np.float64), np.array(test, dtype=np.float64)   \n",
        "X_train, y_train= train_df[:,1:], train_df[:,0]\n",
        "X_test, y_test= test_df[:,1:], test_df[:,0]"
      ]
    },
    {
      "cell_type": "markdown",
      "metadata": {
        "id": "oair8NvpbzCD"
      },
      "source": [
        "# Logistic Regression\n",
        "\n",
        "It is a parametric classification model that relies on a specific model relating the predictor variables with the target variable, such that the outcome variable is categorical in nature. \n",
        "\n",
        "The outcome variable can be modeled as a linear function of the predictors. \n",
        "\n",
        "Advantages: \n",
        "\n",
        "● Easy to interpret and offers an intuitive explanation of predictors. \n",
        "\n",
        "● Computationally fast and cheap to classify large samples of new data. \n",
        "\n",
        "Disadvantages: \n",
        "\n",
        "● Cannot be used to solve nonlinear problems. \n",
        "\n",
        "● Sensitive to outliers and cannot handle missing values. \n"
      ]
    },
    {
      "cell_type": "code",
      "execution_count": null,
      "metadata": {
        "id": "BBOfB7WB5sDr"
      },
      "outputs": [],
      "source": [
        "class LogisticRegression_ML:\n",
        "    def __init__(self, learningRate, tolerance, maxIteration, X_train, X_test, y_train, y_test):\n",
        "        self.learningRate = learningRate\n",
        "        self.tolerance = tolerance\n",
        "        self.maxIteration = maxIteration\n",
        "        self.X_train = X_train\n",
        "        self.X_test = X_test\n",
        "        self.y_train = y_train\n",
        "        self.y_test = y_test\n",
        "  \n",
        "    \n",
        "    def sigmoid(self, z):\n",
        "        #print(z)\n",
        "        sig = 1/(1+np.exp(-z))\n",
        "        return sig\n",
        "    \n",
        "\n",
        "    def costFunction(self, X, y):\n",
        "        #Negative log likelihood function\n",
        "        pred_ = np.log(np.ones(X.shape[0])+ np.exp(X.dot(self.w))) - X.dot(self.w).dot(y) \n",
        "        cost = pred_.sum()\n",
        "        return cost\n",
        "        \n",
        "\n",
        "    def gradient(self, X, y):\n",
        "        sig = self.sigmoid(X.dot(self.w))\n",
        "        grad = (sig - y).dot(X)\n",
        "        return grad\n",
        "    \n",
        "\n",
        "    def gradientDescent(self, X, y):\n",
        "        self.cost_sequences = []\n",
        "        last_cost = float('inf')\n",
        "        \n",
        "        for i in tqdm(range(self.maxIteration)):\n",
        "            self.w = self.w - self.learningRate* self.gradient(X,y)\n",
        "            cur_cost = self.costFunction(X,y)\n",
        "            diff = last_cost - cur_cost\n",
        "            last_cost = cur_cost\n",
        "            self.cost_sequences.append(cur_cost)\n",
        "            if diff<self.tolerance:\n",
        "                print('The model stopped - converged')\n",
        "                break\n",
        "        return \n",
        "\n",
        "\n",
        "\n",
        "    def predict(self, X):\n",
        "        sig = self.sigmoid(X.dot(self.w))\n",
        "        return np.around(sig)\n",
        "    \n",
        "  \n",
        "    \n",
        "    def runModel(self):\n",
        "        self.w = np.ones(self.X_train.shape[1], dtype = np.float64) * 0 # initializing 'w' with 0's\n",
        "        self.gradientDescent(self.X_train, self.y_train)\n",
        "        \n",
        "        #print(self.w)\n",
        "        y_hat_train = self.predict(self.X_train)\n",
        "        \n",
        "        print(\"\\n----------------------------------------------------------\")\n",
        "        print(\"Evaluation for training data:\")\n",
        "        performanceEval_binary(self.y_train,y_hat_train)\n",
        "\n",
        "        y_hat_test = self.predict(self.X_test)\n",
        "      \n",
        "        print(\"\\n----------------------------------------------------------\") \n",
        "        print(\"Evaluation for testing data:\")\n",
        "        performanceEval_binary(self.y_test,y_hat_test)\n"
      ]
    },
    {
      "cell_type": "code",
      "execution_count": null,
      "metadata": {
        "colab": {
          "base_uri": "https://localhost:8080/"
        },
        "id": "-ORfDCrF8SKl",
        "outputId": "8977fdb5-1fc2-4871-f048-7ef8a18e9948"
      },
      "outputs": [
        {
          "name": "stderr",
          "output_type": "stream",
          "text": [
            "100%|██████████| 400/400 [00:12<00:00, 31.20it/s]\n"
          ]
        },
        {
          "name": "stdout",
          "output_type": "stream",
          "text": [
            "\n",
            "----------------------------------------------------------\n",
            "Evaluation for training data:\n",
            "\n",
            "Confusion Matrix is as follows (class 1 is target class)\n",
            "             Predicted 0.0  Predicted 1.0\n",
            "Actual 0.0        17482.0         7238.0\n",
            "Actual 1.0         1694.0        23026.0\n",
            "\n",
            "Accuracy is  81.93 %\n",
            "Error is  18.07 %\n",
            "Recall is  93.15 %\n",
            "Precision is  76.08 %\n",
            "\n",
            "----------------------------------------------------------\n",
            "Evaluation for testing data:\n",
            "\n",
            "Confusion Matrix is as follows (class 1 is target class)\n",
            "             Predicted 0.0  Predicted 1.0\n",
            "Actual 0.0        10123.0         2312.0\n",
            "Actual 1.0          814.0         3032.0\n",
            "\n",
            "Accuracy is  80.8 %\n",
            "Error is  19.2 %\n",
            "Recall is  78.84 %\n",
            "Precision is  56.74 %\n"
          ]
        }
      ],
      "source": [
        "lr = LogisticRegression_ML(tolerance = 0.65, learningRate=0.00001, maxIteration=400,\n",
        "                        X_train = X_train, X_test = X_test, y_train = y_train, y_test = y_test)\n",
        "answer = lr.runModel()"
      ]
    },
    {
      "cell_type": "markdown",
      "metadata": {
        "id": "b9Eh7HIxb5UP"
      },
      "source": [
        "#### Bias-Variance Analysis:\n",
        "\n",
        "`Initially with tolerance = 0.8 and learning rate = 0.001, and maxIterations = 100, we were getting a training error of 12.62%, while the test error was 18.72%. From this we could observe that our model was overfitting, therefore this indicated that there  was low bias and high variance.`\n",
        "\n",
        "`To tackle the problem of overfitting, we manipulated the learning parameters, and the best parameters that resulted in reducing overfitting were for tolerance = 0.65, learning rate=0.00001, max iterations=400. Therefore, the logistic regression model resulted in 81.93% training accuracy and 80.81% test accuracy. And we can see from the confusion matrix that the model in general fits most of the data points correctly.`\n"
      ]
    },
    {
      "cell_type": "markdown",
      "metadata": {
        "id": "BtsHMSjc0hox"
      },
      "source": [
        "# SVM\n",
        "\n",
        "SVM uses the idea of identifying a hyperplane that is best to separate the features into different domains. The farther the Support Vector points are from the hyperplane, the higher is the probability of correctly classifying the points in their respective regions or classes. The support vector points are critical in determining the hyperplane because if the position of the vectors changes the hyperplane’s position is also altered. \n",
        "\n",
        "Advantages:\n",
        "\n",
        "● Works well with a clear margin of separation\n",
        "\n",
        "● Effective in high dimensional spaces\n",
        "\n",
        "Disadvantages:\n",
        "\n",
        "● Soft margin SVM had a high computation time and did not work well with our dataset"
      ]
    },
    {
      "cell_type": "code",
      "execution_count": null,
      "metadata": {
        "id": "icdYn2LW2Fy9"
      },
      "outputs": [],
      "source": [
        "class HardMarginSVM_ML:\n",
        "    \n",
        "    def __init__(self, X_train, X_test, y_train, y_test, learning_rate = 0.001, lamda = 0.01, n_iters = 200):\n",
        "        self.learning_rate = learning_rate\n",
        "        self.lamda = lamda\n",
        "        self.n_iters = n_iters\n",
        "        self.X_train = X_train\n",
        "        self.X_test = X_test\n",
        "        self.y_train = y_train\n",
        "        self.y_test = y_test\n",
        "        self.w = None\n",
        "        self.b = None\n",
        "\n",
        "\n",
        "    def fit(self):\n",
        "        self.y_test = np.where(self.y_test<=0, -1, self.y_test)\n",
        "        self.y_train = np.where(self.y_train<=0, -1, self.y_train) #convert y values to -1 and +1 \n",
        "        n_samples, n_features = self.X_train.shape\n",
        "        \n",
        "        self.w = np.zeros(n_features)\n",
        "        self.b = 0\n",
        "        \n",
        "        for i in range(self.n_iters):\n",
        "            for idx, x_i in enumerate(self.X_train):\n",
        "                condition = self.y_train[idx] * (np.dot(x_i, self.w) + self.b) >=1\n",
        "                \n",
        "                if condition:\n",
        "                    self.w = self.w + self.learning_rate *(2 * self.lamda * self.w)\n",
        "                else:\n",
        "                    self.w = self.w - self.learning_rate *(2 * self.lamda * self.w - np.dot(x_i, self.y_train[idx]))\n",
        "                    self.b = self.b - self.learning_rate * (-self.y_train[idx])\n",
        "    \n",
        "\n",
        "    def predict(self):\n",
        "        print(\"\\n----------------------------------------------------------\") \n",
        "        print(\"\\nEvaluation for training data:\")\n",
        "        approx = np.dot(self.X_train,self.w) + self.b\n",
        "        y_hat_train = np.sign(approx)\n",
        "        performanceEval_binary(self.y_train, y_hat_train)\n",
        "        #print(len(self.y_train))\n",
        "\n",
        "        print(\"\\n----------------------------------------------------------\") \n",
        "        print(\"\\nEvaluation for testing data:\")\n",
        "        approx = np.dot(self.X_test,self.w) + self.b\n",
        "        y_hat_test = np.sign(approx)\n",
        "        performanceEval_binary(self.y_test,y_hat_test)\n",
        "        "
      ]
    },
    {
      "cell_type": "markdown",
      "metadata": {
        "id": "23ptW76QgVry"
      },
      "source": [
        "#### Bias-Variance Analysis:\n",
        "\n",
        "`Initially with learning_rate =  0.000001, lamda = 0.01, n_iters = 200, we were getting a training error of 19.67%, while the test error was 18.01%. From this we could observe that our model was underfitting, therefore this indicated that there was high bias and low variance, i.e., the model does not generalize the data well.`\n",
        "\n",
        "`To tackle the problem of underfitting, we manipulated the learning parameters, and the best parameters that resulted in achieving the bias-variance tradeoff, were for learning_rate = 0.001, lamda = 0.01, n_iters = 200. Therefore, the SVM model resulted in 22.56% training error and 22.7% test error. And we can see from the confusion matrix that even though, a few data points were misclassified, the model in general fits most of the data points correctly.`"
      ]
    },
    {
      "cell_type": "code",
      "execution_count": null,
      "metadata": {
        "colab": {
          "base_uri": "https://localhost:8080/"
        },
        "id": "Br39hjy02KT4",
        "outputId": "62376287-ef3e-43b9-ec84-71e4029aa6da"
      },
      "outputs": [
        {
          "name": "stdout",
          "output_type": "stream",
          "text": [
            "\n",
            "----------------------------------------------------------\n",
            "\n",
            "Evaluation for training data:\n",
            "\n",
            "Confusion Matrix is as follows (class 1 is target class)\n",
            "              Predicted -1.0  Predicted 1.0\n",
            "Actual -1.0         22061.0         2659.0\n",
            "Actual 1.0           8493.0        16227.0\n",
            "\n",
            "Accuracy is  77.44 %\n",
            "Error is  22.56 %\n",
            "Recall is  65.64 %\n",
            "Precision is  85.92 %\n",
            "\n",
            "----------------------------------------------------------\n",
            "\n",
            "Evaluation for testing data:\n",
            "\n",
            "Confusion Matrix is as follows (class 1 is target class)\n",
            "              Predicted -1.0  Predicted 1.0\n",
            "Actual -1.0         10349.0         2086.0\n",
            "Actual 1.0           1610.0         2236.0\n",
            "\n",
            "Accuracy is  77.3 %\n",
            "Error is  22.7 %\n",
            "Recall is  58.14 %\n",
            "Precision is  51.74 %\n"
          ]
        }
      ],
      "source": [
        "clf = HardMarginSVM_ML(X_train = X_train, X_test = X_test, y_train = y_train, y_test = y_test)\n",
        "clf.fit()\n",
        "clf.predict()"
      ]
    },
    {
      "cell_type": "markdown",
      "metadata": {
        "id": "Od2El9YzJ8mN"
      },
      "source": [
        "# KNN"
      ]
    },
    {
      "cell_type": "markdown",
      "metadata": {
        "id": "VL939bBxiBMI"
      },
      "source": [
        "The  key idea of the k-NN Classification algorithm is the use of similar records in the training data to classify a new record from the test data. The k-nearest neighbors are used to determine the similar records, and then a majority decision rule is used to classify the new record as a member of the majority class of the k-neighbors.\n",
        "\n",
        "Advantages:\n",
        "\n",
        "● Simple method, with no parametric assumptions.\n",
        "\n",
        "● Performs well on large training datasets.\n",
        "\n",
        "Disadvantages:\n",
        "\n",
        "● Sensitive to large scale differences and outliers.\n",
        "\n",
        "● Time-consuming computation involved in finding the distances.\n",
        "\n",
        "● The number of records required in the training set to qualify as large increases exponentially\n",
        "with the number of predictors p."
      ]
    },
    {
      "cell_type": "code",
      "execution_count": null,
      "metadata": {
        "id": "O3Y432M70fMv"
      },
      "outputs": [],
      "source": [
        "class KNN:\n",
        "  def __init__(self, neighbors, X_train, X_test, y_train, y_test):\n",
        "    self.neighbors = neighbors\n",
        "    self.X_train = X_train\n",
        "    self.X_test = X_test\n",
        "    self.y_train = y_train\n",
        "    self.y_test = y_test\n",
        "\n",
        "\n",
        "#Euclidean Distance\n",
        "  def eucledian(self,p1,p2):\n",
        "      dist = np.sqrt(np.sum((p1-p2)**2))\n",
        "      return dist\n",
        "\n",
        "  def runModel(self):\n",
        "    predicted = []\n",
        "\n",
        "    for test_row in range(len(self.X_test)):\n",
        "      dist_list=[]\n",
        "      for train_row in range(len(self.X_train)):\n",
        "        distances = self.eucledian(self.X_train[train_row] ,self.X_test[test_row]) #Calculating the distance\n",
        "        dist_list.append(distances)\n",
        "      dist_list = np.array(dist_list)\n",
        "      #print(dist_list)\n",
        "\n",
        "      #Sorting the array while preserving the index#Keeping the first K datapoints\n",
        "      dist = np.argsort(dist_list)[:self.neighbors]\n",
        "\n",
        "      #Labels of the K datapoints from above\n",
        "      target = self.y_train[dist]\n",
        "         \n",
        "      #Majority voting\n",
        "      outcome = mode(target) \n",
        "      predicted.append(outcome.mode[0])\n",
        "\n",
        "    print(\"\\n----------------------------------------------------------\")\n",
        "    print(\"Evaluation for testing data:\")\n",
        "    performanceEval_binary(self.y_test,predicted)"
      ]
    },
    {
      "cell_type": "code",
      "execution_count": null,
      "metadata": {
        "colab": {
          "base_uri": "https://localhost:8080/"
        },
        "id": "r5O3vjKIO19T",
        "outputId": "6455237c-11ac-4a2d-e82f-41b57665d73d"
      },
      "outputs": [
        {
          "name": "stdout",
          "output_type": "stream",
          "text": [
            "\n",
            "----------------------------------------------------------\n",
            "Evaluation for testing data:\n",
            "\n",
            "Confusion Matrix is as follows (class 1 is target class)\n",
            "             Predicted 0.0  Predicted 1.0\n",
            "Actual 0.0        10427.0         2008.0\n",
            "Actual 1.0         2651.0         1195.0\n",
            "\n",
            "Accuracy is  71.38 %\n",
            "Error is  28.62 %\n",
            "Recall is  31.07 %\n",
            "Precision is  37.31 %\n"
          ]
        }
      ],
      "source": [
        "knn = KNN(neighbors = 3, X_train = X_train, X_test = X_test, y_train = y_train, y_test = y_test)\n",
        "answer = knn.runModel()"
      ]
    },
    {
      "cell_type": "markdown",
      "metadata": {
        "id": "l17PMYGnyyjW"
      },
      "source": [
        "# Neural Networks\n",
        "\n",
        "Neural networks are models which may be used for a classification or prediction problem. Some\n",
        "complex neural network models can also be used for deep neural networks or for feature extraction.\n",
        "The neural network model mimics the neurons present in human brains, as they have properties that\n",
        "resemble learning and memory based on experience.\n",
        "\n",
        "Advantages:\n",
        "\n",
        "● Results in a good predictive performance\n",
        "\n",
        "● Can tolerate noisy data \n",
        "\n",
        "● Capable of capturing highly complicated relationships between predictor variables and the target variable.\n",
        "\n",
        "Disadvantages:\n",
        "\n",
        "● Computationally expensive as they require longer runtime for training, which increases as the number of predictors increase\n",
        "\n",
        "● The structure of the model lacks interpretability.\n",
        "\n",
        "● Prone to overfitting.\n"
      ]
    },
    {
      "cell_type": "code",
      "execution_count": null,
      "metadata": {
        "colab": {
          "base_uri": "https://localhost:8080/"
        },
        "id": "Tkru9GZRy2VU",
        "outputId": "3c3c045d-13b6-4ab1-fbb7-b9275ff1f45f"
      },
      "outputs": [
        {
          "name": "stdout",
          "output_type": "stream",
          "text": [
            "Epoch 1/50\n",
            "1545/1545 [==============================] - 3s 2ms/step - loss: 0.3872 - accuracy: 0.8179\n",
            "Epoch 2/50\n",
            "1545/1545 [==============================] - 3s 2ms/step - loss: 0.3534 - accuracy: 0.8367\n",
            "Epoch 3/50\n",
            "1545/1545 [==============================] - 3s 2ms/step - loss: 0.3439 - accuracy: 0.8424\n",
            "Epoch 4/50\n",
            "1545/1545 [==============================] - 3s 2ms/step - loss: 0.3374 - accuracy: 0.8450\n",
            "Epoch 5/50\n",
            "1545/1545 [==============================] - 3s 2ms/step - loss: 0.3321 - accuracy: 0.8479\n",
            "Epoch 6/50\n",
            "1545/1545 [==============================] - 3s 2ms/step - loss: 0.3276 - accuracy: 0.8503\n",
            "Epoch 7/50\n",
            "1545/1545 [==============================] - 3s 2ms/step - loss: 0.3242 - accuracy: 0.8512\n",
            "Epoch 8/50\n",
            "1545/1545 [==============================] - 3s 2ms/step - loss: 0.3207 - accuracy: 0.8538\n",
            "Epoch 9/50\n",
            "1545/1545 [==============================] - 3s 2ms/step - loss: 0.3166 - accuracy: 0.8558\n",
            "Epoch 10/50\n",
            "1545/1545 [==============================] - 3s 2ms/step - loss: 0.3143 - accuracy: 0.8572\n",
            "Epoch 11/50\n",
            "1545/1545 [==============================] - 3s 2ms/step - loss: 0.3106 - accuracy: 0.8597\n",
            "Epoch 12/50\n",
            "1545/1545 [==============================] - 3s 2ms/step - loss: 0.3078 - accuracy: 0.8601\n",
            "Epoch 13/50\n",
            "1545/1545 [==============================] - 3s 2ms/step - loss: 0.3052 - accuracy: 0.8608\n",
            "Epoch 14/50\n",
            "1545/1545 [==============================] - 3s 2ms/step - loss: 0.3034 - accuracy: 0.8620\n",
            "Epoch 15/50\n",
            "1545/1545 [==============================] - 3s 2ms/step - loss: 0.3009 - accuracy: 0.8632\n",
            "Epoch 16/50\n",
            "1545/1545 [==============================] - 3s 2ms/step - loss: 0.2986 - accuracy: 0.8646\n",
            "Epoch 17/50\n",
            "1545/1545 [==============================] - 3s 2ms/step - loss: 0.2965 - accuracy: 0.8663\n",
            "Epoch 18/50\n",
            "1545/1545 [==============================] - 3s 2ms/step - loss: 0.2945 - accuracy: 0.8658\n",
            "Epoch 19/50\n",
            "1545/1545 [==============================] - 3s 2ms/step - loss: 0.2924 - accuracy: 0.8673\n",
            "Epoch 20/50\n",
            "1545/1545 [==============================] - 3s 2ms/step - loss: 0.2924 - accuracy: 0.8686\n",
            "Epoch 21/50\n",
            "1545/1545 [==============================] - 3s 2ms/step - loss: 0.2893 - accuracy: 0.8680\n",
            "Epoch 22/50\n",
            "1545/1545 [==============================] - 3s 2ms/step - loss: 0.2882 - accuracy: 0.8697\n",
            "Epoch 23/50\n",
            "1545/1545 [==============================] - 3s 2ms/step - loss: 0.2856 - accuracy: 0.8707\n",
            "Epoch 24/50\n",
            "1545/1545 [==============================] - 3s 2ms/step - loss: 0.2856 - accuracy: 0.8701\n",
            "Epoch 25/50\n",
            "1545/1545 [==============================] - 3s 2ms/step - loss: 0.2844 - accuracy: 0.8721\n",
            "Epoch 26/50\n",
            "1545/1545 [==============================] - 3s 2ms/step - loss: 0.2823 - accuracy: 0.8736\n",
            "Epoch 27/50\n",
            "1545/1545 [==============================] - 3s 2ms/step - loss: 0.2807 - accuracy: 0.8735\n",
            "Epoch 28/50\n",
            "1545/1545 [==============================] - 3s 2ms/step - loss: 0.2796 - accuracy: 0.8735\n",
            "Epoch 29/50\n",
            "1545/1545 [==============================] - 3s 2ms/step - loss: 0.2788 - accuracy: 0.8741\n",
            "Epoch 30/50\n",
            "1545/1545 [==============================] - 3s 2ms/step - loss: 0.2777 - accuracy: 0.8743\n",
            "Epoch 31/50\n",
            "1545/1545 [==============================] - 3s 2ms/step - loss: 0.2761 - accuracy: 0.8760\n",
            "Epoch 32/50\n",
            "1545/1545 [==============================] - 3s 2ms/step - loss: 0.2748 - accuracy: 0.8766\n",
            "Epoch 33/50\n",
            "1545/1545 [==============================] - 3s 2ms/step - loss: 0.2746 - accuracy: 0.8765\n",
            "Epoch 34/50\n",
            "1545/1545 [==============================] - 3s 2ms/step - loss: 0.2732 - accuracy: 0.8779\n",
            "Epoch 35/50\n",
            "1545/1545 [==============================] - 4s 2ms/step - loss: 0.2718 - accuracy: 0.8783\n",
            "Epoch 36/50\n",
            "1545/1545 [==============================] - 3s 2ms/step - loss: 0.2710 - accuracy: 0.8791\n",
            "Epoch 37/50\n",
            "1545/1545 [==============================] - 3s 2ms/step - loss: 0.2700 - accuracy: 0.8789\n",
            "Epoch 38/50\n",
            "1545/1545 [==============================] - 4s 2ms/step - loss: 0.2693 - accuracy: 0.8793\n",
            "Epoch 39/50\n",
            "1545/1545 [==============================] - 4s 3ms/step - loss: 0.2682 - accuracy: 0.8804\n",
            "Epoch 40/50\n",
            "1545/1545 [==============================] - 3s 2ms/step - loss: 0.2662 - accuracy: 0.8807\n",
            "Epoch 41/50\n",
            "1545/1545 [==============================] - 3s 2ms/step - loss: 0.2653 - accuracy: 0.8815\n",
            "Epoch 42/50\n",
            "1545/1545 [==============================] - 3s 2ms/step - loss: 0.2650 - accuracy: 0.8814\n",
            "Epoch 43/50\n",
            "1545/1545 [==============================] - 3s 2ms/step - loss: 0.2645 - accuracy: 0.8805\n",
            "Epoch 44/50\n",
            "1545/1545 [==============================] - 3s 2ms/step - loss: 0.2625 - accuracy: 0.8825\n",
            "Epoch 45/50\n",
            "1545/1545 [==============================] - 3s 2ms/step - loss: 0.2618 - accuracy: 0.8831\n",
            "Epoch 46/50\n",
            "1545/1545 [==============================] - 3s 2ms/step - loss: 0.2611 - accuracy: 0.8840\n",
            "Epoch 47/50\n",
            "1545/1545 [==============================] - 4s 2ms/step - loss: 0.2608 - accuracy: 0.8828\n",
            "Epoch 48/50\n",
            "1545/1545 [==============================] - 3s 2ms/step - loss: 0.2596 - accuracy: 0.8840\n",
            "Epoch 49/50\n",
            "1545/1545 [==============================] - 3s 2ms/step - loss: 0.2592 - accuracy: 0.8848\n",
            "Epoch 50/50\n",
            "1545/1545 [==============================] - 3s 2ms/step - loss: 0.2588 - accuracy: 0.8847\n",
            "509/509 [==============================] - 1s 1ms/step - loss: 3.1031 - accuracy: 0.7854\n",
            "Test Accuracy: 0.79\n"
          ]
        }
      ],
      "source": [
        "from keras.layers import Dense\n",
        "from tensorflow.keras.layers import *\n",
        "from tensorflow.keras import Model, Sequential\n",
        "\n",
        "n_features = X_train.shape[1]\n",
        "\n",
        "model = Sequential()\n",
        "model.add(Dense(60, activation='relu', input_shape=(n_features,)))\n",
        "model.add(Dense(30, activation='relu'))\n",
        "model.add(Dense(1, activation='sigmoid'))\n",
        "\n",
        "# compile the model\n",
        "model.compile(optimizer='adam', loss='binary_crossentropy', metrics=['accuracy'])\n",
        "# fit the model\n",
        "model.fit(X_train, y_train, epochs=50)\n",
        "# evaluate the model\n",
        "loss, acc = model.evaluate(X_test, y_test)\n",
        "print('Test Accuracy: %.2f' % acc)"
      ]
    }
  ],
  "metadata": {
    "accelerator": "TPU",
    "colab": {
      "collapsed_sections": [],
      "name": "IE 7374 - Project Code - Group 13.ipynb",
      "provenance": [],
      "toc_visible": true,
      "include_colab_link": true
    },
    "kernelspec": {
      "display_name": "Python 3",
      "language": "python",
      "name": "python3"
    },
    "language_info": {
      "codemirror_mode": {
        "name": "ipython",
        "version": 3
      },
      "file_extension": ".py",
      "mimetype": "text/x-python",
      "name": "python",
      "nbconvert_exporter": "python",
      "pygments_lexer": "ipython3",
      "version": "3.8.5"
    }
  },
  "nbformat": 4,
  "nbformat_minor": 0
}